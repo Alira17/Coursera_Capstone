{
 "cells": [
  {
   "cell_type": "markdown",
   "metadata": {
    "button": false,
    "new_sheet": false,
    "run_control": {
     "read_only": false
    }
   },
   "source": [
    "\n"
   ]
  },
  {
   "cell_type": "markdown",
   "metadata": {
    "button": false,
    "new_sheet": false,
    "run_control": {
     "read_only": false
    }
   },
   "source": [
    "### Import necessary Libraries\n"
   ]
  },
  {
   "cell_type": "code",
   "execution_count": 3,
   "metadata": {
    "button": false,
    "jupyter": {
     "outputs_hidden": false
    },
    "new_sheet": false,
    "run_control": {
     "read_only": false
    }
   },
   "outputs": [
    {
     "name": "stdout",
     "output_type": "stream",
     "text": [
      "Requirement already satisfied: geopy in /Users/dante_mabeck/opt/anaconda3/lib/python3.8/site-packages (2.1.0)\n",
      "Requirement already satisfied: geographiclib<2,>=1.49 in /Users/dante_mabeck/opt/anaconda3/lib/python3.8/site-packages (from geopy) (1.50)\n",
      "Requirement already satisfied: folium==0.5.0 in /Users/dante_mabeck/opt/anaconda3/lib/python3.8/site-packages (0.5.0)\n",
      "Requirement already satisfied: branca in /Users/dante_mabeck/opt/anaconda3/lib/python3.8/site-packages (from folium==0.5.0) (0.4.2)\n",
      "Requirement already satisfied: jinja2 in /Users/dante_mabeck/opt/anaconda3/lib/python3.8/site-packages (from folium==0.5.0) (2.11.2)\n",
      "Requirement already satisfied: requests in /Users/dante_mabeck/opt/anaconda3/lib/python3.8/site-packages (from folium==0.5.0) (2.24.0)\n",
      "Requirement already satisfied: six in /Users/dante_mabeck/opt/anaconda3/lib/python3.8/site-packages (from folium==0.5.0) (1.15.0)\n",
      "Requirement already satisfied: MarkupSafe>=0.23 in /Users/dante_mabeck/opt/anaconda3/lib/python3.8/site-packages (from jinja2->folium==0.5.0) (1.1.1)\n",
      "Requirement already satisfied: urllib3!=1.25.0,!=1.25.1,<1.26,>=1.21.1 in /Users/dante_mabeck/opt/anaconda3/lib/python3.8/site-packages (from requests->folium==0.5.0) (1.25.11)\n",
      "Requirement already satisfied: chardet<4,>=3.0.2 in /Users/dante_mabeck/opt/anaconda3/lib/python3.8/site-packages (from requests->folium==0.5.0) (3.0.4)\n",
      "Requirement already satisfied: idna<3,>=2.5 in /Users/dante_mabeck/opt/anaconda3/lib/python3.8/site-packages (from requests->folium==0.5.0) (2.10)\n",
      "Requirement already satisfied: certifi>=2017.4.17 in /Users/dante_mabeck/opt/anaconda3/lib/python3.8/site-packages (from requests->folium==0.5.0) (2020.6.20)\n",
      "Folium installed\n",
      "Libraries imported.\n"
     ]
    }
   ],
   "source": [
    "import requests # library to handle requests\n",
    "import pandas as pd # library for data analsysis\n",
    "import numpy as np # library to handle data in a vectorized manner\n",
    "import random # library for random number generation\n",
    "\n",
    "\n",
    "!pip install geopy\n",
    "from geopy.geocoders import Nominatim # module to convert an address into latitude and longitude values\n",
    "\n",
    "# libraries for displaying images\n",
    "from IPython.display import Image \n",
    "from IPython.core.display import HTML \n",
    "    \n",
    "# tranforming json file into a pandas dataframe library\n",
    "from pandas.io.json import json_normalize\n",
    "\n",
    "\n",
    "! pip install folium==0.5.0\n",
    "import folium # plotting library\n",
    "\n",
    "print('Folium installed')\n",
    "print('Libraries imported.')"
   ]
  },
  {
   "cell_type": "code",
   "execution_count": 4,
   "metadata": {
    "button": false,
    "jupyter": {
     "outputs_hidden": false
    },
    "new_sheet": false,
    "run_control": {
     "read_only": false
    }
   },
   "outputs": [
    {
     "name": "stdout",
     "output_type": "stream",
     "text": [
      "Your credentails:\n",
      "CLIENT_ID: 2Z3UZXIKCNOTBEIKO1HVNWDJ1JT0YAPMRSB4W5YXBPFSKW4N\n",
      "CLIENT_SECRET:AFML0IDZ5Y4J52JD24T2I4RJXIPJGB2IPU3ITU0EOEIY5JFV\n"
     ]
    }
   ],
   "source": [
    "CLIENT_ID = '2Z3UZXIKCNOTBEIKO1HVNWDJ1JT0YAPMRSB4W5YXBPFSKW4N' # your Foursquare ID\n",
    "CLIENT_SECRET = 'AFML0IDZ5Y4J52JD24T2I4RJXIPJGB2IPU3ITU0EOEIY5JFV' # your Foursquare Secret\n",
    "ACCESS_TOKEN = 'E5KQLGPNGEB0ZVV0IZI2FFAWELFS5TQVGG0G5O0QUYK2MLA0' # your FourSquare Access Token\n",
    "VERSION = '20180604'\n",
    "LIMIT = 30\n",
    "print('Your credentails:')\n",
    "print('CLIENT_ID: ' + CLIENT_ID)\n",
    "print('CLIENT_SECRET:' + CLIENT_SECRET)"
   ]
  },
  {
   "cell_type": "markdown",
   "metadata": {
    "button": false,
    "new_sheet": false,
    "run_control": {
     "read_only": false
    }
   },
   "source": [
    "\n"
   ]
  },
  {
   "cell_type": "markdown",
   "metadata": {},
   "source": [
    "Center in Marienplatz, Munich, Germany\n"
   ]
  },
  {
   "cell_type": "code",
   "execution_count": 6,
   "metadata": {
    "button": false,
    "jupyter": {
     "outputs_hidden": false
    },
    "new_sheet": false,
    "run_control": {
     "read_only": false
    }
   },
   "outputs": [
    {
     "name": "stdout",
     "output_type": "stream",
     "text": [
      "48.137031750000006 11.575924590567384\n"
     ]
    }
   ],
   "source": [
    "address = 'Marienplatz,Munich,Germany'\n",
    "\n",
    "geolocator = Nominatim(user_agent=\"foursquare_agent\")\n",
    "location = geolocator.geocode(address)\n",
    "latitude = location.latitude\n",
    "longitude = location.longitude\n",
    "print(latitude, longitude)"
   ]
  },
  {
   "cell_type": "markdown",
   "metadata": {
    "button": false,
    "new_sheet": false,
    "run_control": {
     "read_only": false
    }
   },
   "source": [
    "\n"
   ]
  },
  {
   "cell_type": "markdown",
   "metadata": {
    "button": false,
    "new_sheet": false,
    "run_control": {
     "read_only": false
    }
   },
   "source": [
    "<a id=\"item1\"></a>\n"
   ]
  },
  {
   "cell_type": "markdown",
   "metadata": {
    "button": false,
    "new_sheet": false,
    "run_control": {
     "read_only": false
    }
   },
   "source": [
    "#### Query to search venues using tapas on their name. We will use a radio of 2km as there are not so many in the closest area.\n",
    "\n"
   ]
  },
  {
   "cell_type": "code",
   "execution_count": 7,
   "metadata": {
    "button": false,
    "jupyter": {
     "outputs_hidden": false
    },
    "new_sheet": false,
    "run_control": {
     "read_only": false
    },
    "scrolled": true
   },
   "outputs": [
    {
     "name": "stdout",
     "output_type": "stream",
     "text": [
      "tapas .... OK!\n"
     ]
    }
   ],
   "source": [
    "search_query = 'tapas'\n",
    "radius = 2000\n",
    "print(search_query + ' .... OK!')"
   ]
  },
  {
   "cell_type": "markdown",
   "metadata": {
    "button": false,
    "new_sheet": false,
    "run_control": {
     "read_only": false
    }
   },
   "source": [
    "#### Define the corresponding URL\n"
   ]
  },
  {
   "cell_type": "code",
   "execution_count": 9,
   "metadata": {
    "button": false,
    "jupyter": {
     "outputs_hidden": false
    },
    "new_sheet": false,
    "run_control": {
     "read_only": false
    }
   },
   "outputs": [
    {
     "data": {
      "text/plain": [
       "'https://api.foursquare.com/v2/venues/search?client_id=2Z3UZXIKCNOTBEIKO1HVNWDJ1JT0YAPMRSB4W5YXBPFSKW4N&client_secret=AFML0IDZ5Y4J52JD24T2I4RJXIPJGB2IPU3ITU0EOEIY5JFV&ll=48.137031750000006,11.575924590567384&oauth_token=E5KQLGPNGEB0ZVV0IZI2FFAWELFS5TQVGG0G5O0QUYK2MLA0&v=20180604&query=tapas&radius=2000&limit=30'"
      ]
     },
     "execution_count": 9,
     "metadata": {},
     "output_type": "execute_result"
    }
   ],
   "source": [
    "url = 'https://api.foursquare.com/v2/venues/search?client_id={}&client_secret={}&ll={},{}&oauth_token={}&v={}&query={}&radius={}&limit={}'.format(CLIENT_ID, CLIENT_SECRET, latitude, longitude,ACCESS_TOKEN, VERSION, search_query, radius, LIMIT)\n",
    "url"
   ]
  },
  {
   "cell_type": "markdown",
   "metadata": {
    "button": false,
    "new_sheet": false,
    "run_control": {
     "read_only": false
    }
   },
   "source": [
    "#### Send the GET Request and examine the results\n"
   ]
  },
  {
   "cell_type": "code",
   "execution_count": 10,
   "metadata": {
    "button": false,
    "jupyter": {
     "outputs_hidden": false
    },
    "new_sheet": false,
    "run_control": {
     "read_only": false
    },
    "scrolled": true
   },
   "outputs": [
    {
     "data": {
      "text/plain": [
       "{'meta': {'code': 200, 'requestId': '6037e4551b89d42994008a3c'},\n",
       " 'notifications': [{'type': 'notificationTray', 'item': {'unreadCount': 0}}],\n",
       " 'response': {'venues': [{'id': '5f00c6badc54436be4a300a6',\n",
       "    'name': 'Hickory - Tapas BBQ Smokehouse - Haidhausen',\n",
       "    'location': {'address': 'Innere Wiener Str. 38',\n",
       "     'lat': 48.13388,\n",
       "     'lng': 11.595336,\n",
       "     'labeledLatLngs': [{'label': 'display',\n",
       "       'lat': 48.13388,\n",
       "       'lng': 11.595336}],\n",
       "     'distance': 1484,\n",
       "     'postalCode': '81667',\n",
       "     'cc': 'DE',\n",
       "     'neighborhood': 'Haidhausen',\n",
       "     'city': 'München',\n",
       "     'state': 'Bayern',\n",
       "     'country': 'Deutschland',\n",
       "     'formattedAddress': ['Innere Wiener Str. 38', '81667 München']},\n",
       "    'categories': [{'id': '4bf58dd8d48988d1df931735',\n",
       "      'name': 'BBQ Joint',\n",
       "      'pluralName': 'BBQ Joints',\n",
       "      'shortName': 'BBQ',\n",
       "      'icon': {'prefix': 'https://ss3.4sqi.net/img/categories_v2/food/bbqalt_',\n",
       "       'suffix': '.png'},\n",
       "      'primary': True}],\n",
       "    'referralId': 'v-1614275669',\n",
       "    'hasPerk': False},\n",
       "   {'id': '4ade0c9df964a5201b6821e3',\n",
       "    'name': 'Teatro Tapas',\n",
       "    'location': {'address': 'Balanstr. 23',\n",
       "     'lat': 48.12636219926552,\n",
       "     'lng': 11.59525384835218,\n",
       "     'labeledLatLngs': [{'label': 'display',\n",
       "       'lat': 48.12636219926552,\n",
       "       'lng': 11.59525384835218}],\n",
       "     'distance': 1863,\n",
       "     'postalCode': '81667',\n",
       "     'cc': 'DE',\n",
       "     'city': 'München',\n",
       "     'state': 'Bayern',\n",
       "     'country': 'Deutschland',\n",
       "     'formattedAddress': ['Balanstr. 23', '81667 München']},\n",
       "    'categories': [{'id': '4bf58dd8d48988d1db931735',\n",
       "      'name': 'Tapas Restaurant',\n",
       "      'pluralName': 'Tapas Restaurants',\n",
       "      'shortName': 'Tapas',\n",
       "      'icon': {'prefix': 'https://ss3.4sqi.net/img/categories_v2/food/tapas_',\n",
       "       'suffix': '.png'},\n",
       "      'primary': True}],\n",
       "    'referralId': 'v-1614275669',\n",
       "    'hasPerk': False},\n",
       "   {'id': '51f8f4f6498ef1a66e460f6f',\n",
       "    'name': 'Tönis Tapas',\n",
       "    'location': {'address': 'Lenbachplatz 8',\n",
       "     'crossStreet': 'Künstlerhaus Innenhof',\n",
       "     'lat': 48.140365,\n",
       "     'lng': 11.567429,\n",
       "     'labeledLatLngs': [{'label': 'display',\n",
       "       'lat': 48.140365,\n",
       "       'lng': 11.567429}],\n",
       "     'distance': 732,\n",
       "     'postalCode': '80333',\n",
       "     'cc': 'DE',\n",
       "     'city': 'München',\n",
       "     'state': 'Bayern',\n",
       "     'country': 'Deutschland',\n",
       "     'formattedAddress': ['Lenbachplatz 8 (Künstlerhaus Innenhof)',\n",
       "      '80333 München']},\n",
       "    'categories': [{'id': '4bf58dd8d48988d1db931735',\n",
       "      'name': 'Tapas Restaurant',\n",
       "      'pluralName': 'Tapas Restaurants',\n",
       "      'shortName': 'Tapas',\n",
       "      'icon': {'prefix': 'https://ss3.4sqi.net/img/categories_v2/food/tapas_',\n",
       "       'suffix': '.png'},\n",
       "      'primary': True}],\n",
       "    'referralId': 'v-1614275669',\n",
       "    'hasPerk': False},\n",
       "   {'id': '4f830f4ee4b024a26fbb1eca',\n",
       "    'name': 'Itxaso Tapas',\n",
       "    'location': {'address': 'Pestalozzistr. 7',\n",
       "     'lat': 48.13126223130549,\n",
       "     'lng': 11.567406793915307,\n",
       "     'labeledLatLngs': [{'label': 'display',\n",
       "       'lat': 48.13126223130549,\n",
       "       'lng': 11.567406793915307}],\n",
       "     'distance': 901,\n",
       "     'postalCode': '80469',\n",
       "     'cc': 'DE',\n",
       "     'city': 'München',\n",
       "     'state': 'Bayern',\n",
       "     'country': 'Deutschland',\n",
       "     'formattedAddress': ['Pestalozzistr. 7', '80469 München']},\n",
       "    'categories': [{'id': '4bf58dd8d48988d150941735',\n",
       "      'name': 'Spanish Restaurant',\n",
       "      'pluralName': 'Spanish Restaurants',\n",
       "      'shortName': 'Spanish',\n",
       "      'icon': {'prefix': 'https://ss3.4sqi.net/img/categories_v2/food/spanish_',\n",
       "       'suffix': '.png'},\n",
       "      'primary': True}],\n",
       "    'referralId': 'v-1614275669',\n",
       "    'hasPerk': False},\n",
       "   {'id': '4b8ecb87f964a520923733e3',\n",
       "    'name': 'Bar Tapas',\n",
       "    'location': {'address': 'Amalienstr. 97',\n",
       "     'lat': 48.15209404523311,\n",
       "     'lng': 11.579663019723325,\n",
       "     'labeledLatLngs': [{'label': 'display',\n",
       "       'lat': 48.15209404523311,\n",
       "       'lng': 11.579663019723325}],\n",
       "     'distance': 1699,\n",
       "     'postalCode': '80799',\n",
       "     'cc': 'DE',\n",
       "     'city': 'München',\n",
       "     'state': 'Bayern',\n",
       "     'country': 'Deutschland',\n",
       "     'formattedAddress': ['Amalienstr. 97', '80799 München']},\n",
       "    'categories': [{'id': '4bf58dd8d48988d150941735',\n",
       "      'name': 'Spanish Restaurant',\n",
       "      'pluralName': 'Spanish Restaurants',\n",
       "      'shortName': 'Spanish',\n",
       "      'icon': {'prefix': 'https://ss3.4sqi.net/img/categories_v2/food/spanish_',\n",
       "       'suffix': '.png'},\n",
       "      'primary': True}],\n",
       "    'referralId': 'v-1614275669',\n",
       "    'hasPerk': False},\n",
       "   {'id': '4b75ba5af964a52036202ee3',\n",
       "    'name': 'Tapas Tapas',\n",
       "    'location': {'address': 'Leopoldtstrasse 29',\n",
       "     'crossStreet': 'Gieselastrasse',\n",
       "     'lat': 48.158406295232346,\n",
       "     'lng': 11.58479614662208,\n",
       "     'labeledLatLngs': [{'label': 'display',\n",
       "       'lat': 48.158406295232346,\n",
       "       'lng': 11.58479614662208}],\n",
       "     'distance': 2468,\n",
       "     'postalCode': '80802',\n",
       "     'cc': 'DE',\n",
       "     'city': 'München',\n",
       "     'state': 'Bayern',\n",
       "     'country': 'Deutschland',\n",
       "     'formattedAddress': ['Leopoldtstrasse 29 (Gieselastrasse)',\n",
       "      '80802 München']},\n",
       "    'categories': [{'id': '4bf58dd8d48988d116941735',\n",
       "      'name': 'Bar',\n",
       "      'pluralName': 'Bars',\n",
       "      'shortName': 'Bar',\n",
       "      'icon': {'prefix': 'https://ss3.4sqi.net/img/categories_v2/nightlife/pub_',\n",
       "       'suffix': '.png'},\n",
       "      'primary': True}],\n",
       "    'referralId': 'v-1614275669',\n",
       "    'hasPerk': False},\n",
       "   {'id': '5bca4ecd5c6838002c548542',\n",
       "    'name': 'Amistad - tapas y vino',\n",
       "    'location': {'address': 'Georgenstrasse 37',\n",
       "     'lat': 48.154928,\n",
       "     'lng': 11.575906,\n",
       "     'labeledLatLngs': [{'label': 'display',\n",
       "       'lat': 48.154928,\n",
       "       'lng': 11.575906}],\n",
       "     'distance': 1992,\n",
       "     'postalCode': '80799',\n",
       "     'cc': 'DE',\n",
       "     'city': 'München',\n",
       "     'state': 'Bayern',\n",
       "     'country': 'Deutschland',\n",
       "     'formattedAddress': ['Georgenstrasse 37', '80799 München']},\n",
       "    'categories': [{'id': '4bf58dd8d48988d1c4941735',\n",
       "      'name': 'Restaurant',\n",
       "      'pluralName': 'Restaurants',\n",
       "      'shortName': 'Restaurant',\n",
       "      'icon': {'prefix': 'https://ss3.4sqi.net/img/categories_v2/food/default_',\n",
       "       'suffix': '.png'},\n",
       "      'primary': True}],\n",
       "    'venuePage': {'id': '562385757'},\n",
       "    'referralId': 'v-1614275669',\n",
       "    'hasPerk': False},\n",
       "   {'id': '50be1ff5e4b0fd4a60ae3f1e',\n",
       "    'name': 'bayrische tapasbar',\n",
       "    'location': {'lat': 48.14043045043945,\n",
       "     'lng': 11.560809135437012,\n",
       "     'labeledLatLngs': [{'label': 'display',\n",
       "       'lat': 48.14043045043945,\n",
       "       'lng': 11.560809135437012}],\n",
       "     'distance': 1184,\n",
       "     'cc': 'DE',\n",
       "     'country': 'Deutschland'},\n",
       "    'categories': [{'id': '4bf58dd8d48988d10d941735',\n",
       "      'name': 'German Restaurant',\n",
       "      'pluralName': 'German Restaurants',\n",
       "      'shortName': 'German',\n",
       "      'icon': {'prefix': 'https://ss3.4sqi.net/img/categories_v2/food/german_',\n",
       "       'suffix': '.png'},\n",
       "      'primary': True}],\n",
       "    'referralId': 'v-1614275669',\n",
       "    'hasPerk': False}]}}"
      ]
     },
     "execution_count": 10,
     "metadata": {},
     "output_type": "execute_result"
    }
   ],
   "source": [
    "results = requests.get(url).json()\n",
    "results"
   ]
  },
  {
   "cell_type": "markdown",
   "metadata": {
    "button": false,
    "new_sheet": false,
    "run_control": {
     "read_only": false
    }
   },
   "source": [
    "#### Get relevant part of JSON and transform it into a _pandas_ dataframe\n"
   ]
  },
  {
   "cell_type": "code",
   "execution_count": 12,
   "metadata": {
    "button": false,
    "jupyter": {
     "outputs_hidden": false
    },
    "new_sheet": false,
    "run_control": {
     "read_only": false
    }
   },
   "outputs": [
    {
     "name": "stderr",
     "output_type": "stream",
     "text": [
      "<ipython-input-12-5acf500bf9ad>:5: FutureWarning: pandas.io.json.json_normalize is deprecated, use pandas.json_normalize instead\n",
      "  dataframe = json_normalize(venues)\n"
     ]
    },
    {
     "data": {
      "text/html": [
       "<div>\n",
       "<style scoped>\n",
       "    .dataframe tbody tr th:only-of-type {\n",
       "        vertical-align: middle;\n",
       "    }\n",
       "\n",
       "    .dataframe tbody tr th {\n",
       "        vertical-align: top;\n",
       "    }\n",
       "\n",
       "    .dataframe thead th {\n",
       "        text-align: right;\n",
       "    }\n",
       "</style>\n",
       "<table border=\"1\" class=\"dataframe\">\n",
       "  <thead>\n",
       "    <tr style=\"text-align: right;\">\n",
       "      <th></th>\n",
       "      <th>id</th>\n",
       "      <th>name</th>\n",
       "      <th>categories</th>\n",
       "      <th>referralId</th>\n",
       "      <th>hasPerk</th>\n",
       "      <th>location.address</th>\n",
       "      <th>location.lat</th>\n",
       "      <th>location.lng</th>\n",
       "      <th>location.labeledLatLngs</th>\n",
       "      <th>location.distance</th>\n",
       "      <th>location.postalCode</th>\n",
       "      <th>location.cc</th>\n",
       "      <th>location.neighborhood</th>\n",
       "      <th>location.city</th>\n",
       "      <th>location.state</th>\n",
       "      <th>location.country</th>\n",
       "      <th>location.formattedAddress</th>\n",
       "      <th>location.crossStreet</th>\n",
       "      <th>venuePage.id</th>\n",
       "    </tr>\n",
       "  </thead>\n",
       "  <tbody>\n",
       "    <tr>\n",
       "      <th>0</th>\n",
       "      <td>5f00c6badc54436be4a300a6</td>\n",
       "      <td>Hickory - Tapas BBQ Smokehouse - Haidhausen</td>\n",
       "      <td>[{'id': '4bf58dd8d48988d1df931735', 'name': 'B...</td>\n",
       "      <td>v-1614275669</td>\n",
       "      <td>False</td>\n",
       "      <td>Innere Wiener Str. 38</td>\n",
       "      <td>48.133880</td>\n",
       "      <td>11.595336</td>\n",
       "      <td>[{'label': 'display', 'lat': 48.13388, 'lng': ...</td>\n",
       "      <td>1484</td>\n",
       "      <td>81667</td>\n",
       "      <td>DE</td>\n",
       "      <td>Haidhausen</td>\n",
       "      <td>München</td>\n",
       "      <td>Bayern</td>\n",
       "      <td>Deutschland</td>\n",
       "      <td>[Innere Wiener Str. 38, 81667 München]</td>\n",
       "      <td>NaN</td>\n",
       "      <td>NaN</td>\n",
       "    </tr>\n",
       "    <tr>\n",
       "      <th>1</th>\n",
       "      <td>4ade0c9df964a5201b6821e3</td>\n",
       "      <td>Teatro Tapas</td>\n",
       "      <td>[{'id': '4bf58dd8d48988d1db931735', 'name': 'T...</td>\n",
       "      <td>v-1614275669</td>\n",
       "      <td>False</td>\n",
       "      <td>Balanstr. 23</td>\n",
       "      <td>48.126362</td>\n",
       "      <td>11.595254</td>\n",
       "      <td>[{'label': 'display', 'lat': 48.12636219926552...</td>\n",
       "      <td>1863</td>\n",
       "      <td>81667</td>\n",
       "      <td>DE</td>\n",
       "      <td>NaN</td>\n",
       "      <td>München</td>\n",
       "      <td>Bayern</td>\n",
       "      <td>Deutschland</td>\n",
       "      <td>[Balanstr. 23, 81667 München]</td>\n",
       "      <td>NaN</td>\n",
       "      <td>NaN</td>\n",
       "    </tr>\n",
       "    <tr>\n",
       "      <th>2</th>\n",
       "      <td>51f8f4f6498ef1a66e460f6f</td>\n",
       "      <td>Tönis Tapas</td>\n",
       "      <td>[{'id': '4bf58dd8d48988d1db931735', 'name': 'T...</td>\n",
       "      <td>v-1614275669</td>\n",
       "      <td>False</td>\n",
       "      <td>Lenbachplatz 8</td>\n",
       "      <td>48.140365</td>\n",
       "      <td>11.567429</td>\n",
       "      <td>[{'label': 'display', 'lat': 48.140365, 'lng':...</td>\n",
       "      <td>732</td>\n",
       "      <td>80333</td>\n",
       "      <td>DE</td>\n",
       "      <td>NaN</td>\n",
       "      <td>München</td>\n",
       "      <td>Bayern</td>\n",
       "      <td>Deutschland</td>\n",
       "      <td>[Lenbachplatz 8 (Künstlerhaus Innenhof), 80333...</td>\n",
       "      <td>Künstlerhaus Innenhof</td>\n",
       "      <td>NaN</td>\n",
       "    </tr>\n",
       "    <tr>\n",
       "      <th>3</th>\n",
       "      <td>4f830f4ee4b024a26fbb1eca</td>\n",
       "      <td>Itxaso Tapas</td>\n",
       "      <td>[{'id': '4bf58dd8d48988d150941735', 'name': 'S...</td>\n",
       "      <td>v-1614275669</td>\n",
       "      <td>False</td>\n",
       "      <td>Pestalozzistr. 7</td>\n",
       "      <td>48.131262</td>\n",
       "      <td>11.567407</td>\n",
       "      <td>[{'label': 'display', 'lat': 48.13126223130549...</td>\n",
       "      <td>901</td>\n",
       "      <td>80469</td>\n",
       "      <td>DE</td>\n",
       "      <td>NaN</td>\n",
       "      <td>München</td>\n",
       "      <td>Bayern</td>\n",
       "      <td>Deutschland</td>\n",
       "      <td>[Pestalozzistr. 7, 80469 München]</td>\n",
       "      <td>NaN</td>\n",
       "      <td>NaN</td>\n",
       "    </tr>\n",
       "    <tr>\n",
       "      <th>4</th>\n",
       "      <td>4b8ecb87f964a520923733e3</td>\n",
       "      <td>Bar Tapas</td>\n",
       "      <td>[{'id': '4bf58dd8d48988d150941735', 'name': 'S...</td>\n",
       "      <td>v-1614275669</td>\n",
       "      <td>False</td>\n",
       "      <td>Amalienstr. 97</td>\n",
       "      <td>48.152094</td>\n",
       "      <td>11.579663</td>\n",
       "      <td>[{'label': 'display', 'lat': 48.15209404523311...</td>\n",
       "      <td>1699</td>\n",
       "      <td>80799</td>\n",
       "      <td>DE</td>\n",
       "      <td>NaN</td>\n",
       "      <td>München</td>\n",
       "      <td>Bayern</td>\n",
       "      <td>Deutschland</td>\n",
       "      <td>[Amalienstr. 97, 80799 München]</td>\n",
       "      <td>NaN</td>\n",
       "      <td>NaN</td>\n",
       "    </tr>\n",
       "  </tbody>\n",
       "</table>\n",
       "</div>"
      ],
      "text/plain": [
       "                         id                                         name  \\\n",
       "0  5f00c6badc54436be4a300a6  Hickory - Tapas BBQ Smokehouse - Haidhausen   \n",
       "1  4ade0c9df964a5201b6821e3                                 Teatro Tapas   \n",
       "2  51f8f4f6498ef1a66e460f6f                                  Tönis Tapas   \n",
       "3  4f830f4ee4b024a26fbb1eca                                 Itxaso Tapas   \n",
       "4  4b8ecb87f964a520923733e3                                    Bar Tapas   \n",
       "\n",
       "                                          categories    referralId  hasPerk  \\\n",
       "0  [{'id': '4bf58dd8d48988d1df931735', 'name': 'B...  v-1614275669    False   \n",
       "1  [{'id': '4bf58dd8d48988d1db931735', 'name': 'T...  v-1614275669    False   \n",
       "2  [{'id': '4bf58dd8d48988d1db931735', 'name': 'T...  v-1614275669    False   \n",
       "3  [{'id': '4bf58dd8d48988d150941735', 'name': 'S...  v-1614275669    False   \n",
       "4  [{'id': '4bf58dd8d48988d150941735', 'name': 'S...  v-1614275669    False   \n",
       "\n",
       "        location.address  location.lat  location.lng  \\\n",
       "0  Innere Wiener Str. 38     48.133880     11.595336   \n",
       "1           Balanstr. 23     48.126362     11.595254   \n",
       "2         Lenbachplatz 8     48.140365     11.567429   \n",
       "3       Pestalozzistr. 7     48.131262     11.567407   \n",
       "4         Amalienstr. 97     48.152094     11.579663   \n",
       "\n",
       "                             location.labeledLatLngs  location.distance  \\\n",
       "0  [{'label': 'display', 'lat': 48.13388, 'lng': ...               1484   \n",
       "1  [{'label': 'display', 'lat': 48.12636219926552...               1863   \n",
       "2  [{'label': 'display', 'lat': 48.140365, 'lng':...                732   \n",
       "3  [{'label': 'display', 'lat': 48.13126223130549...                901   \n",
       "4  [{'label': 'display', 'lat': 48.15209404523311...               1699   \n",
       "\n",
       "  location.postalCode location.cc location.neighborhood location.city  \\\n",
       "0               81667          DE            Haidhausen       München   \n",
       "1               81667          DE                   NaN       München   \n",
       "2               80333          DE                   NaN       München   \n",
       "3               80469          DE                   NaN       München   \n",
       "4               80799          DE                   NaN       München   \n",
       "\n",
       "  location.state location.country  \\\n",
       "0         Bayern      Deutschland   \n",
       "1         Bayern      Deutschland   \n",
       "2         Bayern      Deutschland   \n",
       "3         Bayern      Deutschland   \n",
       "4         Bayern      Deutschland   \n",
       "\n",
       "                           location.formattedAddress   location.crossStreet  \\\n",
       "0             [Innere Wiener Str. 38, 81667 München]                    NaN   \n",
       "1                      [Balanstr. 23, 81667 München]                    NaN   \n",
       "2  [Lenbachplatz 8 (Künstlerhaus Innenhof), 80333...  Künstlerhaus Innenhof   \n",
       "3                  [Pestalozzistr. 7, 80469 München]                    NaN   \n",
       "4                    [Amalienstr. 97, 80799 München]                    NaN   \n",
       "\n",
       "  venuePage.id  \n",
       "0          NaN  \n",
       "1          NaN  \n",
       "2          NaN  \n",
       "3          NaN  \n",
       "4          NaN  "
      ]
     },
     "execution_count": 12,
     "metadata": {},
     "output_type": "execute_result"
    }
   ],
   "source": [
    "# assign relevant part of JSON to venues\n",
    "venues = results['response']['venues']\n",
    "\n",
    "# tranform venues into a dataframe\n",
    "dataframe = json_normalize(venues)\n",
    "dataframe.head()"
   ]
  },
  {
   "cell_type": "code",
   "execution_count": 13,
   "metadata": {},
   "outputs": [
    {
     "data": {
      "text/plain": [
       "(8, 19)"
      ]
     },
     "execution_count": 13,
     "metadata": {},
     "output_type": "execute_result"
    }
   ],
   "source": [
    "dataframe.shape"
   ]
  },
  {
   "cell_type": "markdown",
   "metadata": {
    "button": false,
    "new_sheet": false,
    "run_control": {
     "read_only": false
    }
   },
   "source": [
    "#### Define information of interest and filter dataframe\n"
   ]
  },
  {
   "cell_type": "code",
   "execution_count": 14,
   "metadata": {
    "button": false,
    "jupyter": {
     "outputs_hidden": false
    },
    "new_sheet": false,
    "run_control": {
     "read_only": false
    },
    "scrolled": false
   },
   "outputs": [
    {
     "data": {
      "text/html": [
       "<div>\n",
       "<style scoped>\n",
       "    .dataframe tbody tr th:only-of-type {\n",
       "        vertical-align: middle;\n",
       "    }\n",
       "\n",
       "    .dataframe tbody tr th {\n",
       "        vertical-align: top;\n",
       "    }\n",
       "\n",
       "    .dataframe thead th {\n",
       "        text-align: right;\n",
       "    }\n",
       "</style>\n",
       "<table border=\"1\" class=\"dataframe\">\n",
       "  <thead>\n",
       "    <tr style=\"text-align: right;\">\n",
       "      <th></th>\n",
       "      <th>name</th>\n",
       "      <th>categories</th>\n",
       "      <th>address</th>\n",
       "      <th>lat</th>\n",
       "      <th>lng</th>\n",
       "      <th>labeledLatLngs</th>\n",
       "      <th>distance</th>\n",
       "      <th>postalCode</th>\n",
       "      <th>cc</th>\n",
       "      <th>neighborhood</th>\n",
       "      <th>city</th>\n",
       "      <th>state</th>\n",
       "      <th>country</th>\n",
       "      <th>formattedAddress</th>\n",
       "      <th>crossStreet</th>\n",
       "      <th>id</th>\n",
       "    </tr>\n",
       "  </thead>\n",
       "  <tbody>\n",
       "    <tr>\n",
       "      <th>0</th>\n",
       "      <td>Hickory - Tapas BBQ Smokehouse - Haidhausen</td>\n",
       "      <td>BBQ Joint</td>\n",
       "      <td>Innere Wiener Str. 38</td>\n",
       "      <td>48.133880</td>\n",
       "      <td>11.595336</td>\n",
       "      <td>[{'label': 'display', 'lat': 48.13388, 'lng': ...</td>\n",
       "      <td>1484</td>\n",
       "      <td>81667</td>\n",
       "      <td>DE</td>\n",
       "      <td>Haidhausen</td>\n",
       "      <td>München</td>\n",
       "      <td>Bayern</td>\n",
       "      <td>Deutschland</td>\n",
       "      <td>[Innere Wiener Str. 38, 81667 München]</td>\n",
       "      <td>NaN</td>\n",
       "      <td>5f00c6badc54436be4a300a6</td>\n",
       "    </tr>\n",
       "    <tr>\n",
       "      <th>1</th>\n",
       "      <td>Teatro Tapas</td>\n",
       "      <td>Tapas Restaurant</td>\n",
       "      <td>Balanstr. 23</td>\n",
       "      <td>48.126362</td>\n",
       "      <td>11.595254</td>\n",
       "      <td>[{'label': 'display', 'lat': 48.12636219926552...</td>\n",
       "      <td>1863</td>\n",
       "      <td>81667</td>\n",
       "      <td>DE</td>\n",
       "      <td>NaN</td>\n",
       "      <td>München</td>\n",
       "      <td>Bayern</td>\n",
       "      <td>Deutschland</td>\n",
       "      <td>[Balanstr. 23, 81667 München]</td>\n",
       "      <td>NaN</td>\n",
       "      <td>4ade0c9df964a5201b6821e3</td>\n",
       "    </tr>\n",
       "    <tr>\n",
       "      <th>2</th>\n",
       "      <td>Tönis Tapas</td>\n",
       "      <td>Tapas Restaurant</td>\n",
       "      <td>Lenbachplatz 8</td>\n",
       "      <td>48.140365</td>\n",
       "      <td>11.567429</td>\n",
       "      <td>[{'label': 'display', 'lat': 48.140365, 'lng':...</td>\n",
       "      <td>732</td>\n",
       "      <td>80333</td>\n",
       "      <td>DE</td>\n",
       "      <td>NaN</td>\n",
       "      <td>München</td>\n",
       "      <td>Bayern</td>\n",
       "      <td>Deutschland</td>\n",
       "      <td>[Lenbachplatz 8 (Künstlerhaus Innenhof), 80333...</td>\n",
       "      <td>Künstlerhaus Innenhof</td>\n",
       "      <td>51f8f4f6498ef1a66e460f6f</td>\n",
       "    </tr>\n",
       "    <tr>\n",
       "      <th>3</th>\n",
       "      <td>Itxaso Tapas</td>\n",
       "      <td>Spanish Restaurant</td>\n",
       "      <td>Pestalozzistr. 7</td>\n",
       "      <td>48.131262</td>\n",
       "      <td>11.567407</td>\n",
       "      <td>[{'label': 'display', 'lat': 48.13126223130549...</td>\n",
       "      <td>901</td>\n",
       "      <td>80469</td>\n",
       "      <td>DE</td>\n",
       "      <td>NaN</td>\n",
       "      <td>München</td>\n",
       "      <td>Bayern</td>\n",
       "      <td>Deutschland</td>\n",
       "      <td>[Pestalozzistr. 7, 80469 München]</td>\n",
       "      <td>NaN</td>\n",
       "      <td>4f830f4ee4b024a26fbb1eca</td>\n",
       "    </tr>\n",
       "    <tr>\n",
       "      <th>4</th>\n",
       "      <td>Bar Tapas</td>\n",
       "      <td>Spanish Restaurant</td>\n",
       "      <td>Amalienstr. 97</td>\n",
       "      <td>48.152094</td>\n",
       "      <td>11.579663</td>\n",
       "      <td>[{'label': 'display', 'lat': 48.15209404523311...</td>\n",
       "      <td>1699</td>\n",
       "      <td>80799</td>\n",
       "      <td>DE</td>\n",
       "      <td>NaN</td>\n",
       "      <td>München</td>\n",
       "      <td>Bayern</td>\n",
       "      <td>Deutschland</td>\n",
       "      <td>[Amalienstr. 97, 80799 München]</td>\n",
       "      <td>NaN</td>\n",
       "      <td>4b8ecb87f964a520923733e3</td>\n",
       "    </tr>\n",
       "    <tr>\n",
       "      <th>5</th>\n",
       "      <td>Tapas Tapas</td>\n",
       "      <td>Bar</td>\n",
       "      <td>Leopoldtstrasse 29</td>\n",
       "      <td>48.158406</td>\n",
       "      <td>11.584796</td>\n",
       "      <td>[{'label': 'display', 'lat': 48.15840629523234...</td>\n",
       "      <td>2468</td>\n",
       "      <td>80802</td>\n",
       "      <td>DE</td>\n",
       "      <td>NaN</td>\n",
       "      <td>München</td>\n",
       "      <td>Bayern</td>\n",
       "      <td>Deutschland</td>\n",
       "      <td>[Leopoldtstrasse 29 (Gieselastrasse), 80802 Mü...</td>\n",
       "      <td>Gieselastrasse</td>\n",
       "      <td>4b75ba5af964a52036202ee3</td>\n",
       "    </tr>\n",
       "    <tr>\n",
       "      <th>6</th>\n",
       "      <td>Amistad - tapas y vino</td>\n",
       "      <td>Restaurant</td>\n",
       "      <td>Georgenstrasse 37</td>\n",
       "      <td>48.154928</td>\n",
       "      <td>11.575906</td>\n",
       "      <td>[{'label': 'display', 'lat': 48.154928, 'lng':...</td>\n",
       "      <td>1992</td>\n",
       "      <td>80799</td>\n",
       "      <td>DE</td>\n",
       "      <td>NaN</td>\n",
       "      <td>München</td>\n",
       "      <td>Bayern</td>\n",
       "      <td>Deutschland</td>\n",
       "      <td>[Georgenstrasse 37, 80799 München]</td>\n",
       "      <td>NaN</td>\n",
       "      <td>5bca4ecd5c6838002c548542</td>\n",
       "    </tr>\n",
       "    <tr>\n",
       "      <th>7</th>\n",
       "      <td>bayrische tapasbar</td>\n",
       "      <td>German Restaurant</td>\n",
       "      <td>NaN</td>\n",
       "      <td>48.140430</td>\n",
       "      <td>11.560809</td>\n",
       "      <td>[{'label': 'display', 'lat': 48.14043045043945...</td>\n",
       "      <td>1184</td>\n",
       "      <td>NaN</td>\n",
       "      <td>DE</td>\n",
       "      <td>NaN</td>\n",
       "      <td>NaN</td>\n",
       "      <td>NaN</td>\n",
       "      <td>Deutschland</td>\n",
       "      <td>NaN</td>\n",
       "      <td>NaN</td>\n",
       "      <td>50be1ff5e4b0fd4a60ae3f1e</td>\n",
       "    </tr>\n",
       "  </tbody>\n",
       "</table>\n",
       "</div>"
      ],
      "text/plain": [
       "                                          name          categories  \\\n",
       "0  Hickory - Tapas BBQ Smokehouse - Haidhausen           BBQ Joint   \n",
       "1                                 Teatro Tapas    Tapas Restaurant   \n",
       "2                                  Tönis Tapas    Tapas Restaurant   \n",
       "3                                 Itxaso Tapas  Spanish Restaurant   \n",
       "4                                    Bar Tapas  Spanish Restaurant   \n",
       "5                                  Tapas Tapas                 Bar   \n",
       "6                       Amistad - tapas y vino          Restaurant   \n",
       "7                           bayrische tapasbar   German Restaurant   \n",
       "\n",
       "                 address        lat        lng  \\\n",
       "0  Innere Wiener Str. 38  48.133880  11.595336   \n",
       "1           Balanstr. 23  48.126362  11.595254   \n",
       "2         Lenbachplatz 8  48.140365  11.567429   \n",
       "3       Pestalozzistr. 7  48.131262  11.567407   \n",
       "4         Amalienstr. 97  48.152094  11.579663   \n",
       "5     Leopoldtstrasse 29  48.158406  11.584796   \n",
       "6      Georgenstrasse 37  48.154928  11.575906   \n",
       "7                    NaN  48.140430  11.560809   \n",
       "\n",
       "                                      labeledLatLngs  distance postalCode  cc  \\\n",
       "0  [{'label': 'display', 'lat': 48.13388, 'lng': ...      1484      81667  DE   \n",
       "1  [{'label': 'display', 'lat': 48.12636219926552...      1863      81667  DE   \n",
       "2  [{'label': 'display', 'lat': 48.140365, 'lng':...       732      80333  DE   \n",
       "3  [{'label': 'display', 'lat': 48.13126223130549...       901      80469  DE   \n",
       "4  [{'label': 'display', 'lat': 48.15209404523311...      1699      80799  DE   \n",
       "5  [{'label': 'display', 'lat': 48.15840629523234...      2468      80802  DE   \n",
       "6  [{'label': 'display', 'lat': 48.154928, 'lng':...      1992      80799  DE   \n",
       "7  [{'label': 'display', 'lat': 48.14043045043945...      1184        NaN  DE   \n",
       "\n",
       "  neighborhood     city   state      country  \\\n",
       "0   Haidhausen  München  Bayern  Deutschland   \n",
       "1          NaN  München  Bayern  Deutschland   \n",
       "2          NaN  München  Bayern  Deutschland   \n",
       "3          NaN  München  Bayern  Deutschland   \n",
       "4          NaN  München  Bayern  Deutschland   \n",
       "5          NaN  München  Bayern  Deutschland   \n",
       "6          NaN  München  Bayern  Deutschland   \n",
       "7          NaN      NaN     NaN  Deutschland   \n",
       "\n",
       "                                    formattedAddress            crossStreet  \\\n",
       "0             [Innere Wiener Str. 38, 81667 München]                    NaN   \n",
       "1                      [Balanstr. 23, 81667 München]                    NaN   \n",
       "2  [Lenbachplatz 8 (Künstlerhaus Innenhof), 80333...  Künstlerhaus Innenhof   \n",
       "3                  [Pestalozzistr. 7, 80469 München]                    NaN   \n",
       "4                    [Amalienstr. 97, 80799 München]                    NaN   \n",
       "5  [Leopoldtstrasse 29 (Gieselastrasse), 80802 Mü...         Gieselastrasse   \n",
       "6                 [Georgenstrasse 37, 80799 München]                    NaN   \n",
       "7                                                NaN                    NaN   \n",
       "\n",
       "                         id  \n",
       "0  5f00c6badc54436be4a300a6  \n",
       "1  4ade0c9df964a5201b6821e3  \n",
       "2  51f8f4f6498ef1a66e460f6f  \n",
       "3  4f830f4ee4b024a26fbb1eca  \n",
       "4  4b8ecb87f964a520923733e3  \n",
       "5  4b75ba5af964a52036202ee3  \n",
       "6  5bca4ecd5c6838002c548542  \n",
       "7  50be1ff5e4b0fd4a60ae3f1e  "
      ]
     },
     "execution_count": 14,
     "metadata": {},
     "output_type": "execute_result"
    }
   ],
   "source": [
    "# keep only columns that include venue name, and anything that is associated with location\n",
    "filtered_columns = ['name', 'categories'] + [col for col in dataframe.columns if col.startswith('location.')] + ['id']\n",
    "dataframe_filtered = dataframe.loc[:, filtered_columns]\n",
    "\n",
    "# function that extracts the category of the venue\n",
    "def get_category_type(row):\n",
    "    try:\n",
    "        categories_list = row['categories']\n",
    "    except:\n",
    "        categories_list = row['venue.categories']\n",
    "        \n",
    "    if len(categories_list) == 0:\n",
    "        return None\n",
    "    else:\n",
    "        return categories_list[0]['name']\n",
    "\n",
    "# filter the category for each row\n",
    "dataframe_filtered['categories'] = dataframe_filtered.apply(get_category_type, axis=1)\n",
    "\n",
    "# clean column names by keeping only last term\n",
    "dataframe_filtered.columns = [column.split('.')[-1] for column in dataframe_filtered.columns]\n",
    "\n",
    "dataframe_filtered"
   ]
  },
  {
   "cell_type": "code",
   "execution_count": 15,
   "metadata": {
    "button": false,
    "jupyter": {
     "outputs_hidden": false
    },
    "new_sheet": false,
    "run_control": {
     "read_only": false
    }
   },
   "outputs": [
    {
     "data": {
      "text/plain": [
       "0    Hickory - Tapas BBQ Smokehouse - Haidhausen\n",
       "1                                   Teatro Tapas\n",
       "2                                    Tönis Tapas\n",
       "3                                   Itxaso Tapas\n",
       "4                                      Bar Tapas\n",
       "5                                    Tapas Tapas\n",
       "6                         Amistad - tapas y vino\n",
       "7                             bayrische tapasbar\n",
       "Name: name, dtype: object"
      ]
     },
     "execution_count": 15,
     "metadata": {},
     "output_type": "execute_result"
    }
   ],
   "source": [
    "dataframe_filtered.name"
   ]
  },
  {
   "cell_type": "code",
   "execution_count": 16,
   "metadata": {},
   "outputs": [
    {
     "data": {
      "text/plain": [
       "(8, 16)"
      ]
     },
     "execution_count": 16,
     "metadata": {},
     "output_type": "execute_result"
    }
   ],
   "source": [
    "dataframe_filtered.shape"
   ]
  },
  {
   "cell_type": "code",
   "execution_count": 17,
   "metadata": {
    "button": false,
    "jupyter": {
     "outputs_hidden": false
    },
    "new_sheet": false,
    "run_control": {
     "read_only": false
    },
    "scrolled": true
   },
   "outputs": [
    {
     "data": {
      "text/html": [
       "<div style=\"width:100%;\"><div style=\"position:relative;width:100%;height:0;padding-bottom:60%;\"><span style=\"color:#565656\">Make this Notebook Trusted to load map: File -> Trust Notebook</span><iframe src=\"about:blank\" style=\"position:absolute;width:100%;height:100%;left:0;top:0;border:none !important;\" data-html=%3C%21DOCTYPE%20html%3E%0A%3Chead%3E%20%20%20%20%0A%20%20%20%20%3Cmeta%20http-equiv%3D%22content-type%22%20content%3D%22text/html%3B%20charset%3DUTF-8%22%20/%3E%0A%20%20%20%20%3Cscript%3EL_PREFER_CANVAS%20%3D%20false%3B%20L_NO_TOUCH%20%3D%20false%3B%20L_DISABLE_3D%20%3D%20false%3B%3C/script%3E%0A%20%20%20%20%3Cscript%20src%3D%22https%3A//cdn.jsdelivr.net/npm/leaflet%401.2.0/dist/leaflet.js%22%3E%3C/script%3E%0A%20%20%20%20%3Cscript%20src%3D%22https%3A//ajax.googleapis.com/ajax/libs/jquery/1.11.1/jquery.min.js%22%3E%3C/script%3E%0A%20%20%20%20%3Cscript%20src%3D%22https%3A//maxcdn.bootstrapcdn.com/bootstrap/3.2.0/js/bootstrap.min.js%22%3E%3C/script%3E%0A%20%20%20%20%3Cscript%20src%3D%22https%3A//cdnjs.cloudflare.com/ajax/libs/Leaflet.awesome-markers/2.0.2/leaflet.awesome-markers.js%22%3E%3C/script%3E%0A%20%20%20%20%3Clink%20rel%3D%22stylesheet%22%20href%3D%22https%3A//cdn.jsdelivr.net/npm/leaflet%401.2.0/dist/leaflet.css%22/%3E%0A%20%20%20%20%3Clink%20rel%3D%22stylesheet%22%20href%3D%22https%3A//maxcdn.bootstrapcdn.com/bootstrap/3.2.0/css/bootstrap.min.css%22/%3E%0A%20%20%20%20%3Clink%20rel%3D%22stylesheet%22%20href%3D%22https%3A//maxcdn.bootstrapcdn.com/bootstrap/3.2.0/css/bootstrap-theme.min.css%22/%3E%0A%20%20%20%20%3Clink%20rel%3D%22stylesheet%22%20href%3D%22https%3A//maxcdn.bootstrapcdn.com/font-awesome/4.6.3/css/font-awesome.min.css%22/%3E%0A%20%20%20%20%3Clink%20rel%3D%22stylesheet%22%20href%3D%22https%3A//cdnjs.cloudflare.com/ajax/libs/Leaflet.awesome-markers/2.0.2/leaflet.awesome-markers.css%22/%3E%0A%20%20%20%20%3Clink%20rel%3D%22stylesheet%22%20href%3D%22https%3A//rawgit.com/python-visualization/folium/master/folium/templates/leaflet.awesome.rotate.css%22/%3E%0A%20%20%20%20%3Cstyle%3Ehtml%2C%20body%20%7Bwidth%3A%20100%25%3Bheight%3A%20100%25%3Bmargin%3A%200%3Bpadding%3A%200%3B%7D%3C/style%3E%0A%20%20%20%20%3Cstyle%3E%23map%20%7Bposition%3Aabsolute%3Btop%3A0%3Bbottom%3A0%3Bright%3A0%3Bleft%3A0%3B%7D%3C/style%3E%0A%20%20%20%20%0A%20%20%20%20%20%20%20%20%20%20%20%20%3Cstyle%3E%20%23map_07ccbf655fcc4c9baee3272e4aed28cd%20%7B%0A%20%20%20%20%20%20%20%20%20%20%20%20%20%20%20%20position%20%3A%20relative%3B%0A%20%20%20%20%20%20%20%20%20%20%20%20%20%20%20%20width%20%3A%20100.0%25%3B%0A%20%20%20%20%20%20%20%20%20%20%20%20%20%20%20%20height%3A%20100.0%25%3B%0A%20%20%20%20%20%20%20%20%20%20%20%20%20%20%20%20left%3A%200.0%25%3B%0A%20%20%20%20%20%20%20%20%20%20%20%20%20%20%20%20top%3A%200.0%25%3B%0A%20%20%20%20%20%20%20%20%20%20%20%20%20%20%20%20%7D%0A%20%20%20%20%20%20%20%20%20%20%20%20%3C/style%3E%0A%20%20%20%20%20%20%20%20%0A%3C/head%3E%0A%3Cbody%3E%20%20%20%20%0A%20%20%20%20%0A%20%20%20%20%20%20%20%20%20%20%20%20%3Cdiv%20class%3D%22folium-map%22%20id%3D%22map_07ccbf655fcc4c9baee3272e4aed28cd%22%20%3E%3C/div%3E%0A%20%20%20%20%20%20%20%20%0A%3C/body%3E%0A%3Cscript%3E%20%20%20%20%0A%20%20%20%20%0A%0A%20%20%20%20%20%20%20%20%20%20%20%20%0A%20%20%20%20%20%20%20%20%20%20%20%20%20%20%20%20var%20bounds%20%3D%20null%3B%0A%20%20%20%20%20%20%20%20%20%20%20%20%0A%0A%20%20%20%20%20%20%20%20%20%20%20%20var%20map_07ccbf655fcc4c9baee3272e4aed28cd%20%3D%20L.map%28%0A%20%20%20%20%20%20%20%20%20%20%20%20%20%20%20%20%20%20%20%20%20%20%20%20%20%20%20%20%20%20%20%20%20%20%27map_07ccbf655fcc4c9baee3272e4aed28cd%27%2C%0A%20%20%20%20%20%20%20%20%20%20%20%20%20%20%20%20%20%20%20%20%20%20%20%20%20%20%20%20%20%20%20%20%20%20%7Bcenter%3A%20%5B48.137031750000006%2C11.575924590567384%5D%2C%0A%20%20%20%20%20%20%20%20%20%20%20%20%20%20%20%20%20%20%20%20%20%20%20%20%20%20%20%20%20%20%20%20%20%20zoom%3A%2013%2C%0A%20%20%20%20%20%20%20%20%20%20%20%20%20%20%20%20%20%20%20%20%20%20%20%20%20%20%20%20%20%20%20%20%20%20maxBounds%3A%20bounds%2C%0A%20%20%20%20%20%20%20%20%20%20%20%20%20%20%20%20%20%20%20%20%20%20%20%20%20%20%20%20%20%20%20%20%20%20layers%3A%20%5B%5D%2C%0A%20%20%20%20%20%20%20%20%20%20%20%20%20%20%20%20%20%20%20%20%20%20%20%20%20%20%20%20%20%20%20%20%20%20worldCopyJump%3A%20false%2C%0A%20%20%20%20%20%20%20%20%20%20%20%20%20%20%20%20%20%20%20%20%20%20%20%20%20%20%20%20%20%20%20%20%20%20crs%3A%20L.CRS.EPSG3857%0A%20%20%20%20%20%20%20%20%20%20%20%20%20%20%20%20%20%20%20%20%20%20%20%20%20%20%20%20%20%20%20%20%20%7D%29%3B%0A%20%20%20%20%20%20%20%20%20%20%20%20%0A%20%20%20%20%20%20%20%20%0A%20%20%20%20%0A%20%20%20%20%20%20%20%20%20%20%20%20var%20tile_layer_49e2f929fe8e4f0eb0ef047c56b76738%20%3D%20L.tileLayer%28%0A%20%20%20%20%20%20%20%20%20%20%20%20%20%20%20%20%27https%3A//%7Bs%7D.tile.openstreetmap.org/%7Bz%7D/%7Bx%7D/%7By%7D.png%27%2C%0A%20%20%20%20%20%20%20%20%20%20%20%20%20%20%20%20%7B%0A%20%20%22attribution%22%3A%20null%2C%0A%20%20%22detectRetina%22%3A%20false%2C%0A%20%20%22maxZoom%22%3A%2018%2C%0A%20%20%22minZoom%22%3A%201%2C%0A%20%20%22noWrap%22%3A%20false%2C%0A%20%20%22subdomains%22%3A%20%22abc%22%0A%7D%0A%20%20%20%20%20%20%20%20%20%20%20%20%20%20%20%20%29.addTo%28map_07ccbf655fcc4c9baee3272e4aed28cd%29%3B%0A%20%20%20%20%20%20%20%20%0A%20%20%20%20%0A%20%20%20%20%20%20%20%20%20%20%20%20var%20circle_marker_5651150f49f5405ca02ecf55d6e4616f%20%3D%20L.circleMarker%28%0A%20%20%20%20%20%20%20%20%20%20%20%20%20%20%20%20%5B48.137031750000006%2C11.575924590567384%5D%2C%0A%20%20%20%20%20%20%20%20%20%20%20%20%20%20%20%20%7B%0A%20%20%22bubblingMouseEvents%22%3A%20true%2C%0A%20%20%22color%22%3A%20%22red%22%2C%0A%20%20%22dashArray%22%3A%20null%2C%0A%20%20%22dashOffset%22%3A%20null%2C%0A%20%20%22fill%22%3A%20true%2C%0A%20%20%22fillColor%22%3A%20%22red%22%2C%0A%20%20%22fillOpacity%22%3A%200.6%2C%0A%20%20%22fillRule%22%3A%20%22evenodd%22%2C%0A%20%20%22lineCap%22%3A%20%22round%22%2C%0A%20%20%22lineJoin%22%3A%20%22round%22%2C%0A%20%20%22opacity%22%3A%201.0%2C%0A%20%20%22radius%22%3A%2010%2C%0A%20%20%22stroke%22%3A%20true%2C%0A%20%20%22weight%22%3A%203%0A%7D%0A%20%20%20%20%20%20%20%20%20%20%20%20%20%20%20%20%29.addTo%28map_07ccbf655fcc4c9baee3272e4aed28cd%29%3B%0A%20%20%20%20%20%20%20%20%20%20%20%20%0A%20%20%20%20%0A%20%20%20%20%20%20%20%20%20%20%20%20var%20popup_9b8d21b3251b4133a6691fdfafe15dcd%20%3D%20L.popup%28%7BmaxWidth%3A%20%27300%27%7D%29%3B%0A%0A%20%20%20%20%20%20%20%20%20%20%20%20%0A%20%20%20%20%20%20%20%20%20%20%20%20%20%20%20%20var%20html_e6ee6c1132a14eab87d34696af91e0bd%20%3D%20%24%28%27%3Cdiv%20id%3D%22html_e6ee6c1132a14eab87d34696af91e0bd%22%20style%3D%22width%3A%20100.0%25%3B%20height%3A%20100.0%25%3B%22%3EMarienplatz%3C/div%3E%27%29%5B0%5D%3B%0A%20%20%20%20%20%20%20%20%20%20%20%20%20%20%20%20popup_9b8d21b3251b4133a6691fdfafe15dcd.setContent%28html_e6ee6c1132a14eab87d34696af91e0bd%29%3B%0A%20%20%20%20%20%20%20%20%20%20%20%20%0A%0A%20%20%20%20%20%20%20%20%20%20%20%20circle_marker_5651150f49f5405ca02ecf55d6e4616f.bindPopup%28popup_9b8d21b3251b4133a6691fdfafe15dcd%29%3B%0A%0A%20%20%20%20%20%20%20%20%20%20%20%20%0A%20%20%20%20%20%20%20%20%0A%20%20%20%20%0A%20%20%20%20%20%20%20%20%20%20%20%20var%20circle_marker_5d355910036841aa8b44e4a60b7844cb%20%3D%20L.circleMarker%28%0A%20%20%20%20%20%20%20%20%20%20%20%20%20%20%20%20%5B48.13388%2C11.595336%5D%2C%0A%20%20%20%20%20%20%20%20%20%20%20%20%20%20%20%20%7B%0A%20%20%22bubblingMouseEvents%22%3A%20true%2C%0A%20%20%22color%22%3A%20%22blue%22%2C%0A%20%20%22dashArray%22%3A%20null%2C%0A%20%20%22dashOffset%22%3A%20null%2C%0A%20%20%22fill%22%3A%20true%2C%0A%20%20%22fillColor%22%3A%20%22blue%22%2C%0A%20%20%22fillOpacity%22%3A%200.6%2C%0A%20%20%22fillRule%22%3A%20%22evenodd%22%2C%0A%20%20%22lineCap%22%3A%20%22round%22%2C%0A%20%20%22lineJoin%22%3A%20%22round%22%2C%0A%20%20%22opacity%22%3A%201.0%2C%0A%20%20%22radius%22%3A%205%2C%0A%20%20%22stroke%22%3A%20true%2C%0A%20%20%22weight%22%3A%203%0A%7D%0A%20%20%20%20%20%20%20%20%20%20%20%20%20%20%20%20%29.addTo%28map_07ccbf655fcc4c9baee3272e4aed28cd%29%3B%0A%20%20%20%20%20%20%20%20%20%20%20%20%0A%20%20%20%20%0A%20%20%20%20%20%20%20%20%20%20%20%20var%20popup_96d07a3fa29c41af98f3d92f887476d4%20%3D%20L.popup%28%7BmaxWidth%3A%20%27300%27%7D%29%3B%0A%0A%20%20%20%20%20%20%20%20%20%20%20%20%0A%20%20%20%20%20%20%20%20%20%20%20%20%20%20%20%20var%20html_b0eeed2292374d42937a9813e3582806%20%3D%20%24%28%27%3Cdiv%20id%3D%22html_b0eeed2292374d42937a9813e3582806%22%20style%3D%22width%3A%20100.0%25%3B%20height%3A%20100.0%25%3B%22%3EBBQ%20Joint%3C/div%3E%27%29%5B0%5D%3B%0A%20%20%20%20%20%20%20%20%20%20%20%20%20%20%20%20popup_96d07a3fa29c41af98f3d92f887476d4.setContent%28html_b0eeed2292374d42937a9813e3582806%29%3B%0A%20%20%20%20%20%20%20%20%20%20%20%20%0A%0A%20%20%20%20%20%20%20%20%20%20%20%20circle_marker_5d355910036841aa8b44e4a60b7844cb.bindPopup%28popup_96d07a3fa29c41af98f3d92f887476d4%29%3B%0A%0A%20%20%20%20%20%20%20%20%20%20%20%20%0A%20%20%20%20%20%20%20%20%0A%20%20%20%20%0A%20%20%20%20%20%20%20%20%20%20%20%20var%20circle_marker_5ec28f59cb9d482ab7a56d588ac760eb%20%3D%20L.circleMarker%28%0A%20%20%20%20%20%20%20%20%20%20%20%20%20%20%20%20%5B48.12636219926552%2C11.59525384835218%5D%2C%0A%20%20%20%20%20%20%20%20%20%20%20%20%20%20%20%20%7B%0A%20%20%22bubblingMouseEvents%22%3A%20true%2C%0A%20%20%22color%22%3A%20%22blue%22%2C%0A%20%20%22dashArray%22%3A%20null%2C%0A%20%20%22dashOffset%22%3A%20null%2C%0A%20%20%22fill%22%3A%20true%2C%0A%20%20%22fillColor%22%3A%20%22blue%22%2C%0A%20%20%22fillOpacity%22%3A%200.6%2C%0A%20%20%22fillRule%22%3A%20%22evenodd%22%2C%0A%20%20%22lineCap%22%3A%20%22round%22%2C%0A%20%20%22lineJoin%22%3A%20%22round%22%2C%0A%20%20%22opacity%22%3A%201.0%2C%0A%20%20%22radius%22%3A%205%2C%0A%20%20%22stroke%22%3A%20true%2C%0A%20%20%22weight%22%3A%203%0A%7D%0A%20%20%20%20%20%20%20%20%20%20%20%20%20%20%20%20%29.addTo%28map_07ccbf655fcc4c9baee3272e4aed28cd%29%3B%0A%20%20%20%20%20%20%20%20%20%20%20%20%0A%20%20%20%20%0A%20%20%20%20%20%20%20%20%20%20%20%20var%20popup_16e001ab45194a529e123cf630a9f8d7%20%3D%20L.popup%28%7BmaxWidth%3A%20%27300%27%7D%29%3B%0A%0A%20%20%20%20%20%20%20%20%20%20%20%20%0A%20%20%20%20%20%20%20%20%20%20%20%20%20%20%20%20var%20html_a3f903e0e56d4df2959471447e47cbda%20%3D%20%24%28%27%3Cdiv%20id%3D%22html_a3f903e0e56d4df2959471447e47cbda%22%20style%3D%22width%3A%20100.0%25%3B%20height%3A%20100.0%25%3B%22%3ETapas%20Restaurant%3C/div%3E%27%29%5B0%5D%3B%0A%20%20%20%20%20%20%20%20%20%20%20%20%20%20%20%20popup_16e001ab45194a529e123cf630a9f8d7.setContent%28html_a3f903e0e56d4df2959471447e47cbda%29%3B%0A%20%20%20%20%20%20%20%20%20%20%20%20%0A%0A%20%20%20%20%20%20%20%20%20%20%20%20circle_marker_5ec28f59cb9d482ab7a56d588ac760eb.bindPopup%28popup_16e001ab45194a529e123cf630a9f8d7%29%3B%0A%0A%20%20%20%20%20%20%20%20%20%20%20%20%0A%20%20%20%20%20%20%20%20%0A%20%20%20%20%0A%20%20%20%20%20%20%20%20%20%20%20%20var%20circle_marker_aa248b76b1a049e2bfb0ad0cc0a15552%20%3D%20L.circleMarker%28%0A%20%20%20%20%20%20%20%20%20%20%20%20%20%20%20%20%5B48.140365%2C11.567429%5D%2C%0A%20%20%20%20%20%20%20%20%20%20%20%20%20%20%20%20%7B%0A%20%20%22bubblingMouseEvents%22%3A%20true%2C%0A%20%20%22color%22%3A%20%22blue%22%2C%0A%20%20%22dashArray%22%3A%20null%2C%0A%20%20%22dashOffset%22%3A%20null%2C%0A%20%20%22fill%22%3A%20true%2C%0A%20%20%22fillColor%22%3A%20%22blue%22%2C%0A%20%20%22fillOpacity%22%3A%200.6%2C%0A%20%20%22fillRule%22%3A%20%22evenodd%22%2C%0A%20%20%22lineCap%22%3A%20%22round%22%2C%0A%20%20%22lineJoin%22%3A%20%22round%22%2C%0A%20%20%22opacity%22%3A%201.0%2C%0A%20%20%22radius%22%3A%205%2C%0A%20%20%22stroke%22%3A%20true%2C%0A%20%20%22weight%22%3A%203%0A%7D%0A%20%20%20%20%20%20%20%20%20%20%20%20%20%20%20%20%29.addTo%28map_07ccbf655fcc4c9baee3272e4aed28cd%29%3B%0A%20%20%20%20%20%20%20%20%20%20%20%20%0A%20%20%20%20%0A%20%20%20%20%20%20%20%20%20%20%20%20var%20popup_3401c87ed19d46b4930cbbe5dfd8a74c%20%3D%20L.popup%28%7BmaxWidth%3A%20%27300%27%7D%29%3B%0A%0A%20%20%20%20%20%20%20%20%20%20%20%20%0A%20%20%20%20%20%20%20%20%20%20%20%20%20%20%20%20var%20html_fcaac011a8524709bf93bbf7dee2ce68%20%3D%20%24%28%27%3Cdiv%20id%3D%22html_fcaac011a8524709bf93bbf7dee2ce68%22%20style%3D%22width%3A%20100.0%25%3B%20height%3A%20100.0%25%3B%22%3ETapas%20Restaurant%3C/div%3E%27%29%5B0%5D%3B%0A%20%20%20%20%20%20%20%20%20%20%20%20%20%20%20%20popup_3401c87ed19d46b4930cbbe5dfd8a74c.setContent%28html_fcaac011a8524709bf93bbf7dee2ce68%29%3B%0A%20%20%20%20%20%20%20%20%20%20%20%20%0A%0A%20%20%20%20%20%20%20%20%20%20%20%20circle_marker_aa248b76b1a049e2bfb0ad0cc0a15552.bindPopup%28popup_3401c87ed19d46b4930cbbe5dfd8a74c%29%3B%0A%0A%20%20%20%20%20%20%20%20%20%20%20%20%0A%20%20%20%20%20%20%20%20%0A%20%20%20%20%0A%20%20%20%20%20%20%20%20%20%20%20%20var%20circle_marker_417ee32530a74cd9a33e1595acd8839e%20%3D%20L.circleMarker%28%0A%20%20%20%20%20%20%20%20%20%20%20%20%20%20%20%20%5B48.13126223130549%2C11.567406793915307%5D%2C%0A%20%20%20%20%20%20%20%20%20%20%20%20%20%20%20%20%7B%0A%20%20%22bubblingMouseEvents%22%3A%20true%2C%0A%20%20%22color%22%3A%20%22blue%22%2C%0A%20%20%22dashArray%22%3A%20null%2C%0A%20%20%22dashOffset%22%3A%20null%2C%0A%20%20%22fill%22%3A%20true%2C%0A%20%20%22fillColor%22%3A%20%22blue%22%2C%0A%20%20%22fillOpacity%22%3A%200.6%2C%0A%20%20%22fillRule%22%3A%20%22evenodd%22%2C%0A%20%20%22lineCap%22%3A%20%22round%22%2C%0A%20%20%22lineJoin%22%3A%20%22round%22%2C%0A%20%20%22opacity%22%3A%201.0%2C%0A%20%20%22radius%22%3A%205%2C%0A%20%20%22stroke%22%3A%20true%2C%0A%20%20%22weight%22%3A%203%0A%7D%0A%20%20%20%20%20%20%20%20%20%20%20%20%20%20%20%20%29.addTo%28map_07ccbf655fcc4c9baee3272e4aed28cd%29%3B%0A%20%20%20%20%20%20%20%20%20%20%20%20%0A%20%20%20%20%0A%20%20%20%20%20%20%20%20%20%20%20%20var%20popup_ce5e9709d4794da9abb7526a6bc8e2fa%20%3D%20L.popup%28%7BmaxWidth%3A%20%27300%27%7D%29%3B%0A%0A%20%20%20%20%20%20%20%20%20%20%20%20%0A%20%20%20%20%20%20%20%20%20%20%20%20%20%20%20%20var%20html_79ae1f5449424c18ab2ee61a81864a2a%20%3D%20%24%28%27%3Cdiv%20id%3D%22html_79ae1f5449424c18ab2ee61a81864a2a%22%20style%3D%22width%3A%20100.0%25%3B%20height%3A%20100.0%25%3B%22%3ESpanish%20Restaurant%3C/div%3E%27%29%5B0%5D%3B%0A%20%20%20%20%20%20%20%20%20%20%20%20%20%20%20%20popup_ce5e9709d4794da9abb7526a6bc8e2fa.setContent%28html_79ae1f5449424c18ab2ee61a81864a2a%29%3B%0A%20%20%20%20%20%20%20%20%20%20%20%20%0A%0A%20%20%20%20%20%20%20%20%20%20%20%20circle_marker_417ee32530a74cd9a33e1595acd8839e.bindPopup%28popup_ce5e9709d4794da9abb7526a6bc8e2fa%29%3B%0A%0A%20%20%20%20%20%20%20%20%20%20%20%20%0A%20%20%20%20%20%20%20%20%0A%20%20%20%20%0A%20%20%20%20%20%20%20%20%20%20%20%20var%20circle_marker_24a983b2d11841d4b7279fe0d244f671%20%3D%20L.circleMarker%28%0A%20%20%20%20%20%20%20%20%20%20%20%20%20%20%20%20%5B48.15209404523311%2C11.579663019723325%5D%2C%0A%20%20%20%20%20%20%20%20%20%20%20%20%20%20%20%20%7B%0A%20%20%22bubblingMouseEvents%22%3A%20true%2C%0A%20%20%22color%22%3A%20%22blue%22%2C%0A%20%20%22dashArray%22%3A%20null%2C%0A%20%20%22dashOffset%22%3A%20null%2C%0A%20%20%22fill%22%3A%20true%2C%0A%20%20%22fillColor%22%3A%20%22blue%22%2C%0A%20%20%22fillOpacity%22%3A%200.6%2C%0A%20%20%22fillRule%22%3A%20%22evenodd%22%2C%0A%20%20%22lineCap%22%3A%20%22round%22%2C%0A%20%20%22lineJoin%22%3A%20%22round%22%2C%0A%20%20%22opacity%22%3A%201.0%2C%0A%20%20%22radius%22%3A%205%2C%0A%20%20%22stroke%22%3A%20true%2C%0A%20%20%22weight%22%3A%203%0A%7D%0A%20%20%20%20%20%20%20%20%20%20%20%20%20%20%20%20%29.addTo%28map_07ccbf655fcc4c9baee3272e4aed28cd%29%3B%0A%20%20%20%20%20%20%20%20%20%20%20%20%0A%20%20%20%20%0A%20%20%20%20%20%20%20%20%20%20%20%20var%20popup_ef97db11a3674823a2964a4bec1fb885%20%3D%20L.popup%28%7BmaxWidth%3A%20%27300%27%7D%29%3B%0A%0A%20%20%20%20%20%20%20%20%20%20%20%20%0A%20%20%20%20%20%20%20%20%20%20%20%20%20%20%20%20var%20html_8d07d9692193487690cbdac99023b570%20%3D%20%24%28%27%3Cdiv%20id%3D%22html_8d07d9692193487690cbdac99023b570%22%20style%3D%22width%3A%20100.0%25%3B%20height%3A%20100.0%25%3B%22%3ESpanish%20Restaurant%3C/div%3E%27%29%5B0%5D%3B%0A%20%20%20%20%20%20%20%20%20%20%20%20%20%20%20%20popup_ef97db11a3674823a2964a4bec1fb885.setContent%28html_8d07d9692193487690cbdac99023b570%29%3B%0A%20%20%20%20%20%20%20%20%20%20%20%20%0A%0A%20%20%20%20%20%20%20%20%20%20%20%20circle_marker_24a983b2d11841d4b7279fe0d244f671.bindPopup%28popup_ef97db11a3674823a2964a4bec1fb885%29%3B%0A%0A%20%20%20%20%20%20%20%20%20%20%20%20%0A%20%20%20%20%20%20%20%20%0A%20%20%20%20%0A%20%20%20%20%20%20%20%20%20%20%20%20var%20circle_marker_faa397691d424bf3bf759a05b3014877%20%3D%20L.circleMarker%28%0A%20%20%20%20%20%20%20%20%20%20%20%20%20%20%20%20%5B48.158406295232346%2C11.58479614662208%5D%2C%0A%20%20%20%20%20%20%20%20%20%20%20%20%20%20%20%20%7B%0A%20%20%22bubblingMouseEvents%22%3A%20true%2C%0A%20%20%22color%22%3A%20%22blue%22%2C%0A%20%20%22dashArray%22%3A%20null%2C%0A%20%20%22dashOffset%22%3A%20null%2C%0A%20%20%22fill%22%3A%20true%2C%0A%20%20%22fillColor%22%3A%20%22blue%22%2C%0A%20%20%22fillOpacity%22%3A%200.6%2C%0A%20%20%22fillRule%22%3A%20%22evenodd%22%2C%0A%20%20%22lineCap%22%3A%20%22round%22%2C%0A%20%20%22lineJoin%22%3A%20%22round%22%2C%0A%20%20%22opacity%22%3A%201.0%2C%0A%20%20%22radius%22%3A%205%2C%0A%20%20%22stroke%22%3A%20true%2C%0A%20%20%22weight%22%3A%203%0A%7D%0A%20%20%20%20%20%20%20%20%20%20%20%20%20%20%20%20%29.addTo%28map_07ccbf655fcc4c9baee3272e4aed28cd%29%3B%0A%20%20%20%20%20%20%20%20%20%20%20%20%0A%20%20%20%20%0A%20%20%20%20%20%20%20%20%20%20%20%20var%20popup_60e555b92ad1485e997996108fb7c4b2%20%3D%20L.popup%28%7BmaxWidth%3A%20%27300%27%7D%29%3B%0A%0A%20%20%20%20%20%20%20%20%20%20%20%20%0A%20%20%20%20%20%20%20%20%20%20%20%20%20%20%20%20var%20html_60148a40b0954012829e027158dd89ef%20%3D%20%24%28%27%3Cdiv%20id%3D%22html_60148a40b0954012829e027158dd89ef%22%20style%3D%22width%3A%20100.0%25%3B%20height%3A%20100.0%25%3B%22%3EBar%3C/div%3E%27%29%5B0%5D%3B%0A%20%20%20%20%20%20%20%20%20%20%20%20%20%20%20%20popup_60e555b92ad1485e997996108fb7c4b2.setContent%28html_60148a40b0954012829e027158dd89ef%29%3B%0A%20%20%20%20%20%20%20%20%20%20%20%20%0A%0A%20%20%20%20%20%20%20%20%20%20%20%20circle_marker_faa397691d424bf3bf759a05b3014877.bindPopup%28popup_60e555b92ad1485e997996108fb7c4b2%29%3B%0A%0A%20%20%20%20%20%20%20%20%20%20%20%20%0A%20%20%20%20%20%20%20%20%0A%20%20%20%20%0A%20%20%20%20%20%20%20%20%20%20%20%20var%20circle_marker_e2df187b7beb40dea3cbff35b61743b9%20%3D%20L.circleMarker%28%0A%20%20%20%20%20%20%20%20%20%20%20%20%20%20%20%20%5B48.154928%2C11.575906%5D%2C%0A%20%20%20%20%20%20%20%20%20%20%20%20%20%20%20%20%7B%0A%20%20%22bubblingMouseEvents%22%3A%20true%2C%0A%20%20%22color%22%3A%20%22blue%22%2C%0A%20%20%22dashArray%22%3A%20null%2C%0A%20%20%22dashOffset%22%3A%20null%2C%0A%20%20%22fill%22%3A%20true%2C%0A%20%20%22fillColor%22%3A%20%22blue%22%2C%0A%20%20%22fillOpacity%22%3A%200.6%2C%0A%20%20%22fillRule%22%3A%20%22evenodd%22%2C%0A%20%20%22lineCap%22%3A%20%22round%22%2C%0A%20%20%22lineJoin%22%3A%20%22round%22%2C%0A%20%20%22opacity%22%3A%201.0%2C%0A%20%20%22radius%22%3A%205%2C%0A%20%20%22stroke%22%3A%20true%2C%0A%20%20%22weight%22%3A%203%0A%7D%0A%20%20%20%20%20%20%20%20%20%20%20%20%20%20%20%20%29.addTo%28map_07ccbf655fcc4c9baee3272e4aed28cd%29%3B%0A%20%20%20%20%20%20%20%20%20%20%20%20%0A%20%20%20%20%0A%20%20%20%20%20%20%20%20%20%20%20%20var%20popup_bb0b75bf700947cea6281cd685a64ecf%20%3D%20L.popup%28%7BmaxWidth%3A%20%27300%27%7D%29%3B%0A%0A%20%20%20%20%20%20%20%20%20%20%20%20%0A%20%20%20%20%20%20%20%20%20%20%20%20%20%20%20%20var%20html_9a41f0be24d14b448e5fe0777acedf93%20%3D%20%24%28%27%3Cdiv%20id%3D%22html_9a41f0be24d14b448e5fe0777acedf93%22%20style%3D%22width%3A%20100.0%25%3B%20height%3A%20100.0%25%3B%22%3ERestaurant%3C/div%3E%27%29%5B0%5D%3B%0A%20%20%20%20%20%20%20%20%20%20%20%20%20%20%20%20popup_bb0b75bf700947cea6281cd685a64ecf.setContent%28html_9a41f0be24d14b448e5fe0777acedf93%29%3B%0A%20%20%20%20%20%20%20%20%20%20%20%20%0A%0A%20%20%20%20%20%20%20%20%20%20%20%20circle_marker_e2df187b7beb40dea3cbff35b61743b9.bindPopup%28popup_bb0b75bf700947cea6281cd685a64ecf%29%3B%0A%0A%20%20%20%20%20%20%20%20%20%20%20%20%0A%20%20%20%20%20%20%20%20%0A%20%20%20%20%0A%20%20%20%20%20%20%20%20%20%20%20%20var%20circle_marker_09ae1b5697464d64a84900329c731334%20%3D%20L.circleMarker%28%0A%20%20%20%20%20%20%20%20%20%20%20%20%20%20%20%20%5B48.14043045043945%2C11.560809135437012%5D%2C%0A%20%20%20%20%20%20%20%20%20%20%20%20%20%20%20%20%7B%0A%20%20%22bubblingMouseEvents%22%3A%20true%2C%0A%20%20%22color%22%3A%20%22blue%22%2C%0A%20%20%22dashArray%22%3A%20null%2C%0A%20%20%22dashOffset%22%3A%20null%2C%0A%20%20%22fill%22%3A%20true%2C%0A%20%20%22fillColor%22%3A%20%22blue%22%2C%0A%20%20%22fillOpacity%22%3A%200.6%2C%0A%20%20%22fillRule%22%3A%20%22evenodd%22%2C%0A%20%20%22lineCap%22%3A%20%22round%22%2C%0A%20%20%22lineJoin%22%3A%20%22round%22%2C%0A%20%20%22opacity%22%3A%201.0%2C%0A%20%20%22radius%22%3A%205%2C%0A%20%20%22stroke%22%3A%20true%2C%0A%20%20%22weight%22%3A%203%0A%7D%0A%20%20%20%20%20%20%20%20%20%20%20%20%20%20%20%20%29.addTo%28map_07ccbf655fcc4c9baee3272e4aed28cd%29%3B%0A%20%20%20%20%20%20%20%20%20%20%20%20%0A%20%20%20%20%0A%20%20%20%20%20%20%20%20%20%20%20%20var%20popup_eb9ecb8b7fd84a80a2dc25417f031b6b%20%3D%20L.popup%28%7BmaxWidth%3A%20%27300%27%7D%29%3B%0A%0A%20%20%20%20%20%20%20%20%20%20%20%20%0A%20%20%20%20%20%20%20%20%20%20%20%20%20%20%20%20var%20html_66c5c404defb47b89f2865dd4f1437e7%20%3D%20%24%28%27%3Cdiv%20id%3D%22html_66c5c404defb47b89f2865dd4f1437e7%22%20style%3D%22width%3A%20100.0%25%3B%20height%3A%20100.0%25%3B%22%3EGerman%20Restaurant%3C/div%3E%27%29%5B0%5D%3B%0A%20%20%20%20%20%20%20%20%20%20%20%20%20%20%20%20popup_eb9ecb8b7fd84a80a2dc25417f031b6b.setContent%28html_66c5c404defb47b89f2865dd4f1437e7%29%3B%0A%20%20%20%20%20%20%20%20%20%20%20%20%0A%0A%20%20%20%20%20%20%20%20%20%20%20%20circle_marker_09ae1b5697464d64a84900329c731334.bindPopup%28popup_eb9ecb8b7fd84a80a2dc25417f031b6b%29%3B%0A%0A%20%20%20%20%20%20%20%20%20%20%20%20%0A%20%20%20%20%20%20%20%20%0A%3C/script%3E onload=\"this.contentDocument.open();this.contentDocument.write(    decodeURIComponent(this.getAttribute('data-html')));this.contentDocument.close();\" allowfullscreen webkitallowfullscreen mozallowfullscreen></iframe></div></div>"
      ],
      "text/plain": [
       "<folium.folium.Map at 0x7fb74dd85c10>"
      ]
     },
     "execution_count": 17,
     "metadata": {},
     "output_type": "execute_result"
    }
   ],
   "source": [
    "venues_map = folium.Map(location=[latitude, longitude], zoom_start=13) # generate map centred around the Marienplatz\n",
    "\n",
    "# add a red circle marker to represent Marienplatz\n",
    "folium.CircleMarker(\n",
    "    [latitude, longitude],\n",
    "    radius=10,\n",
    "    color='red',\n",
    "    popup='Marienplatz',\n",
    "    fill = True,\n",
    "    fill_color = 'red',\n",
    "    fill_opacity = 0.6\n",
    ").add_to(venues_map)\n",
    "\n",
    "# add the tapas venues as blue circle markers\n",
    "for lat, lng, label in zip(dataframe_filtered.lat, dataframe_filtered.lng, dataframe_filtered.categories):\n",
    "    folium.CircleMarker(\n",
    "        [lat, lng],\n",
    "        radius=5,\n",
    "        color='blue',\n",
    "        popup=label,\n",
    "        fill = True,\n",
    "        fill_color='blue',\n",
    "        fill_opacity=0.6\n",
    "    ).add_to(venues_map)\n",
    "\n",
    "# display map\n",
    "venues_map"
   ]
  },
  {
   "cell_type": "markdown",
   "metadata": {
    "button": false,
    "new_sheet": false,
    "run_control": {
     "read_only": false
    }
   },
   "source": [
    "\n"
   ]
  },
  {
   "cell_type": "markdown",
   "metadata": {
    "button": false,
    "new_sheet": false,
    "run_control": {
     "read_only": false
    }
   },
   "source": [
    "<a id=\"item2\"></a>\n"
   ]
  },
  {
   "cell_type": "markdown",
   "metadata": {
    "button": false,
    "new_sheet": false,
    "run_control": {
     "read_only": false
    }
   },
   "source": [
    "### Exploring Tönis Tapas\n"
   ]
  },
  {
   "cell_type": "code",
   "execution_count": 19,
   "metadata": {
    "button": false,
    "jupyter": {
     "outputs_hidden": false
    },
    "new_sheet": false,
    "run_control": {
     "read_only": false
    }
   },
   "outputs": [
    {
     "data": {
      "text/plain": [
       "'https://api.foursquare.com/v2/venues/51f8f4f6498ef1a66e460f6f?client_id=2Z3UZXIKCNOTBEIKO1HVNWDJ1JT0YAPMRSB4W5YXBPFSKW4N&client_secret=AFML0IDZ5Y4J52JD24T2I4RJXIPJGB2IPU3ITU0EOEIY5JFV&oauth_token=E5KQLGPNGEB0ZVV0IZI2FFAWELFS5TQVGG0G5O0QUYK2MLA0&v=20180604'"
      ]
     },
     "execution_count": 19,
     "metadata": {},
     "output_type": "execute_result"
    }
   ],
   "source": [
    "venue_id = '51f8f4f6498ef1a66e460f6f' # ID of Tönis Tapas\n",
    "url = 'https://api.foursquare.com/v2/venues/{}?client_id={}&client_secret={}&oauth_token={}&v={}'.format(venue_id, CLIENT_ID, CLIENT_SECRET,ACCESS_TOKEN, VERSION)\n",
    "url"
   ]
  },
  {
   "cell_type": "markdown",
   "metadata": {
    "button": false,
    "new_sheet": false,
    "run_control": {
     "read_only": false
    }
   },
   "source": [
    "#### Send GET request for result\n"
   ]
  },
  {
   "cell_type": "code",
   "execution_count": 20,
   "metadata": {
    "button": false,
    "jupyter": {
     "outputs_hidden": false
    },
    "new_sheet": false,
    "run_control": {
     "read_only": false
    }
   },
   "outputs": [
    {
     "name": "stdout",
     "output_type": "stream",
     "text": [
      "dict_keys(['id', 'name', 'contact', 'location', 'canonicalUrl', 'categories', 'verified', 'stats', 'price', 'likes', 'like', 'dislike', 'ok', 'allowMenuUrlEdit', 'beenHere', 'specials', 'photos', 'reasons', 'hereNow', 'createdAt', 'tips', 'shortUrl', 'timeZone', 'listed', 'seasonalHours', 'pageUpdates', 'inbox', 'attributes'])\n"
     ]
    },
    {
     "data": {
      "text/plain": [
       "{'id': '51f8f4f6498ef1a66e460f6f',\n",
       " 'name': 'Tönis Tapas',\n",
       " 'contact': {},\n",
       " 'location': {'address': 'Lenbachplatz 8',\n",
       "  'crossStreet': 'Künstlerhaus Innenhof',\n",
       "  'lat': 48.140365,\n",
       "  'lng': 11.567429,\n",
       "  'labeledLatLngs': [{'label': 'display', 'lat': 48.140365, 'lng': 11.567429}],\n",
       "  'postalCode': '80333',\n",
       "  'cc': 'DE',\n",
       "  'city': 'München',\n",
       "  'state': 'Bayern',\n",
       "  'country': 'Deutschland',\n",
       "  'formattedAddress': ['Lenbachplatz 8 (Künstlerhaus Innenhof)',\n",
       "   '80333 München']},\n",
       " 'canonicalUrl': 'https://foursquare.com/v/t%C3%B6nis-tapas/51f8f4f6498ef1a66e460f6f',\n",
       " 'categories': [{'id': '4bf58dd8d48988d1db931735',\n",
       "   'name': 'Tapas Restaurant',\n",
       "   'pluralName': 'Tapas Restaurants',\n",
       "   'shortName': 'Tapas',\n",
       "   'icon': {'prefix': 'https://ss3.4sqi.net/img/categories_v2/food/tapas_',\n",
       "    'suffix': '.png'},\n",
       "   'primary': True}],\n",
       " 'verified': False,\n",
       " 'stats': {'tipCount': 0},\n",
       " 'price': {'tier': 1, 'message': 'Cheap', 'currency': '€'},\n",
       " 'likes': {'count': 0, 'groups': []},\n",
       " 'like': False,\n",
       " 'dislike': False,\n",
       " 'ok': False,\n",
       " 'allowMenuUrlEdit': True,\n",
       " 'beenHere': {'count': 0,\n",
       "  'unconfirmedCount': 0,\n",
       "  'marked': False,\n",
       "  'lastCheckinExpiredAt': 0},\n",
       " 'specials': {'count': 0, 'items': []},\n",
       " 'photos': {'count': 0, 'groups': []},\n",
       " 'reasons': {'count': 0, 'items': []},\n",
       " 'hereNow': {'count': 0, 'summary': 'Nobody here', 'groups': []},\n",
       " 'createdAt': 1375270134,\n",
       " 'tips': {'count': 0, 'groups': []},\n",
       " 'shortUrl': 'http://4sq.com/14i29MU',\n",
       " 'timeZone': 'Europe/Berlin',\n",
       " 'listed': {'count': 0, 'groups': []},\n",
       " 'seasonalHours': [],\n",
       " 'pageUpdates': {'count': 0, 'items': []},\n",
       " 'inbox': {'count': 0, 'items': []},\n",
       " 'attributes': {'groups': [{'type': 'price',\n",
       "    'name': 'Price',\n",
       "    'summary': '€',\n",
       "    'count': 1,\n",
       "    'items': [{'displayName': 'Price',\n",
       "      'displayValue': '€',\n",
       "      'priceTier': 1}]}]}}"
      ]
     },
     "execution_count": 20,
     "metadata": {},
     "output_type": "execute_result"
    }
   ],
   "source": [
    "result = requests.get(url).json()\n",
    "print(result['response']['venue'].keys())\n",
    "result['response']['venue']"
   ]
  },
  {
   "cell_type": "markdown",
   "metadata": {
    "button": false,
    "new_sheet": false,
    "run_control": {
     "read_only": false
    }
   },
   "source": [
    "### B. Get the venue's overall rating\n"
   ]
  },
  {
   "cell_type": "code",
   "execution_count": 21,
   "metadata": {
    "button": false,
    "jupyter": {
     "outputs_hidden": false
    },
    "new_sheet": false,
    "run_control": {
     "read_only": false
    }
   },
   "outputs": [
    {
     "name": "stdout",
     "output_type": "stream",
     "text": [
      "This venue has not been rated yet.\n"
     ]
    }
   ],
   "source": [
    "try:\n",
    "    print(result['response']['venue']['rating'])\n",
    "except:\n",
    "    print('This venue has not been rated yet.')"
   ]
  },
  {
   "cell_type": "code",
   "execution_count": 22,
   "metadata": {
    "button": false,
    "jupyter": {
     "outputs_hidden": false
    },
    "new_sheet": false,
    "run_control": {
     "read_only": false
    }
   },
   "outputs": [
    {
     "name": "stdout",
     "output_type": "stream",
     "text": [
      "7.0\n"
     ]
    }
   ],
   "source": [
    "venue_id = '4f830f4ee4b024a26fbb1eca' # ID of Itxaso Tapas\n",
    "url = 'https://api.foursquare.com/v2/venues/{}?client_id={}&client_secret={}&oauth_token={}&v={}'.format(venue_id, CLIENT_ID, CLIENT_SECRET,ACCESS_TOKEN, VERSION)\n",
    "\n",
    "result = requests.get(url).json()\n",
    "try:\n",
    "    print(result['response']['venue']['rating'])\n",
    "except:\n",
    "    print('This venue has not been rated yet.')"
   ]
  },
  {
   "cell_type": "code",
   "execution_count": 23,
   "metadata": {
    "button": false,
    "jupyter": {
     "outputs_hidden": false
    },
    "new_sheet": false,
    "run_control": {
     "read_only": false
    }
   },
   "outputs": [
    {
     "name": "stdout",
     "output_type": "stream",
     "text": [
      "This venue has not been rated yet.\n"
     ]
    }
   ],
   "source": [
    "venue_id = '50be1ff5e4b0fd4a60ae3f1e' # ID of bayrische tapasbar\n",
    "url = 'https://api.foursquare.com/v2/venues/{}?client_id={}&client_secret={}&oauth_token={}&v={}'.format(venue_id, CLIENT_ID, CLIENT_SECRET,ACCESS_TOKEN, VERSION)\n",
    "\n",
    "result = requests.get(url).json()\n",
    "try:\n",
    "    print(result['response']['venue']['rating'])\n",
    "except:\n",
    "    print('This venue has not been rated yet.')"
   ]
  },
  {
   "cell_type": "code",
   "execution_count": 24,
   "metadata": {},
   "outputs": [
    {
     "name": "stdout",
     "output_type": "stream",
     "text": [
      "7.5\n"
     ]
    }
   ],
   "source": [
    "venue_id = '4b8ecb87f964a520923733e3' # ID of Bar Tapas\n",
    "url = 'https://api.foursquare.com/v2/venues/{}?client_id={}&client_secret={}&oauth_token={}&v={}'.format(venue_id, CLIENT_ID, CLIENT_SECRET,ACCESS_TOKEN, VERSION)\n",
    "\n",
    "result = requests.get(url).json()\n",
    "try:\n",
    "    print(result['response']['venue']['rating'])\n",
    "except:\n",
    "    print('This venue has not been rated yet.')"
   ]
  },
  {
   "cell_type": "code",
   "execution_count": 25,
   "metadata": {},
   "outputs": [
    {
     "name": "stdout",
     "output_type": "stream",
     "text": [
      "This venue has not been rated yet.\n"
     ]
    }
   ],
   "source": [
    "venue_id = '4b75ba5af964a52036202ee3' # ID of Tapas Tapas\n",
    "url = 'https://api.foursquare.com/v2/venues/{}?client_id={}&client_secret={}&oauth_token={}&v={}'.format(venue_id, CLIENT_ID, CLIENT_SECRET,ACCESS_TOKEN, VERSION)\n",
    "\n",
    "result = requests.get(url).json()\n",
    "try:\n",
    "    print(result['response']['venue']['rating'])\n",
    "except:\n",
    "    print('This venue has not been rated yet.')"
   ]
  },
  {
   "cell_type": "code",
   "execution_count": 26,
   "metadata": {},
   "outputs": [
    {
     "name": "stdout",
     "output_type": "stream",
     "text": [
      "This venue has not been rated yet.\n"
     ]
    }
   ],
   "source": [
    "venue_id = '5bca4ecd5c6838002c548542' # ID of Amistad - tapas y vino\n",
    "url = 'https://api.foursquare.com/v2/venues/{}?client_id={}&client_secret={}&oauth_token={}&v={}'.format(venue_id, CLIENT_ID, CLIENT_SECRET,ACCESS_TOKEN, VERSION)\n",
    "\n",
    "result = requests.get(url).json()\n",
    "try:\n",
    "    print(result['response']['venue']['rating'])\n",
    "except:\n",
    "    print('This venue has not been rated yet.')"
   ]
  },
  {
   "cell_type": "markdown",
   "metadata": {
    "button": false,
    "new_sheet": false,
    "run_control": {
     "read_only": false
    }
   },
   "source": [
    "### C. Get the number of tips\n"
   ]
  },
  {
   "cell_type": "code",
   "execution_count": 28,
   "metadata": {},
   "outputs": [
    {
     "name": "stdout",
     "output_type": "stream",
     "text": [
      "29\n"
     ]
    }
   ],
   "source": [
    "venue_id = '4f830f4ee4b024a26fbb1eca' # ID of Itxaso Tapas\n",
    "url = 'https://api.foursquare.com/v2/venues/{}?client_id={}&client_secret={}&oauth_token={}&v={}'.format(venue_id, CLIENT_ID, CLIENT_SECRET,ACCESS_TOKEN, VERSION)\n",
    "\n",
    "result = requests.get(url).json()\n",
    "try:\n",
    "    print(result['response']['venue']['tips']['count'])\n",
    "except:\n",
    "    print('No tips.')"
   ]
  },
  {
   "cell_type": "code",
   "execution_count": 29,
   "metadata": {},
   "outputs": [
    {
     "name": "stdout",
     "output_type": "stream",
     "text": [
      "18\n"
     ]
    }
   ],
   "source": [
    "venue_id = '4b8ecb87f964a520923733e3' # ID of Bar Tapas\n",
    "url = 'https://api.foursquare.com/v2/venues/{}?client_id={}&client_secret={}&oauth_token={}&v={}'.format(venue_id, CLIENT_ID, CLIENT_SECRET,ACCESS_TOKEN, VERSION)\n",
    "\n",
    "result = requests.get(url).json()\n",
    "try:\n",
    "    print(result['response']['venue']['tips']['count'])\n",
    "except:\n",
    "    print('No tips.')"
   ]
  },
  {
   "cell_type": "markdown",
   "metadata": {
    "button": false,
    "new_sheet": false,
    "run_control": {
     "read_only": false
    }
   },
   "source": [
    "### D. Get the venue's tips\n",
    "\n",
    "> `https://api.foursquare.com/v2/venues/`**VENUE_ID**`/tips?client_id=`**CLIENT_ID**`&client_secret=`**CLIENT_SECRET**`&v=`**VERSION**`&limit=`**LIMIT**\n"
   ]
  },
  {
   "cell_type": "markdown",
   "metadata": {
    "button": false,
    "new_sheet": false,
    "run_control": {
     "read_only": false
    }
   },
   "source": [
    "#### Create URL and send GET request. Make sure to set limit to get all tips\n"
   ]
  },
  {
   "cell_type": "code",
   "execution_count": 36,
   "metadata": {
    "button": false,
    "jupyter": {
     "outputs_hidden": false
    },
    "new_sheet": false,
    "run_control": {
     "read_only": false
    }
   },
   "outputs": [
    {
     "data": {
      "text/plain": [
       "{'meta': {'code': 200, 'requestId': '6037e9648fda8b5552299b1b'},\n",
       " 'notifications': [{'type': 'notificationTray', 'item': {'unreadCount': 0}}],\n",
       " 'response': {'tips': {'count': 10,\n",
       "   'items': [{'id': '57324317498e3657d06ac61d',\n",
       "     'createdAt': 1462911767,\n",
       "     'text': \"The tapas and the service are great, but when you go to the register to choose the tapas for ordering they are like 300 grams and when you get them they are like 150 grams. That's false marketing.\",\n",
       "     'type': 'user',\n",
       "     'canonicalUrl': 'https://foursquare.com/item/57324317498e3657d06ac61d',\n",
       "     'likes': {'count': 0, 'groups': []},\n",
       "     'like': False,\n",
       "     'logView': True,\n",
       "     'agreeCount': 0,\n",
       "     'disagreeCount': 0,\n",
       "     'todo': {'count': 0},\n",
       "     'user': {'id': '37278503',\n",
       "      'firstName': 'Igor',\n",
       "      'lastName': 'Caviroski',\n",
       "      'gender': 'male',\n",
       "      'countryCode': 'DE',\n",
       "      'photo': {'prefix': 'https://fastly.4sqi.net/img/user/',\n",
       "       'suffix': '/1EEUWG0PS3SE3EZS.jpg'}}}]}}}"
      ]
     },
     "execution_count": 36,
     "metadata": {},
     "output_type": "execute_result"
    }
   ],
   "source": [
    "limit = 15\n",
    "\n",
    "venue_id = '4b8ecb87f964a520923733e3' # ID of Bar Tapas\n",
    "\n",
    "# set limit to be greater than or equal to the total number of tips\n",
    "url = 'https://api.foursquare.com/v2/venues/{}/tips?client_id={}&client_secret={}&oauth_token={}&v={}&limit={}'.format(venue_id, CLIENT_ID, CLIENT_SECRET,ACCESS_TOKEN, VERSION, limit)\n",
    "\n",
    "results = requests.get(url).json()\n",
    "results"
   ]
  },
  {
   "cell_type": "markdown",
   "metadata": {
    "button": false,
    "new_sheet": false,
    "run_control": {
     "read_only": false
    }
   },
   "source": [
    "#### Get tips and list of associated features\n"
   ]
  },
  {
   "cell_type": "code",
   "execution_count": 37,
   "metadata": {
    "button": false,
    "jupyter": {
     "outputs_hidden": false
    },
    "new_sheet": false,
    "run_control": {
     "read_only": false
    }
   },
   "outputs": [
    {
     "data": {
      "text/plain": [
       "dict_keys(['id', 'createdAt', 'text', 'type', 'canonicalUrl', 'likes', 'like', 'logView', 'agreeCount', 'disagreeCount', 'todo', 'user'])"
      ]
     },
     "execution_count": 37,
     "metadata": {},
     "output_type": "execute_result"
    }
   ],
   "source": [
    "tips = results['response']['tips']['items']\n",
    "\n",
    "tip = results['response']['tips']['items'][0]\n",
    "tip.keys()"
   ]
  },
  {
   "cell_type": "markdown",
   "metadata": {
    "button": false,
    "new_sheet": false,
    "run_control": {
     "read_only": false
    }
   },
   "source": [
    "#### Format column width and display all tips\n"
   ]
  },
  {
   "cell_type": "code",
   "execution_count": 38,
   "metadata": {
    "button": false,
    "jupyter": {
     "outputs_hidden": false
    },
    "new_sheet": false,
    "run_control": {
     "read_only": false
    }
   },
   "outputs": [
    {
     "name": "stderr",
     "output_type": "stream",
     "text": [
      "<ipython-input-38-252e55242536>:1: FutureWarning: Passing a negative integer is deprecated in version 1.0 and will not be supported in future version. Instead, use None to not limit the column width.\n",
      "  pd.set_option('display.max_colwidth', -1)\n",
      "<ipython-input-38-252e55242536>:3: FutureWarning: pandas.io.json.json_normalize is deprecated, use pandas.json_normalize instead\n",
      "  tips_df = json_normalize(tips) # json normalize tips\n"
     ]
    },
    {
     "data": {
      "text/html": [
       "<div>\n",
       "<style scoped>\n",
       "    .dataframe tbody tr th:only-of-type {\n",
       "        vertical-align: middle;\n",
       "    }\n",
       "\n",
       "    .dataframe tbody tr th {\n",
       "        vertical-align: top;\n",
       "    }\n",
       "\n",
       "    .dataframe thead th {\n",
       "        text-align: right;\n",
       "    }\n",
       "</style>\n",
       "<table border=\"1\" class=\"dataframe\">\n",
       "  <thead>\n",
       "    <tr style=\"text-align: right;\">\n",
       "      <th></th>\n",
       "      <th>text</th>\n",
       "      <th>agreeCount</th>\n",
       "      <th>disagreeCount</th>\n",
       "      <th>id</th>\n",
       "      <th>user.firstName</th>\n",
       "      <th>user.lastName</th>\n",
       "      <th>user.id</th>\n",
       "    </tr>\n",
       "  </thead>\n",
       "  <tbody>\n",
       "    <tr>\n",
       "      <th>0</th>\n",
       "      <td>The tapas and the service are great, but when you go to the register to choose the tapas for ordering they are like 300 grams and when you get them they are like 150 grams. That's false marketing.</td>\n",
       "      <td>0</td>\n",
       "      <td>0</td>\n",
       "      <td>57324317498e3657d06ac61d</td>\n",
       "      <td>Igor</td>\n",
       "      <td>Caviroski</td>\n",
       "      <td>37278503</td>\n",
       "    </tr>\n",
       "  </tbody>\n",
       "</table>\n",
       "</div>"
      ],
      "text/plain": [
       "                                                                                                                                                                                                   text  \\\n",
       "0  The tapas and the service are great, but when you go to the register to choose the tapas for ordering they are like 300 grams and when you get them they are like 150 grams. That's false marketing.   \n",
       "\n",
       "   agreeCount  disagreeCount                        id user.firstName  \\\n",
       "0  0           0              57324317498e3657d06ac61d  Igor            \n",
       "\n",
       "  user.lastName   user.id  \n",
       "0  Caviroski     37278503  "
      ]
     },
     "execution_count": 38,
     "metadata": {},
     "output_type": "execute_result"
    }
   ],
   "source": [
    "pd.set_option('display.max_colwidth', -1)\n",
    "\n",
    "tips_df = json_normalize(tips) # json normalize tips\n",
    "\n",
    "# columns to keep\n",
    "filtered_columns = ['text', 'agreeCount', 'disagreeCount', 'id', 'user.firstName', 'user.lastName', 'user.id']\n",
    "tips_filtered = tips_df.loc[:, filtered_columns]\n",
    "\n",
    "# display tips\n",
    "tips_filtered.reindex()"
   ]
  },
  {
   "cell_type": "markdown",
   "metadata": {
    "button": false,
    "new_sheet": false,
    "run_control": {
     "read_only": false
    }
   },
   "source": [
    "\n"
   ]
  },
  {
   "cell_type": "markdown",
   "metadata": {
    "button": false,
    "new_sheet": false,
    "run_control": {
     "read_only": false
    }
   },
   "source": [
    "<a id=\"item3\"></a>\n"
   ]
  },
  {
   "cell_type": "markdown",
   "metadata": {
    "button": false,
    "new_sheet": false,
    "run_control": {
     "read_only": false
    }
   },
   "source": [
    "## 3. Search a Foursquare User\n",
    "\n",
    "> `https://api.foursquare.com/v2/users/`**USER_ID**`?client_id=`**CLIENT_ID**`&client_secret=`**CLIENT_SECRET**`&v=`**VERSION**\n"
   ]
  },
  {
   "cell_type": "markdown",
   "metadata": {
    "button": false,
    "new_sheet": false,
    "run_control": {
     "read_only": false
    }
   },
   "source": [
    "### Define URL, send GET request and display features associated with user\n"
   ]
  },
  {
   "cell_type": "code",
   "execution_count": 39,
   "metadata": {
    "button": false,
    "jupyter": {
     "outputs_hidden": false
    },
    "new_sheet": false,
    "run_control": {
     "read_only": false
    }
   },
   "outputs": [
    {
     "name": "stderr",
     "output_type": "stream",
     "text": [
      "<ipython-input-39-95a06b39a7a2>:12: FutureWarning: Passing a negative integer is deprecated in version 1.0 and will not be supported in future version. Instead, use None to not limit the column width.\n",
      "  pd.set_option('display.max_colwidth', -1)\n",
      "<ipython-input-39-95a06b39a7a2>:14: FutureWarning: pandas.io.json.json_normalize is deprecated, use pandas.json_normalize instead\n",
      "  users_df = json_normalize(user_data)\n"
     ]
    },
    {
     "data": {
      "text/html": [
       "<div>\n",
       "<style scoped>\n",
       "    .dataframe tbody tr th:only-of-type {\n",
       "        vertical-align: middle;\n",
       "    }\n",
       "\n",
       "    .dataframe tbody tr th {\n",
       "        vertical-align: top;\n",
       "    }\n",
       "\n",
       "    .dataframe thead th {\n",
       "        text-align: right;\n",
       "    }\n",
       "</style>\n",
       "<table border=\"1\" class=\"dataframe\">\n",
       "  <thead>\n",
       "    <tr style=\"text-align: right;\">\n",
       "      <th></th>\n",
       "      <th>id</th>\n",
       "      <th>user.id</th>\n",
       "      <th>user.firstName</th>\n",
       "      <th>user.lastName</th>\n",
       "    </tr>\n",
       "  </thead>\n",
       "  <tbody>\n",
       "    <tr>\n",
       "      <th>0</th>\n",
       "      <td>5b434e0eb1ec13002cc79b14</td>\n",
       "      <td>23215653</td>\n",
       "      <td>ElGuisanteVerde</td>\n",
       "      <td>NaN</td>\n",
       "    </tr>\n",
       "    <tr>\n",
       "      <th>1</th>\n",
       "      <td>598376a00fe7a048f130a9e0</td>\n",
       "      <td>61061458</td>\n",
       "      <td>Maria</td>\n",
       "      <td>Perez Manquel</td>\n",
       "    </tr>\n",
       "    <tr>\n",
       "      <th>2</th>\n",
       "      <td>5983769ee179104f7214330f</td>\n",
       "      <td>61061458</td>\n",
       "      <td>Maria</td>\n",
       "      <td>Perez Manquel</td>\n",
       "    </tr>\n",
       "  </tbody>\n",
       "</table>\n",
       "</div>"
      ],
      "text/plain": [
       "                         id   user.id   user.firstName  user.lastName\n",
       "0  5b434e0eb1ec13002cc79b14  23215653  ElGuisanteVerde  NaN          \n",
       "1  598376a00fe7a048f130a9e0  61061458  Maria            Perez Manquel\n",
       "2  5983769ee179104f7214330f  61061458  Maria            Perez Manquel"
      ]
     },
     "execution_count": 39,
     "metadata": {},
     "output_type": "execute_result"
    }
   ],
   "source": [
    "idnumber = '37278503' # user ID with most agree counts and complete profile\n",
    "\n",
    "url = 'https://api.foursquare.com/v2/users/{}/tips?client_id={}&client_secret={}&oauth_token={}&v={}'.format(idnumber, CLIENT_ID, CLIENT_SECRET, ACCESS_TOKEN,VERSION) # define URL\n",
    "\n",
    "# send GET request\n",
    "results = requests.get(url).json()\n",
    "#user_data = results['response']['user']\n",
    "user_data=results['response']['tips']['items'][0]['venue']['photos']['groups'][0]['items']#['items']\n",
    "# display features associated with user\n",
    "#user_data.keys()\n",
    "#results\n",
    "pd.set_option('display.max_colwidth', -1)\n",
    "\n",
    "users_df = json_normalize(user_data)\n",
    "\n",
    "# filter columns\n",
    "filtered_columns = ['id','user.id','user.firstName','user.lastName']\n",
    "tips_filtered = users_df.loc[:, filtered_columns]\n",
    "\n",
    "# display user's tips\n",
    "df=tips_filtered\n",
    "df\n",
    "#url"
   ]
  },
  {
   "cell_type": "code",
   "execution_count": 44,
   "metadata": {},
   "outputs": [
    {
     "name": "stdout",
     "output_type": "stream",
     "text": [
      "Series([], Name: user.firstName, dtype: object)\n",
      "Series([], Name: user.lastName, dtype: object)\n"
     ]
    }
   ],
   "source": [
    "\n",
    "g=df.loc[df['user.id'] == '37278503']\n",
    "print('First Name: ' + g['user.firstName'])\n",
    "print('Last Name: ' + g['user.lastName'])\n"
   ]
  },
  {
   "cell_type": "markdown",
   "metadata": {
    "button": false,
    "new_sheet": false,
    "run_control": {
     "read_only": false
    }
   },
   "source": [
    "### Get User's tips\n"
   ]
  },
  {
   "cell_type": "code",
   "execution_count": 46,
   "metadata": {
    "button": false,
    "jupyter": {
     "outputs_hidden": false
    },
    "new_sheet": false,
    "run_control": {
     "read_only": false
    }
   },
   "outputs": [
    {
     "name": "stderr",
     "output_type": "stream",
     "text": [
      "<ipython-input-46-1d23b9324f9c>:10: FutureWarning: Passing a negative integer is deprecated in version 1.0 and will not be supported in future version. Instead, use None to not limit the column width.\n",
      "  pd.set_option('display.max_colwidth', -1)\n",
      "<ipython-input-46-1d23b9324f9c>:12: FutureWarning: pandas.io.json.json_normalize is deprecated, use pandas.json_normalize instead\n",
      "  tips_df = json_normalize(tips)\n"
     ]
    },
    {
     "data": {
      "text/html": [
       "<div>\n",
       "<style scoped>\n",
       "    .dataframe tbody tr th:only-of-type {\n",
       "        vertical-align: middle;\n",
       "    }\n",
       "\n",
       "    .dataframe tbody tr th {\n",
       "        vertical-align: top;\n",
       "    }\n",
       "\n",
       "    .dataframe thead th {\n",
       "        text-align: right;\n",
       "    }\n",
       "</style>\n",
       "<table border=\"1\" class=\"dataframe\">\n",
       "  <thead>\n",
       "    <tr style=\"text-align: right;\">\n",
       "      <th></th>\n",
       "      <th>text</th>\n",
       "      <th>agreeCount</th>\n",
       "      <th>disagreeCount</th>\n",
       "      <th>id</th>\n",
       "    </tr>\n",
       "  </thead>\n",
       "  <tbody>\n",
       "    <tr>\n",
       "      <th>0</th>\n",
       "      <td>Very good pintxos.</td>\n",
       "      <td>0</td>\n",
       "      <td>0</td>\n",
       "      <td>5b43d74bda5ede002cbf2c70</td>\n",
       "    </tr>\n",
       "    <tr>\n",
       "      <th>1</th>\n",
       "      <td>Great bar/club with cheap and good drinks. Friendly staff.</td>\n",
       "      <td>0</td>\n",
       "      <td>0</td>\n",
       "      <td>5a2576b27dc9e127ffa13a99</td>\n",
       "    </tr>\n",
       "    <tr>\n",
       "      <th>2</th>\n",
       "      <td>The burgers are delicious.</td>\n",
       "      <td>0</td>\n",
       "      <td>0</td>\n",
       "      <td>5a25765048b04e3baf7c77eb</td>\n",
       "    </tr>\n",
       "    <tr>\n",
       "      <th>3</th>\n",
       "      <td>The view of Zurich is magnificent from here, great service and very good drinks.</td>\n",
       "      <td>0</td>\n",
       "      <td>0</td>\n",
       "      <td>5a0dbae716fa04251e70f733</td>\n",
       "    </tr>\n",
       "    <tr>\n",
       "      <th>4</th>\n",
       "      <td>This place has great view of Zurich and the food is delicious.</td>\n",
       "      <td>0</td>\n",
       "      <td>0</td>\n",
       "      <td>5a0dba5e79f6c764d0e9cbeb</td>\n",
       "    </tr>\n",
       "    <tr>\n",
       "      <th>5</th>\n",
       "      <td>We tried some wild boar it was delicious.</td>\n",
       "      <td>0</td>\n",
       "      <td>0</td>\n",
       "      <td>5a0db9ced41bb708aa5bf051</td>\n",
       "    </tr>\n",
       "    <tr>\n",
       "      <th>6</th>\n",
       "      <td>Very good pizza for fair price. The service is friendly and nice.</td>\n",
       "      <td>3</td>\n",
       "      <td>0</td>\n",
       "      <td>5910a0f6acc5f52805b10dc1</td>\n",
       "    </tr>\n",
       "    <tr>\n",
       "      <th>7</th>\n",
       "      <td>The service is fast and very friendly, for 12€ you are getting two main dishes and a bottle of local wine that was great. In the end the desert is very tasty. Highly recommendable.</td>\n",
       "      <td>0</td>\n",
       "      <td>0</td>\n",
       "      <td>58b551afa370b93a3b2c379a</td>\n",
       "    </tr>\n",
       "    <tr>\n",
       "      <th>8</th>\n",
       "      <td>Одлична атмосфера, но услугата е лоша, чекавме 35 минути да ни донесат мраз а и шарската и увијачот не беа баш најдобри, компирот за гарнир беше минимум три дена стоен.</td>\n",
       "      <td>0</td>\n",
       "      <td>0</td>\n",
       "      <td>57abbb27498e83ad6cb12b0a</td>\n",
       "    </tr>\n",
       "    <tr>\n",
       "      <th>9</th>\n",
       "      <td>The tapas and the service are great, but when you go to the register to choose the tapas for ordering they are like 300 grams and when you get them they are like 150 grams. That's false marketing.</td>\n",
       "      <td>0</td>\n",
       "      <td>0</td>\n",
       "      <td>57324317498e3657d06ac61d</td>\n",
       "    </tr>\n",
       "    <tr>\n",
       "      <th>10</th>\n",
       "      <td>Great electro parties!</td>\n",
       "      <td>0</td>\n",
       "      <td>0</td>\n",
       "      <td>51eabe7e498e46b34ed5c7a4</td>\n",
       "    </tr>\n",
       "    <tr>\n",
       "      <th>11</th>\n",
       "      <td>Super lokacija vo centar, odlicni i eftini sobi. Ednokrevetna bez pojadok 1000 denari.</td>\n",
       "      <td>0</td>\n",
       "      <td>0</td>\n",
       "      <td>51ab1af4498ec8acb2667dab</td>\n",
       "    </tr>\n",
       "    <tr>\n",
       "      <th>12</th>\n",
       "      <td>Reprezentativna salata i riba na skara 10/10</td>\n",
       "      <td>0</td>\n",
       "      <td>0</td>\n",
       "      <td>51aa39a3498ee7f30b628bb1</td>\n",
       "    </tr>\n",
       "    <tr>\n",
       "      <th>13</th>\n",
       "      <td>Najdobar kebap vo Skopje.</td>\n",
       "      <td>0</td>\n",
       "      <td>0</td>\n",
       "      <td>5187e871498ecce31df4fbcd</td>\n",
       "    </tr>\n",
       "    <tr>\n",
       "      <th>14</th>\n",
       "      <td>Najdobra rok zurka vo Skopje.</td>\n",
       "      <td>3</td>\n",
       "      <td>0</td>\n",
       "      <td>51733477e4b0106169c1169b</td>\n",
       "    </tr>\n",
       "  </tbody>\n",
       "</table>\n",
       "</div>"
      ],
      "text/plain": [
       "                                                                                                                                                                                                    text  \\\n",
       "0   Very good pintxos.                                                                                                                                                                                     \n",
       "1   Great bar/club with cheap and good drinks. Friendly staff.                                                                                                                                             \n",
       "2   The burgers are delicious.                                                                                                                                                                             \n",
       "3   The view of Zurich is magnificent from here, great service and very good drinks.                                                                                                                       \n",
       "4   This place has great view of Zurich and the food is delicious.                                                                                                                                         \n",
       "5   We tried some wild boar it was delicious.                                                                                                                                                              \n",
       "6   Very good pizza for fair price. The service is friendly and nice.                                                                                                                                      \n",
       "7   The service is fast and very friendly, for 12€ you are getting two main dishes and a bottle of local wine that was great. In the end the desert is very tasty. Highly recommendable.                   \n",
       "8   Одлична атмосфера, но услугата е лоша, чекавме 35 минути да ни донесат мраз а и шарската и увијачот не беа баш најдобри, компирот за гарнир беше минимум три дена стоен.                               \n",
       "9   The tapas and the service are great, but when you go to the register to choose the tapas for ordering they are like 300 grams and when you get them they are like 150 grams. That's false marketing.   \n",
       "10  Great electro parties!                                                                                                                                                                                 \n",
       "11  Super lokacija vo centar, odlicni i eftini sobi. Ednokrevetna bez pojadok 1000 denari.                                                                                                                 \n",
       "12  Reprezentativna salata i riba na skara 10/10                                                                                                                                                           \n",
       "13  Najdobar kebap vo Skopje.                                                                                                                                                                              \n",
       "14  Najdobra rok zurka vo Skopje.                                                                                                                                                                          \n",
       "\n",
       "    agreeCount  disagreeCount                        id  \n",
       "0   0           0              5b43d74bda5ede002cbf2c70  \n",
       "1   0           0              5a2576b27dc9e127ffa13a99  \n",
       "2   0           0              5a25765048b04e3baf7c77eb  \n",
       "3   0           0              5a0dbae716fa04251e70f733  \n",
       "4   0           0              5a0dba5e79f6c764d0e9cbeb  \n",
       "5   0           0              5a0db9ced41bb708aa5bf051  \n",
       "6   3           0              5910a0f6acc5f52805b10dc1  \n",
       "7   0           0              58b551afa370b93a3b2c379a  \n",
       "8   0           0              57abbb27498e83ad6cb12b0a  \n",
       "9   0           0              57324317498e3657d06ac61d  \n",
       "10  0           0              51eabe7e498e46b34ed5c7a4  \n",
       "11  0           0              51ab1af4498ec8acb2667dab  \n",
       "12  0           0              51aa39a3498ee7f30b628bb1  \n",
       "13  0           0              5187e871498ecce31df4fbcd  \n",
       "14  3           0              51733477e4b0106169c1169b  "
      ]
     },
     "execution_count": 46,
     "metadata": {},
     "output_type": "execute_result"
    }
   ],
   "source": [
    "# define tips URL\n",
    "user_id='37278503'\n",
    "url = 'https://api.foursquare.com/v2/users/{}/tips?client_id={}&client_secret={}&oauth_token={}&v={}&limit={}'.format(user_id, CLIENT_ID, CLIENT_SECRET,ACCESS_TOKEN,VERSION, limit)\n",
    "\n",
    "# send GET request and get user's tips\n",
    "results = requests.get(url).json()\n",
    "tips = results['response']['tips']['items']\n",
    "\n",
    "# format column width\n",
    "pd.set_option('display.max_colwidth', -1)\n",
    "\n",
    "tips_df = json_normalize(tips)\n",
    "\n",
    "# filter columns\n",
    "filtered_columns = ['text', 'agreeCount', 'disagreeCount', 'id']\n",
    "tips_filtered = tips_df.loc[:, filtered_columns]\n",
    "\n",
    "# display user's tips\n",
    "tips_filtered"
   ]
  },
  {
   "cell_type": "markdown",
   "metadata": {
    "button": false,
    "new_sheet": false,
    "run_control": {
     "read_only": false
    }
   },
   "source": [
    "#### Let's get the venue for the tip with the greatest number of agree counts\n"
   ]
  },
  {
   "cell_type": "code",
   "execution_count": 47,
   "metadata": {
    "button": false,
    "jupyter": {
     "outputs_hidden": false
    },
    "new_sheet": false,
    "run_control": {
     "read_only": false
    }
   },
   "outputs": [
    {
     "name": "stdout",
     "output_type": "stream",
     "text": [
      "Ledesma N°5\n",
      "{'address': 'Ledesma', 'lat': 43.2621493293564, 'lng': -2.9287021357437655, 'labeledLatLngs': [{'label': 'display', 'lat': 43.2621493293564, 'lng': -2.9287021357437655}], 'postalCode': '48001', 'cc': 'ES', 'city': 'Bilbao', 'state': 'Bizcáis', 'country': 'España', 'formattedAddress': ['Ledesma', '48001 Bilbao Bizcáis', 'España']}\n"
     ]
    }
   ],
   "source": [
    "tip_id = '51733477e4b0106169c1169b' # tip id\n",
    "\n",
    "# define URL\n",
    "url = 'https://api.foursquare.com/v2/users/{}/tips?client_id={}&client_secret={}&oauth_token={}&v={}'.format(idnumber, CLIENT_ID, CLIENT_SECRET,ACCESS_TOKEN, VERSION) # define URL\n",
    "\n",
    "\n",
    "# send GET Request and examine results\n",
    "result = requests.get(url).json()\n",
    "print(result['response']['tips']['items'][0]['venue']['name'])\n",
    "print(result['response']['tips']['items'][0]['venue']['location'])"
   ]
  },
  {
   "cell_type": "markdown",
   "metadata": {
    "button": false,
    "new_sheet": false,
    "run_control": {
     "read_only": false
    }
   },
   "source": [
    "## 4. Explore a location\n",
    "\n",
    "> `https://api.foursquare.com/v2/venues/`**explore**`?client_id=`**CLIENT_ID**`&client_secret=`**CLIENT_SECRET**`&ll=`**LATITUDE**`,`**LONGITUDE**`&v=`**VERSION**`&limit=`**LIMIT**\n"
   ]
  },
  {
   "cell_type": "markdown",
   "metadata": {
    "button": false,
    "new_sheet": false,
    "run_control": {
     "read_only": false
    }
   },
   "source": [
    "#### Nearby Bar Tapas and the English Garden\n"
   ]
  },
  {
   "cell_type": "code",
   "execution_count": 48,
   "metadata": {
    "button": false,
    "jupyter": {
     "outputs_hidden": true
    },
    "new_sheet": false,
    "run_control": {
     "read_only": false
    }
   },
   "outputs": [],
   "source": [
    "latitude = 48.152094\n",
    "longitude = 11.579663\n"
   ]
  },
  {
   "cell_type": "markdown",
   "metadata": {
    "button": false,
    "new_sheet": false,
    "run_control": {
     "read_only": false
    }
   },
   "source": [
    "#### Define URL\n"
   ]
  },
  {
   "cell_type": "code",
   "execution_count": 49,
   "metadata": {
    "button": false,
    "jupyter": {
     "outputs_hidden": false
    },
    "new_sheet": false,
    "run_control": {
     "read_only": false
    }
   },
   "outputs": [
    {
     "data": {
      "text/plain": [
       "'https://api.foursquare.com/v2/venues/explore?client_id=2Z3UZXIKCNOTBEIKO1HVNWDJ1JT0YAPMRSB4W5YXBPFSKW4N&client_secret=AFML0IDZ5Y4J52JD24T2I4RJXIPJGB2IPU3ITU0EOEIY5JFV&ll=48.152094,11.579663&v=20180604&radius=2000&limit=30'"
      ]
     },
     "execution_count": 49,
     "metadata": {},
     "output_type": "execute_result"
    }
   ],
   "source": [
    "url = 'https://api.foursquare.com/v2/venues/explore?client_id={}&client_secret={}&ll={},{}&v={}&radius={}&limit={}'.format(CLIENT_ID, CLIENT_SECRET, latitude, longitude, VERSION, radius, LIMIT)\n",
    "url"
   ]
  },
  {
   "cell_type": "markdown",
   "metadata": {
    "button": false,
    "new_sheet": false,
    "run_control": {
     "read_only": false
    }
   },
   "source": [
    "#### Send GET request and examine results\n"
   ]
  },
  {
   "cell_type": "code",
   "execution_count": 50,
   "metadata": {
    "button": false,
    "jupyter": {
     "outputs_hidden": true
    },
    "new_sheet": false,
    "run_control": {
     "read_only": false
    }
   },
   "outputs": [],
   "source": [
    "import requests"
   ]
  },
  {
   "cell_type": "code",
   "execution_count": 52,
   "metadata": {
    "button": false,
    "jupyter": {
     "outputs_hidden": false
    },
    "new_sheet": false,
    "run_control": {
     "read_only": false
    }
   },
   "outputs": [
    {
     "data": {
      "text/plain": [
       "'There are 30 around Bar Tapas.'"
      ]
     },
     "execution_count": 52,
     "metadata": {},
     "output_type": "execute_result"
    }
   ],
   "source": [
    "results = requests.get(url).json()\n",
    "'There are {} around Bar Tapas.'.format(len(results['response']['groups'][0]['items']))"
   ]
  },
  {
   "cell_type": "markdown",
   "metadata": {
    "button": false,
    "new_sheet": false,
    "run_control": {
     "read_only": false
    }
   },
   "source": [
    "#### Get relevant part of JSON\n"
   ]
  },
  {
   "cell_type": "code",
   "execution_count": 53,
   "metadata": {
    "button": false,
    "jupyter": {
     "outputs_hidden": false
    },
    "new_sheet": false,
    "run_control": {
     "read_only": false
    }
   },
   "outputs": [
    {
     "data": {
      "text/plain": [
       "{'reasons': {'count': 0,\n",
       "  'items': [{'summary': 'This spot is popular',\n",
       "    'type': 'general',\n",
       "    'reasonName': 'globalInteractionReason'}]},\n",
       " 'venue': {'id': '4ade0ccff964a5202a6921e3',\n",
       "  'name': 'Geschwister-Scholl-Platz',\n",
       "  'location': {'address': 'Geschwister-Scholl-Platz 1',\n",
       "   'lat': 48.15085029162982,\n",
       "   'lng': 11.581382577473928,\n",
       "   'labeledLatLngs': [{'label': 'display',\n",
       "     'lat': 48.15085029162982,\n",
       "     'lng': 11.581382577473928}],\n",
       "   'distance': 188,\n",
       "   'postalCode': '80539',\n",
       "   'cc': 'DE',\n",
       "   'city': 'München',\n",
       "   'state': 'Bayern',\n",
       "   'country': 'Deutschland',\n",
       "   'formattedAddress': ['Geschwister-Scholl-Platz 1',\n",
       "    '80539 München',\n",
       "    'Deutschland']},\n",
       "  'categories': [{'id': '4bf58dd8d48988d164941735',\n",
       "    'name': 'Plaza',\n",
       "    'pluralName': 'Plazas',\n",
       "    'shortName': 'Plaza',\n",
       "    'icon': {'prefix': 'https://ss3.4sqi.net/img/categories_v2/parks_outdoors/plaza_',\n",
       "     'suffix': '.png'},\n",
       "    'primary': True}],\n",
       "  'photos': {'count': 0, 'groups': []}},\n",
       " 'referralId': 'e-0-4ade0ccff964a5202a6921e3-0'}"
      ]
     },
     "execution_count": 53,
     "metadata": {},
     "output_type": "execute_result"
    }
   ],
   "source": [
    "items = results['response']['groups'][0]['items']\n",
    "items[0]"
   ]
  },
  {
   "cell_type": "markdown",
   "metadata": {
    "button": false,
    "new_sheet": false,
    "run_control": {
     "read_only": false
    }
   },
   "source": [
    "#### Process JSON and convert it to a clean dataframe\n"
   ]
  },
  {
   "cell_type": "code",
   "execution_count": 54,
   "metadata": {
    "button": false,
    "jupyter": {
     "outputs_hidden": false
    },
    "new_sheet": false,
    "run_control": {
     "read_only": false
    }
   },
   "outputs": [
    {
     "name": "stderr",
     "output_type": "stream",
     "text": [
      "<ipython-input-54-b7321e367fed>:1: FutureWarning: pandas.io.json.json_normalize is deprecated, use pandas.json_normalize instead\n",
      "  dataframe = json_normalize(items) # flatten JSON\n"
     ]
    },
    {
     "data": {
      "text/html": [
       "<div>\n",
       "<style scoped>\n",
       "    .dataframe tbody tr th:only-of-type {\n",
       "        vertical-align: middle;\n",
       "    }\n",
       "\n",
       "    .dataframe tbody tr th {\n",
       "        vertical-align: top;\n",
       "    }\n",
       "\n",
       "    .dataframe thead th {\n",
       "        text-align: right;\n",
       "    }\n",
       "</style>\n",
       "<table border=\"1\" class=\"dataframe\">\n",
       "  <thead>\n",
       "    <tr style=\"text-align: right;\">\n",
       "      <th></th>\n",
       "      <th>name</th>\n",
       "      <th>categories</th>\n",
       "      <th>address</th>\n",
       "      <th>lat</th>\n",
       "      <th>lng</th>\n",
       "      <th>labeledLatLngs</th>\n",
       "      <th>distance</th>\n",
       "      <th>postalCode</th>\n",
       "      <th>cc</th>\n",
       "      <th>city</th>\n",
       "      <th>state</th>\n",
       "      <th>country</th>\n",
       "      <th>formattedAddress</th>\n",
       "      <th>crossStreet</th>\n",
       "      <th>neighborhood</th>\n",
       "      <th>id</th>\n",
       "    </tr>\n",
       "  </thead>\n",
       "  <tbody>\n",
       "    <tr>\n",
       "      <th>0</th>\n",
       "      <td>Geschwister-Scholl-Platz</td>\n",
       "      <td>Plaza</td>\n",
       "      <td>Geschwister-Scholl-Platz 1</td>\n",
       "      <td>48.150850</td>\n",
       "      <td>11.581383</td>\n",
       "      <td>[{'label': 'display', 'lat': 48.15085029162982, 'lng': 11.581382577473928}]</td>\n",
       "      <td>188</td>\n",
       "      <td>80539</td>\n",
       "      <td>DE</td>\n",
       "      <td>München</td>\n",
       "      <td>Bayern</td>\n",
       "      <td>Deutschland</td>\n",
       "      <td>[Geschwister-Scholl-Platz 1, 80539 München, Deutschland]</td>\n",
       "      <td>NaN</td>\n",
       "      <td>NaN</td>\n",
       "      <td>4ade0ccff964a5202a6921e3</td>\n",
       "    </tr>\n",
       "    <tr>\n",
       "      <th>1</th>\n",
       "      <td>Konditorei Kaffee Schneller</td>\n",
       "      <td>Pastry Shop</td>\n",
       "      <td>Amalienstr. 59</td>\n",
       "      <td>48.149829</td>\n",
       "      <td>11.578166</td>\n",
       "      <td>[{'label': 'display', 'lat': 48.14982910784462, 'lng': 11.578166351245983}]</td>\n",
       "      <td>275</td>\n",
       "      <td>80799</td>\n",
       "      <td>DE</td>\n",
       "      <td>München</td>\n",
       "      <td>Bayern</td>\n",
       "      <td>Deutschland</td>\n",
       "      <td>[Amalienstr. 59 (Schellingstr.), 80799 München, Deutschland]</td>\n",
       "      <td>Schellingstr.</td>\n",
       "      <td>NaN</td>\n",
       "      <td>4e5df90ea809fd79d291c2e6</td>\n",
       "    </tr>\n",
       "    <tr>\n",
       "      <th>2</th>\n",
       "      <td>Julius Brantner Brothandwerk</td>\n",
       "      <td>Bakery</td>\n",
       "      <td>Adalbertstr. 25</td>\n",
       "      <td>48.152348</td>\n",
       "      <td>11.577462</td>\n",
       "      <td>[{'label': 'display', 'lat': 48.152348, 'lng': 11.577462}]</td>\n",
       "      <td>165</td>\n",
       "      <td>80799</td>\n",
       "      <td>DE</td>\n",
       "      <td>München</td>\n",
       "      <td>Bayern</td>\n",
       "      <td>Deutschland</td>\n",
       "      <td>[Adalbertstr. 25 (Türkenstr.), 80799 München, Deutschland]</td>\n",
       "      <td>Türkenstr.</td>\n",
       "      <td>NaN</td>\n",
       "      <td>5cd524a149cf930032b881b7</td>\n",
       "    </tr>\n",
       "    <tr>\n",
       "      <th>3</th>\n",
       "      <td>The Victorian House Brown's Tea Bar</td>\n",
       "      <td>Tea Room</td>\n",
       "      <td>Türkenstr. 60</td>\n",
       "      <td>48.149943</td>\n",
       "      <td>11.575785</td>\n",
       "      <td>[{'label': 'display', 'lat': 48.14994274145202, 'lng': 11.575785499141919}]</td>\n",
       "      <td>374</td>\n",
       "      <td>80799</td>\n",
       "      <td>DE</td>\n",
       "      <td>München</td>\n",
       "      <td>Bayern</td>\n",
       "      <td>Deutschland</td>\n",
       "      <td>[Türkenstr. 60 (Schellingstr.), 80799 München, Deutschland]</td>\n",
       "      <td>Schellingstr.</td>\n",
       "      <td>NaN</td>\n",
       "      <td>4b61aaacf964a5206d1c2ae3</td>\n",
       "    </tr>\n",
       "    <tr>\n",
       "      <th>4</th>\n",
       "      <td>Lost Weekend</td>\n",
       "      <td>Café</td>\n",
       "      <td>Schellingstr. 3</td>\n",
       "      <td>48.149109</td>\n",
       "      <td>11.579623</td>\n",
       "      <td>[{'label': 'display', 'lat': 48.149109, 'lng': 11.579623}]</td>\n",
       "      <td>332</td>\n",
       "      <td>80799</td>\n",
       "      <td>DE</td>\n",
       "      <td>München</td>\n",
       "      <td>Bayern</td>\n",
       "      <td>Deutschland</td>\n",
       "      <td>[Schellingstr. 3 (Ludwigstr.), 80799 München, Deutschland]</td>\n",
       "      <td>Ludwigstr.</td>\n",
       "      <td>NaN</td>\n",
       "      <td>546783f8498e6ff6e99522db</td>\n",
       "    </tr>\n",
       "    <tr>\n",
       "      <th>5</th>\n",
       "      <td>Donuts &amp; Candies</td>\n",
       "      <td>Donut Shop</td>\n",
       "      <td>Georgenstr. 41</td>\n",
       "      <td>48.154955</td>\n",
       "      <td>11.575446</td>\n",
       "      <td>[{'label': 'display', 'lat': 48.15495483392071, 'lng': 11.575446474150139}]</td>\n",
       "      <td>446</td>\n",
       "      <td>80799</td>\n",
       "      <td>DE</td>\n",
       "      <td>München</td>\n",
       "      <td>Bayern</td>\n",
       "      <td>Deutschland</td>\n",
       "      <td>[Georgenstr. 41 (Nordendstr.), 80799 München, Deutschland]</td>\n",
       "      <td>Nordendstr.</td>\n",
       "      <td>NaN</td>\n",
       "      <td>4b4a5aaef964a520f98426e3</td>\n",
       "    </tr>\n",
       "    <tr>\n",
       "      <th>6</th>\n",
       "      <td>Königin 43</td>\n",
       "      <td>Café</td>\n",
       "      <td>Königinstr. 43</td>\n",
       "      <td>48.150173</td>\n",
       "      <td>11.584367</td>\n",
       "      <td>[{'label': 'display', 'lat': 48.150173, 'lng': 11.584367}]</td>\n",
       "      <td>409</td>\n",
       "      <td>80539</td>\n",
       "      <td>DE</td>\n",
       "      <td>München</td>\n",
       "      <td>Bayern</td>\n",
       "      <td>Deutschland</td>\n",
       "      <td>[Königinstr. 43 (Veterinärstr.), 80539 München, Deutschland]</td>\n",
       "      <td>Veterinärstr.</td>\n",
       "      <td>NaN</td>\n",
       "      <td>4dcc250bd4c0dfa030e1120d</td>\n",
       "    </tr>\n",
       "    <tr>\n",
       "      <th>7</th>\n",
       "      <td>Sushiya Sansaro</td>\n",
       "      <td>Sushi Restaurant</td>\n",
       "      <td>Amalienstr. 89</td>\n",
       "      <td>48.151800</td>\n",
       "      <td>11.578324</td>\n",
       "      <td>[{'label': 'display', 'lat': 48.15179960676336, 'lng': 11.578323599926918}]</td>\n",
       "      <td>104</td>\n",
       "      <td>80799</td>\n",
       "      <td>DE</td>\n",
       "      <td>München</td>\n",
       "      <td>Bayern</td>\n",
       "      <td>Deutschland</td>\n",
       "      <td>[Amalienstr. 89, 80799 München, Deutschland]</td>\n",
       "      <td>NaN</td>\n",
       "      <td>NaN</td>\n",
       "      <td>4b1e4543f964a520461824e3</td>\n",
       "    </tr>\n",
       "    <tr>\n",
       "      <th>8</th>\n",
       "      <td>Morso</td>\n",
       "      <td>Café</td>\n",
       "      <td>Nordendstraße 17</td>\n",
       "      <td>48.154720</td>\n",
       "      <td>11.575472</td>\n",
       "      <td>[{'label': 'display', 'lat': 48.15471984892339, 'lng': 11.575472438953218}]</td>\n",
       "      <td>426</td>\n",
       "      <td>80799</td>\n",
       "      <td>DE</td>\n",
       "      <td>München</td>\n",
       "      <td>Bayern</td>\n",
       "      <td>Deutschland</td>\n",
       "      <td>[Nordendstraße 17, 80799 München, Deutschland]</td>\n",
       "      <td>NaN</td>\n",
       "      <td>Universität</td>\n",
       "      <td>54329e4d498e648f00cf1462</td>\n",
       "    </tr>\n",
       "    <tr>\n",
       "      <th>9</th>\n",
       "      <td>Ballabeni</td>\n",
       "      <td>Ice Cream Shop</td>\n",
       "      <td>Theresienstr. 46</td>\n",
       "      <td>48.148312</td>\n",
       "      <td>11.574575</td>\n",
       "      <td>[{'label': 'display', 'lat': 48.14831238954939, 'lng': 11.574575340740491}]</td>\n",
       "      <td>565</td>\n",
       "      <td>80333</td>\n",
       "      <td>DE</td>\n",
       "      <td>München</td>\n",
       "      <td>Bayern</td>\n",
       "      <td>Deutschland</td>\n",
       "      <td>[Theresienstr. 46 (Türkenstr.), 80333 München, Deutschland]</td>\n",
       "      <td>Türkenstr.</td>\n",
       "      <td>NaN</td>\n",
       "      <td>4bb74190f562ef3b5a283197</td>\n",
       "    </tr>\n",
       "  </tbody>\n",
       "</table>\n",
       "</div>"
      ],
      "text/plain": [
       "                                  name        categories  \\\n",
       "0  Geschwister-Scholl-Platz             Plaza              \n",
       "1  Konditorei Kaffee Schneller          Pastry Shop        \n",
       "2  Julius Brantner Brothandwerk         Bakery             \n",
       "3  The Victorian House Brown's Tea Bar  Tea Room           \n",
       "4  Lost Weekend                         Café               \n",
       "5  Donuts & Candies                     Donut Shop         \n",
       "6  Königin 43                           Café               \n",
       "7  Sushiya Sansaro                      Sushi Restaurant   \n",
       "8  Morso                                Café               \n",
       "9  Ballabeni                            Ice Cream Shop     \n",
       "\n",
       "                      address        lat        lng  \\\n",
       "0  Geschwister-Scholl-Platz 1  48.150850  11.581383   \n",
       "1  Amalienstr. 59              48.149829  11.578166   \n",
       "2  Adalbertstr. 25             48.152348  11.577462   \n",
       "3  Türkenstr. 60               48.149943  11.575785   \n",
       "4  Schellingstr. 3             48.149109  11.579623   \n",
       "5  Georgenstr. 41              48.154955  11.575446   \n",
       "6  Königinstr. 43              48.150173  11.584367   \n",
       "7  Amalienstr. 89              48.151800  11.578324   \n",
       "8  Nordendstraße 17            48.154720  11.575472   \n",
       "9  Theresienstr. 46            48.148312  11.574575   \n",
       "\n",
       "                                                                labeledLatLngs  \\\n",
       "0  [{'label': 'display', 'lat': 48.15085029162982, 'lng': 11.581382577473928}]   \n",
       "1  [{'label': 'display', 'lat': 48.14982910784462, 'lng': 11.578166351245983}]   \n",
       "2  [{'label': 'display', 'lat': 48.152348, 'lng': 11.577462}]                    \n",
       "3  [{'label': 'display', 'lat': 48.14994274145202, 'lng': 11.575785499141919}]   \n",
       "4  [{'label': 'display', 'lat': 48.149109, 'lng': 11.579623}]                    \n",
       "5  [{'label': 'display', 'lat': 48.15495483392071, 'lng': 11.575446474150139}]   \n",
       "6  [{'label': 'display', 'lat': 48.150173, 'lng': 11.584367}]                    \n",
       "7  [{'label': 'display', 'lat': 48.15179960676336, 'lng': 11.578323599926918}]   \n",
       "8  [{'label': 'display', 'lat': 48.15471984892339, 'lng': 11.575472438953218}]   \n",
       "9  [{'label': 'display', 'lat': 48.14831238954939, 'lng': 11.574575340740491}]   \n",
       "\n",
       "   distance postalCode  cc     city   state      country  \\\n",
       "0  188       80539      DE  München  Bayern  Deutschland   \n",
       "1  275       80799      DE  München  Bayern  Deutschland   \n",
       "2  165       80799      DE  München  Bayern  Deutschland   \n",
       "3  374       80799      DE  München  Bayern  Deutschland   \n",
       "4  332       80799      DE  München  Bayern  Deutschland   \n",
       "5  446       80799      DE  München  Bayern  Deutschland   \n",
       "6  409       80539      DE  München  Bayern  Deutschland   \n",
       "7  104       80799      DE  München  Bayern  Deutschland   \n",
       "8  426       80799      DE  München  Bayern  Deutschland   \n",
       "9  565       80333      DE  München  Bayern  Deutschland   \n",
       "\n",
       "                                               formattedAddress  \\\n",
       "0  [Geschwister-Scholl-Platz 1, 80539 München, Deutschland]       \n",
       "1  [Amalienstr. 59 (Schellingstr.), 80799 München, Deutschland]   \n",
       "2  [Adalbertstr. 25 (Türkenstr.), 80799 München, Deutschland]     \n",
       "3  [Türkenstr. 60 (Schellingstr.), 80799 München, Deutschland]    \n",
       "4  [Schellingstr. 3 (Ludwigstr.), 80799 München, Deutschland]     \n",
       "5  [Georgenstr. 41 (Nordendstr.), 80799 München, Deutschland]     \n",
       "6  [Königinstr. 43 (Veterinärstr.), 80539 München, Deutschland]   \n",
       "7  [Amalienstr. 89, 80799 München, Deutschland]                   \n",
       "8  [Nordendstraße 17, 80799 München, Deutschland]                 \n",
       "9  [Theresienstr. 46 (Türkenstr.), 80333 München, Deutschland]    \n",
       "\n",
       "     crossStreet neighborhood                        id  \n",
       "0  NaN            NaN          4ade0ccff964a5202a6921e3  \n",
       "1  Schellingstr.  NaN          4e5df90ea809fd79d291c2e6  \n",
       "2  Türkenstr.     NaN          5cd524a149cf930032b881b7  \n",
       "3  Schellingstr.  NaN          4b61aaacf964a5206d1c2ae3  \n",
       "4  Ludwigstr.     NaN          546783f8498e6ff6e99522db  \n",
       "5  Nordendstr.    NaN          4b4a5aaef964a520f98426e3  \n",
       "6  Veterinärstr.  NaN          4dcc250bd4c0dfa030e1120d  \n",
       "7  NaN            NaN          4b1e4543f964a520461824e3  \n",
       "8  NaN            Universität  54329e4d498e648f00cf1462  \n",
       "9  Türkenstr.     NaN          4bb74190f562ef3b5a283197  "
      ]
     },
     "execution_count": 54,
     "metadata": {},
     "output_type": "execute_result"
    }
   ],
   "source": [
    "dataframe = json_normalize(items) # flatten JSON\n",
    "\n",
    "# filter columns\n",
    "filtered_columns = ['venue.name', 'venue.categories'] + [col for col in dataframe.columns if col.startswith('venue.location.')] + ['venue.id']\n",
    "dataframe_filtered = dataframe.loc[:, filtered_columns]\n",
    "\n",
    "# filter the category for each row\n",
    "dataframe_filtered['venue.categories'] = dataframe_filtered.apply(get_category_type, axis=1)\n",
    "\n",
    "# clean columns\n",
    "dataframe_filtered.columns = [col.split('.')[-1] for col in dataframe_filtered.columns]\n",
    "\n",
    "dataframe_filtered.head(10)"
   ]
  },
  {
   "cell_type": "markdown",
   "metadata": {
    "button": false,
    "new_sheet": false,
    "run_control": {
     "read_only": false
    }
   },
   "source": [
    "#### Let's visualize these items on the map around our location\n"
   ]
  },
  {
   "cell_type": "code",
   "execution_count": 61,
   "metadata": {
    "button": false,
    "jupyter": {
     "outputs_hidden": false
    },
    "new_sheet": false,
    "run_control": {
     "read_only": false
    },
    "scrolled": true
   },
   "outputs": [
    {
     "data": {
      "text/html": [
       "<div style=\"width:100%;\"><div style=\"position:relative;width:100%;height:0;padding-bottom:60%;\"><span style=\"color:#565656\">Make this Notebook Trusted to load map: File -> Trust Notebook</span><iframe src=\"about:blank\" style=\"position:absolute;width:100%;height:100%;left:0;top:0;border:none !important;\" data-html=%3C%21DOCTYPE%20html%3E%0A%3Chead%3E%20%20%20%20%0A%20%20%20%20%3Cmeta%20http-equiv%3D%22content-type%22%20content%3D%22text/html%3B%20charset%3DUTF-8%22%20/%3E%0A%20%20%20%20%3Cscript%3EL_PREFER_CANVAS%20%3D%20false%3B%20L_NO_TOUCH%20%3D%20false%3B%20L_DISABLE_3D%20%3D%20false%3B%3C/script%3E%0A%20%20%20%20%3Cscript%20src%3D%22https%3A//cdn.jsdelivr.net/npm/leaflet%401.2.0/dist/leaflet.js%22%3E%3C/script%3E%0A%20%20%20%20%3Cscript%20src%3D%22https%3A//ajax.googleapis.com/ajax/libs/jquery/1.11.1/jquery.min.js%22%3E%3C/script%3E%0A%20%20%20%20%3Cscript%20src%3D%22https%3A//maxcdn.bootstrapcdn.com/bootstrap/3.2.0/js/bootstrap.min.js%22%3E%3C/script%3E%0A%20%20%20%20%3Cscript%20src%3D%22https%3A//cdnjs.cloudflare.com/ajax/libs/Leaflet.awesome-markers/2.0.2/leaflet.awesome-markers.js%22%3E%3C/script%3E%0A%20%20%20%20%3Clink%20rel%3D%22stylesheet%22%20href%3D%22https%3A//cdn.jsdelivr.net/npm/leaflet%401.2.0/dist/leaflet.css%22/%3E%0A%20%20%20%20%3Clink%20rel%3D%22stylesheet%22%20href%3D%22https%3A//maxcdn.bootstrapcdn.com/bootstrap/3.2.0/css/bootstrap.min.css%22/%3E%0A%20%20%20%20%3Clink%20rel%3D%22stylesheet%22%20href%3D%22https%3A//maxcdn.bootstrapcdn.com/bootstrap/3.2.0/css/bootstrap-theme.min.css%22/%3E%0A%20%20%20%20%3Clink%20rel%3D%22stylesheet%22%20href%3D%22https%3A//maxcdn.bootstrapcdn.com/font-awesome/4.6.3/css/font-awesome.min.css%22/%3E%0A%20%20%20%20%3Clink%20rel%3D%22stylesheet%22%20href%3D%22https%3A//cdnjs.cloudflare.com/ajax/libs/Leaflet.awesome-markers/2.0.2/leaflet.awesome-markers.css%22/%3E%0A%20%20%20%20%3Clink%20rel%3D%22stylesheet%22%20href%3D%22https%3A//rawgit.com/python-visualization/folium/master/folium/templates/leaflet.awesome.rotate.css%22/%3E%0A%20%20%20%20%3Cstyle%3Ehtml%2C%20body%20%7Bwidth%3A%20100%25%3Bheight%3A%20100%25%3Bmargin%3A%200%3Bpadding%3A%200%3B%7D%3C/style%3E%0A%20%20%20%20%3Cstyle%3E%23map%20%7Bposition%3Aabsolute%3Btop%3A0%3Bbottom%3A0%3Bright%3A0%3Bleft%3A0%3B%7D%3C/style%3E%0A%20%20%20%20%0A%20%20%20%20%20%20%20%20%20%20%20%20%3Cstyle%3E%20%23map_9188f39b62da4390882e4a32ba9eaa7b%20%7B%0A%20%20%20%20%20%20%20%20%20%20%20%20%20%20%20%20position%20%3A%20relative%3B%0A%20%20%20%20%20%20%20%20%20%20%20%20%20%20%20%20width%20%3A%20100.0%25%3B%0A%20%20%20%20%20%20%20%20%20%20%20%20%20%20%20%20height%3A%20100.0%25%3B%0A%20%20%20%20%20%20%20%20%20%20%20%20%20%20%20%20left%3A%200.0%25%3B%0A%20%20%20%20%20%20%20%20%20%20%20%20%20%20%20%20top%3A%200.0%25%3B%0A%20%20%20%20%20%20%20%20%20%20%20%20%20%20%20%20%7D%0A%20%20%20%20%20%20%20%20%20%20%20%20%3C/style%3E%0A%20%20%20%20%20%20%20%20%0A%3C/head%3E%0A%3Cbody%3E%20%20%20%20%0A%20%20%20%20%0A%20%20%20%20%20%20%20%20%20%20%20%20%3Cdiv%20class%3D%22folium-map%22%20id%3D%22map_9188f39b62da4390882e4a32ba9eaa7b%22%20%3E%3C/div%3E%0A%20%20%20%20%20%20%20%20%0A%3C/body%3E%0A%3Cscript%3E%20%20%20%20%0A%20%20%20%20%0A%0A%20%20%20%20%20%20%20%20%20%20%20%20%0A%20%20%20%20%20%20%20%20%20%20%20%20%20%20%20%20var%20bounds%20%3D%20null%3B%0A%20%20%20%20%20%20%20%20%20%20%20%20%0A%0A%20%20%20%20%20%20%20%20%20%20%20%20var%20map_9188f39b62da4390882e4a32ba9eaa7b%20%3D%20L.map%28%0A%20%20%20%20%20%20%20%20%20%20%20%20%20%20%20%20%20%20%20%20%20%20%20%20%20%20%20%20%20%20%20%20%20%20%27map_9188f39b62da4390882e4a32ba9eaa7b%27%2C%0A%20%20%20%20%20%20%20%20%20%20%20%20%20%20%20%20%20%20%20%20%20%20%20%20%20%20%20%20%20%20%20%20%20%20%7Bcenter%3A%20%5B48.152094%2C11.579663%5D%2C%0A%20%20%20%20%20%20%20%20%20%20%20%20%20%20%20%20%20%20%20%20%20%20%20%20%20%20%20%20%20%20%20%20%20%20zoom%3A%2015%2C%0A%20%20%20%20%20%20%20%20%20%20%20%20%20%20%20%20%20%20%20%20%20%20%20%20%20%20%20%20%20%20%20%20%20%20maxBounds%3A%20bounds%2C%0A%20%20%20%20%20%20%20%20%20%20%20%20%20%20%20%20%20%20%20%20%20%20%20%20%20%20%20%20%20%20%20%20%20%20layers%3A%20%5B%5D%2C%0A%20%20%20%20%20%20%20%20%20%20%20%20%20%20%20%20%20%20%20%20%20%20%20%20%20%20%20%20%20%20%20%20%20%20worldCopyJump%3A%20false%2C%0A%20%20%20%20%20%20%20%20%20%20%20%20%20%20%20%20%20%20%20%20%20%20%20%20%20%20%20%20%20%20%20%20%20%20crs%3A%20L.CRS.EPSG3857%0A%20%20%20%20%20%20%20%20%20%20%20%20%20%20%20%20%20%20%20%20%20%20%20%20%20%20%20%20%20%20%20%20%20%7D%29%3B%0A%20%20%20%20%20%20%20%20%20%20%20%20%0A%20%20%20%20%20%20%20%20%0A%20%20%20%20%0A%20%20%20%20%20%20%20%20%20%20%20%20var%20tile_layer_a108b78d3230414e8e94901a4e641773%20%3D%20L.tileLayer%28%0A%20%20%20%20%20%20%20%20%20%20%20%20%20%20%20%20%27https%3A//%7Bs%7D.tile.openstreetmap.org/%7Bz%7D/%7Bx%7D/%7By%7D.png%27%2C%0A%20%20%20%20%20%20%20%20%20%20%20%20%20%20%20%20%7B%0A%20%20%22attribution%22%3A%20null%2C%0A%20%20%22detectRetina%22%3A%20false%2C%0A%20%20%22maxZoom%22%3A%2018%2C%0A%20%20%22minZoom%22%3A%201%2C%0A%20%20%22noWrap%22%3A%20false%2C%0A%20%20%22subdomains%22%3A%20%22abc%22%0A%7D%0A%20%20%20%20%20%20%20%20%20%20%20%20%20%20%20%20%29.addTo%28map_9188f39b62da4390882e4a32ba9eaa7b%29%3B%0A%20%20%20%20%20%20%20%20%0A%20%20%20%20%0A%20%20%20%20%20%20%20%20%20%20%20%20var%20circle_marker_081cdb8e30de4d09a12bb20d215af5e4%20%3D%20L.circleMarker%28%0A%20%20%20%20%20%20%20%20%20%20%20%20%20%20%20%20%5B48.152094%2C11.579663%5D%2C%0A%20%20%20%20%20%20%20%20%20%20%20%20%20%20%20%20%7B%0A%20%20%22bubblingMouseEvents%22%3A%20true%2C%0A%20%20%22color%22%3A%20%22red%22%2C%0A%20%20%22dashArray%22%3A%20null%2C%0A%20%20%22dashOffset%22%3A%20null%2C%0A%20%20%22fill%22%3A%20true%2C%0A%20%20%22fillColor%22%3A%20%22red%22%2C%0A%20%20%22fillOpacity%22%3A%200.6%2C%0A%20%20%22fillRule%22%3A%20%22evenodd%22%2C%0A%20%20%22lineCap%22%3A%20%22round%22%2C%0A%20%20%22lineJoin%22%3A%20%22round%22%2C%0A%20%20%22opacity%22%3A%201.0%2C%0A%20%20%22radius%22%3A%2010%2C%0A%20%20%22stroke%22%3A%20true%2C%0A%20%20%22weight%22%3A%203%0A%7D%0A%20%20%20%20%20%20%20%20%20%20%20%20%20%20%20%20%29.addTo%28map_9188f39b62da4390882e4a32ba9eaa7b%29%3B%0A%20%20%20%20%20%20%20%20%20%20%20%20%0A%20%20%20%20%0A%20%20%20%20%20%20%20%20%20%20%20%20var%20popup_eefce11225ff4101a4956dc376a1ef6c%20%3D%20L.popup%28%7BmaxWidth%3A%20%27300%27%7D%29%3B%0A%0A%20%20%20%20%20%20%20%20%20%20%20%20%0A%20%20%20%20%20%20%20%20%20%20%20%20%20%20%20%20var%20html_05a05d0f7129424493b5e6fd2d942ef2%20%3D%20%24%28%27%3Cdiv%20id%3D%22html_05a05d0f7129424493b5e6fd2d942ef2%22%20style%3D%22width%3A%20100.0%25%3B%20height%3A%20100.0%25%3B%22%3EEcco%3C/div%3E%27%29%5B0%5D%3B%0A%20%20%20%20%20%20%20%20%20%20%20%20%20%20%20%20popup_eefce11225ff4101a4956dc376a1ef6c.setContent%28html_05a05d0f7129424493b5e6fd2d942ef2%29%3B%0A%20%20%20%20%20%20%20%20%20%20%20%20%0A%0A%20%20%20%20%20%20%20%20%20%20%20%20circle_marker_081cdb8e30de4d09a12bb20d215af5e4.bindPopup%28popup_eefce11225ff4101a4956dc376a1ef6c%29%3B%0A%0A%20%20%20%20%20%20%20%20%20%20%20%20%0A%20%20%20%20%20%20%20%20%0A%20%20%20%20%0A%20%20%20%20%20%20%20%20%20%20%20%20var%20circle_marker_f9f4f3652d944b2c883ae6c082dc0e72%20%3D%20L.circleMarker%28%0A%20%20%20%20%20%20%20%20%20%20%20%20%20%20%20%20%5B48.15085029162982%2C11.581382577473928%5D%2C%0A%20%20%20%20%20%20%20%20%20%20%20%20%20%20%20%20%7B%0A%20%20%22bubblingMouseEvents%22%3A%20true%2C%0A%20%20%22color%22%3A%20%22blue%22%2C%0A%20%20%22dashArray%22%3A%20null%2C%0A%20%20%22dashOffset%22%3A%20null%2C%0A%20%20%22fill%22%3A%20true%2C%0A%20%20%22fillColor%22%3A%20%22blue%22%2C%0A%20%20%22fillOpacity%22%3A%200.6%2C%0A%20%20%22fillRule%22%3A%20%22evenodd%22%2C%0A%20%20%22lineCap%22%3A%20%22round%22%2C%0A%20%20%22lineJoin%22%3A%20%22round%22%2C%0A%20%20%22opacity%22%3A%201.0%2C%0A%20%20%22radius%22%3A%205%2C%0A%20%20%22stroke%22%3A%20true%2C%0A%20%20%22weight%22%3A%203%0A%7D%0A%20%20%20%20%20%20%20%20%20%20%20%20%20%20%20%20%29.addTo%28map_9188f39b62da4390882e4a32ba9eaa7b%29%3B%0A%20%20%20%20%20%20%20%20%20%20%20%20%0A%20%20%20%20%0A%20%20%20%20%20%20%20%20%20%20%20%20var%20popup_439e1cd2b8b34f87a4dd8b837ff381bf%20%3D%20L.popup%28%7BmaxWidth%3A%20%27300%27%7D%29%3B%0A%0A%20%20%20%20%20%20%20%20%20%20%20%20%0A%20%20%20%20%20%20%20%20%20%20%20%20%20%20%20%20var%20html_21318c9e9acc4a4fbf45b025ebd45426%20%3D%20%24%28%27%3Cdiv%20id%3D%22html_21318c9e9acc4a4fbf45b025ebd45426%22%20style%3D%22width%3A%20100.0%25%3B%20height%3A%20100.0%25%3B%22%3EPlaza%3C/div%3E%27%29%5B0%5D%3B%0A%20%20%20%20%20%20%20%20%20%20%20%20%20%20%20%20popup_439e1cd2b8b34f87a4dd8b837ff381bf.setContent%28html_21318c9e9acc4a4fbf45b025ebd45426%29%3B%0A%20%20%20%20%20%20%20%20%20%20%20%20%0A%0A%20%20%20%20%20%20%20%20%20%20%20%20circle_marker_f9f4f3652d944b2c883ae6c082dc0e72.bindPopup%28popup_439e1cd2b8b34f87a4dd8b837ff381bf%29%3B%0A%0A%20%20%20%20%20%20%20%20%20%20%20%20%0A%20%20%20%20%20%20%20%20%0A%20%20%20%20%0A%20%20%20%20%20%20%20%20%20%20%20%20var%20circle_marker_b71592a92e5e49568b923925f7c13971%20%3D%20L.circleMarker%28%0A%20%20%20%20%20%20%20%20%20%20%20%20%20%20%20%20%5B48.14982910784462%2C11.578166351245983%5D%2C%0A%20%20%20%20%20%20%20%20%20%20%20%20%20%20%20%20%7B%0A%20%20%22bubblingMouseEvents%22%3A%20true%2C%0A%20%20%22color%22%3A%20%22blue%22%2C%0A%20%20%22dashArray%22%3A%20null%2C%0A%20%20%22dashOffset%22%3A%20null%2C%0A%20%20%22fill%22%3A%20true%2C%0A%20%20%22fillColor%22%3A%20%22blue%22%2C%0A%20%20%22fillOpacity%22%3A%200.6%2C%0A%20%20%22fillRule%22%3A%20%22evenodd%22%2C%0A%20%20%22lineCap%22%3A%20%22round%22%2C%0A%20%20%22lineJoin%22%3A%20%22round%22%2C%0A%20%20%22opacity%22%3A%201.0%2C%0A%20%20%22radius%22%3A%205%2C%0A%20%20%22stroke%22%3A%20true%2C%0A%20%20%22weight%22%3A%203%0A%7D%0A%20%20%20%20%20%20%20%20%20%20%20%20%20%20%20%20%29.addTo%28map_9188f39b62da4390882e4a32ba9eaa7b%29%3B%0A%20%20%20%20%20%20%20%20%20%20%20%20%0A%20%20%20%20%0A%20%20%20%20%20%20%20%20%20%20%20%20var%20popup_284f31902643457c9d4f3dc035ac97e5%20%3D%20L.popup%28%7BmaxWidth%3A%20%27300%27%7D%29%3B%0A%0A%20%20%20%20%20%20%20%20%20%20%20%20%0A%20%20%20%20%20%20%20%20%20%20%20%20%20%20%20%20var%20html_8442e98267d943029b070fae498afaf3%20%3D%20%24%28%27%3Cdiv%20id%3D%22html_8442e98267d943029b070fae498afaf3%22%20style%3D%22width%3A%20100.0%25%3B%20height%3A%20100.0%25%3B%22%3EPastry%20Shop%3C/div%3E%27%29%5B0%5D%3B%0A%20%20%20%20%20%20%20%20%20%20%20%20%20%20%20%20popup_284f31902643457c9d4f3dc035ac97e5.setContent%28html_8442e98267d943029b070fae498afaf3%29%3B%0A%20%20%20%20%20%20%20%20%20%20%20%20%0A%0A%20%20%20%20%20%20%20%20%20%20%20%20circle_marker_b71592a92e5e49568b923925f7c13971.bindPopup%28popup_284f31902643457c9d4f3dc035ac97e5%29%3B%0A%0A%20%20%20%20%20%20%20%20%20%20%20%20%0A%20%20%20%20%20%20%20%20%0A%20%20%20%20%0A%20%20%20%20%20%20%20%20%20%20%20%20var%20circle_marker_fd94eeb40a624e018211d40b284b5db3%20%3D%20L.circleMarker%28%0A%20%20%20%20%20%20%20%20%20%20%20%20%20%20%20%20%5B48.152348%2C11.577462%5D%2C%0A%20%20%20%20%20%20%20%20%20%20%20%20%20%20%20%20%7B%0A%20%20%22bubblingMouseEvents%22%3A%20true%2C%0A%20%20%22color%22%3A%20%22blue%22%2C%0A%20%20%22dashArray%22%3A%20null%2C%0A%20%20%22dashOffset%22%3A%20null%2C%0A%20%20%22fill%22%3A%20true%2C%0A%20%20%22fillColor%22%3A%20%22blue%22%2C%0A%20%20%22fillOpacity%22%3A%200.6%2C%0A%20%20%22fillRule%22%3A%20%22evenodd%22%2C%0A%20%20%22lineCap%22%3A%20%22round%22%2C%0A%20%20%22lineJoin%22%3A%20%22round%22%2C%0A%20%20%22opacity%22%3A%201.0%2C%0A%20%20%22radius%22%3A%205%2C%0A%20%20%22stroke%22%3A%20true%2C%0A%20%20%22weight%22%3A%203%0A%7D%0A%20%20%20%20%20%20%20%20%20%20%20%20%20%20%20%20%29.addTo%28map_9188f39b62da4390882e4a32ba9eaa7b%29%3B%0A%20%20%20%20%20%20%20%20%20%20%20%20%0A%20%20%20%20%0A%20%20%20%20%20%20%20%20%20%20%20%20var%20popup_8c843dddc0e94bc4915821e4a5fae53f%20%3D%20L.popup%28%7BmaxWidth%3A%20%27300%27%7D%29%3B%0A%0A%20%20%20%20%20%20%20%20%20%20%20%20%0A%20%20%20%20%20%20%20%20%20%20%20%20%20%20%20%20var%20html_ca1207cb625e4d5f88eda0687245334a%20%3D%20%24%28%27%3Cdiv%20id%3D%22html_ca1207cb625e4d5f88eda0687245334a%22%20style%3D%22width%3A%20100.0%25%3B%20height%3A%20100.0%25%3B%22%3EBakery%3C/div%3E%27%29%5B0%5D%3B%0A%20%20%20%20%20%20%20%20%20%20%20%20%20%20%20%20popup_8c843dddc0e94bc4915821e4a5fae53f.setContent%28html_ca1207cb625e4d5f88eda0687245334a%29%3B%0A%20%20%20%20%20%20%20%20%20%20%20%20%0A%0A%20%20%20%20%20%20%20%20%20%20%20%20circle_marker_fd94eeb40a624e018211d40b284b5db3.bindPopup%28popup_8c843dddc0e94bc4915821e4a5fae53f%29%3B%0A%0A%20%20%20%20%20%20%20%20%20%20%20%20%0A%20%20%20%20%20%20%20%20%0A%20%20%20%20%0A%20%20%20%20%20%20%20%20%20%20%20%20var%20circle_marker_34e6708a0605403b84faadcefdb15616%20%3D%20L.circleMarker%28%0A%20%20%20%20%20%20%20%20%20%20%20%20%20%20%20%20%5B48.14994274145202%2C11.575785499141919%5D%2C%0A%20%20%20%20%20%20%20%20%20%20%20%20%20%20%20%20%7B%0A%20%20%22bubblingMouseEvents%22%3A%20true%2C%0A%20%20%22color%22%3A%20%22blue%22%2C%0A%20%20%22dashArray%22%3A%20null%2C%0A%20%20%22dashOffset%22%3A%20null%2C%0A%20%20%22fill%22%3A%20true%2C%0A%20%20%22fillColor%22%3A%20%22blue%22%2C%0A%20%20%22fillOpacity%22%3A%200.6%2C%0A%20%20%22fillRule%22%3A%20%22evenodd%22%2C%0A%20%20%22lineCap%22%3A%20%22round%22%2C%0A%20%20%22lineJoin%22%3A%20%22round%22%2C%0A%20%20%22opacity%22%3A%201.0%2C%0A%20%20%22radius%22%3A%205%2C%0A%20%20%22stroke%22%3A%20true%2C%0A%20%20%22weight%22%3A%203%0A%7D%0A%20%20%20%20%20%20%20%20%20%20%20%20%20%20%20%20%29.addTo%28map_9188f39b62da4390882e4a32ba9eaa7b%29%3B%0A%20%20%20%20%20%20%20%20%20%20%20%20%0A%20%20%20%20%0A%20%20%20%20%20%20%20%20%20%20%20%20var%20popup_58e1d4064bdd471a9a21e1bbad123491%20%3D%20L.popup%28%7BmaxWidth%3A%20%27300%27%7D%29%3B%0A%0A%20%20%20%20%20%20%20%20%20%20%20%20%0A%20%20%20%20%20%20%20%20%20%20%20%20%20%20%20%20var%20html_8b33261d6a104637b4e8ff8cfb3aa3f3%20%3D%20%24%28%27%3Cdiv%20id%3D%22html_8b33261d6a104637b4e8ff8cfb3aa3f3%22%20style%3D%22width%3A%20100.0%25%3B%20height%3A%20100.0%25%3B%22%3ETea%20Room%3C/div%3E%27%29%5B0%5D%3B%0A%20%20%20%20%20%20%20%20%20%20%20%20%20%20%20%20popup_58e1d4064bdd471a9a21e1bbad123491.setContent%28html_8b33261d6a104637b4e8ff8cfb3aa3f3%29%3B%0A%20%20%20%20%20%20%20%20%20%20%20%20%0A%0A%20%20%20%20%20%20%20%20%20%20%20%20circle_marker_34e6708a0605403b84faadcefdb15616.bindPopup%28popup_58e1d4064bdd471a9a21e1bbad123491%29%3B%0A%0A%20%20%20%20%20%20%20%20%20%20%20%20%0A%20%20%20%20%20%20%20%20%0A%20%20%20%20%0A%20%20%20%20%20%20%20%20%20%20%20%20var%20circle_marker_10bee250360f4e81a4f836b555db3f27%20%3D%20L.circleMarker%28%0A%20%20%20%20%20%20%20%20%20%20%20%20%20%20%20%20%5B48.149109%2C11.579623%5D%2C%0A%20%20%20%20%20%20%20%20%20%20%20%20%20%20%20%20%7B%0A%20%20%22bubblingMouseEvents%22%3A%20true%2C%0A%20%20%22color%22%3A%20%22blue%22%2C%0A%20%20%22dashArray%22%3A%20null%2C%0A%20%20%22dashOffset%22%3A%20null%2C%0A%20%20%22fill%22%3A%20true%2C%0A%20%20%22fillColor%22%3A%20%22blue%22%2C%0A%20%20%22fillOpacity%22%3A%200.6%2C%0A%20%20%22fillRule%22%3A%20%22evenodd%22%2C%0A%20%20%22lineCap%22%3A%20%22round%22%2C%0A%20%20%22lineJoin%22%3A%20%22round%22%2C%0A%20%20%22opacity%22%3A%201.0%2C%0A%20%20%22radius%22%3A%205%2C%0A%20%20%22stroke%22%3A%20true%2C%0A%20%20%22weight%22%3A%203%0A%7D%0A%20%20%20%20%20%20%20%20%20%20%20%20%20%20%20%20%29.addTo%28map_9188f39b62da4390882e4a32ba9eaa7b%29%3B%0A%20%20%20%20%20%20%20%20%20%20%20%20%0A%20%20%20%20%0A%20%20%20%20%20%20%20%20%20%20%20%20var%20popup_fcbde76d37c041f891bdeb9618766184%20%3D%20L.popup%28%7BmaxWidth%3A%20%27300%27%7D%29%3B%0A%0A%20%20%20%20%20%20%20%20%20%20%20%20%0A%20%20%20%20%20%20%20%20%20%20%20%20%20%20%20%20var%20html_d13386938e0940189cae910db394282f%20%3D%20%24%28%27%3Cdiv%20id%3D%22html_d13386938e0940189cae910db394282f%22%20style%3D%22width%3A%20100.0%25%3B%20height%3A%20100.0%25%3B%22%3ECaf%C3%A9%3C/div%3E%27%29%5B0%5D%3B%0A%20%20%20%20%20%20%20%20%20%20%20%20%20%20%20%20popup_fcbde76d37c041f891bdeb9618766184.setContent%28html_d13386938e0940189cae910db394282f%29%3B%0A%20%20%20%20%20%20%20%20%20%20%20%20%0A%0A%20%20%20%20%20%20%20%20%20%20%20%20circle_marker_10bee250360f4e81a4f836b555db3f27.bindPopup%28popup_fcbde76d37c041f891bdeb9618766184%29%3B%0A%0A%20%20%20%20%20%20%20%20%20%20%20%20%0A%20%20%20%20%20%20%20%20%0A%20%20%20%20%0A%20%20%20%20%20%20%20%20%20%20%20%20var%20circle_marker_da50f1d0465d4f04ad156cf961053e2e%20%3D%20L.circleMarker%28%0A%20%20%20%20%20%20%20%20%20%20%20%20%20%20%20%20%5B48.15495483392071%2C11.575446474150139%5D%2C%0A%20%20%20%20%20%20%20%20%20%20%20%20%20%20%20%20%7B%0A%20%20%22bubblingMouseEvents%22%3A%20true%2C%0A%20%20%22color%22%3A%20%22blue%22%2C%0A%20%20%22dashArray%22%3A%20null%2C%0A%20%20%22dashOffset%22%3A%20null%2C%0A%20%20%22fill%22%3A%20true%2C%0A%20%20%22fillColor%22%3A%20%22blue%22%2C%0A%20%20%22fillOpacity%22%3A%200.6%2C%0A%20%20%22fillRule%22%3A%20%22evenodd%22%2C%0A%20%20%22lineCap%22%3A%20%22round%22%2C%0A%20%20%22lineJoin%22%3A%20%22round%22%2C%0A%20%20%22opacity%22%3A%201.0%2C%0A%20%20%22radius%22%3A%205%2C%0A%20%20%22stroke%22%3A%20true%2C%0A%20%20%22weight%22%3A%203%0A%7D%0A%20%20%20%20%20%20%20%20%20%20%20%20%20%20%20%20%29.addTo%28map_9188f39b62da4390882e4a32ba9eaa7b%29%3B%0A%20%20%20%20%20%20%20%20%20%20%20%20%0A%20%20%20%20%0A%20%20%20%20%20%20%20%20%20%20%20%20var%20popup_006589cb07954b63a515feaa54b9b568%20%3D%20L.popup%28%7BmaxWidth%3A%20%27300%27%7D%29%3B%0A%0A%20%20%20%20%20%20%20%20%20%20%20%20%0A%20%20%20%20%20%20%20%20%20%20%20%20%20%20%20%20var%20html_d15a70c701a6445a8fa6ed1499569058%20%3D%20%24%28%27%3Cdiv%20id%3D%22html_d15a70c701a6445a8fa6ed1499569058%22%20style%3D%22width%3A%20100.0%25%3B%20height%3A%20100.0%25%3B%22%3EDonut%20Shop%3C/div%3E%27%29%5B0%5D%3B%0A%20%20%20%20%20%20%20%20%20%20%20%20%20%20%20%20popup_006589cb07954b63a515feaa54b9b568.setContent%28html_d15a70c701a6445a8fa6ed1499569058%29%3B%0A%20%20%20%20%20%20%20%20%20%20%20%20%0A%0A%20%20%20%20%20%20%20%20%20%20%20%20circle_marker_da50f1d0465d4f04ad156cf961053e2e.bindPopup%28popup_006589cb07954b63a515feaa54b9b568%29%3B%0A%0A%20%20%20%20%20%20%20%20%20%20%20%20%0A%20%20%20%20%20%20%20%20%0A%20%20%20%20%0A%20%20%20%20%20%20%20%20%20%20%20%20var%20circle_marker_282aca50de7d47b5974d3184d29a251e%20%3D%20L.circleMarker%28%0A%20%20%20%20%20%20%20%20%20%20%20%20%20%20%20%20%5B48.150173%2C11.584367%5D%2C%0A%20%20%20%20%20%20%20%20%20%20%20%20%20%20%20%20%7B%0A%20%20%22bubblingMouseEvents%22%3A%20true%2C%0A%20%20%22color%22%3A%20%22blue%22%2C%0A%20%20%22dashArray%22%3A%20null%2C%0A%20%20%22dashOffset%22%3A%20null%2C%0A%20%20%22fill%22%3A%20true%2C%0A%20%20%22fillColor%22%3A%20%22blue%22%2C%0A%20%20%22fillOpacity%22%3A%200.6%2C%0A%20%20%22fillRule%22%3A%20%22evenodd%22%2C%0A%20%20%22lineCap%22%3A%20%22round%22%2C%0A%20%20%22lineJoin%22%3A%20%22round%22%2C%0A%20%20%22opacity%22%3A%201.0%2C%0A%20%20%22radius%22%3A%205%2C%0A%20%20%22stroke%22%3A%20true%2C%0A%20%20%22weight%22%3A%203%0A%7D%0A%20%20%20%20%20%20%20%20%20%20%20%20%20%20%20%20%29.addTo%28map_9188f39b62da4390882e4a32ba9eaa7b%29%3B%0A%20%20%20%20%20%20%20%20%20%20%20%20%0A%20%20%20%20%0A%20%20%20%20%20%20%20%20%20%20%20%20var%20popup_cb05b335255a4f959c12744083516021%20%3D%20L.popup%28%7BmaxWidth%3A%20%27300%27%7D%29%3B%0A%0A%20%20%20%20%20%20%20%20%20%20%20%20%0A%20%20%20%20%20%20%20%20%20%20%20%20%20%20%20%20var%20html_f20a7aa42f1e4f6f80f70a06e5e4d1ee%20%3D%20%24%28%27%3Cdiv%20id%3D%22html_f20a7aa42f1e4f6f80f70a06e5e4d1ee%22%20style%3D%22width%3A%20100.0%25%3B%20height%3A%20100.0%25%3B%22%3ECaf%C3%A9%3C/div%3E%27%29%5B0%5D%3B%0A%20%20%20%20%20%20%20%20%20%20%20%20%20%20%20%20popup_cb05b335255a4f959c12744083516021.setContent%28html_f20a7aa42f1e4f6f80f70a06e5e4d1ee%29%3B%0A%20%20%20%20%20%20%20%20%20%20%20%20%0A%0A%20%20%20%20%20%20%20%20%20%20%20%20circle_marker_282aca50de7d47b5974d3184d29a251e.bindPopup%28popup_cb05b335255a4f959c12744083516021%29%3B%0A%0A%20%20%20%20%20%20%20%20%20%20%20%20%0A%20%20%20%20%20%20%20%20%0A%20%20%20%20%0A%20%20%20%20%20%20%20%20%20%20%20%20var%20circle_marker_2d5b23bbe30f40c185209dcbbd672587%20%3D%20L.circleMarker%28%0A%20%20%20%20%20%20%20%20%20%20%20%20%20%20%20%20%5B48.15179960676336%2C11.578323599926918%5D%2C%0A%20%20%20%20%20%20%20%20%20%20%20%20%20%20%20%20%7B%0A%20%20%22bubblingMouseEvents%22%3A%20true%2C%0A%20%20%22color%22%3A%20%22blue%22%2C%0A%20%20%22dashArray%22%3A%20null%2C%0A%20%20%22dashOffset%22%3A%20null%2C%0A%20%20%22fill%22%3A%20true%2C%0A%20%20%22fillColor%22%3A%20%22blue%22%2C%0A%20%20%22fillOpacity%22%3A%200.6%2C%0A%20%20%22fillRule%22%3A%20%22evenodd%22%2C%0A%20%20%22lineCap%22%3A%20%22round%22%2C%0A%20%20%22lineJoin%22%3A%20%22round%22%2C%0A%20%20%22opacity%22%3A%201.0%2C%0A%20%20%22radius%22%3A%205%2C%0A%20%20%22stroke%22%3A%20true%2C%0A%20%20%22weight%22%3A%203%0A%7D%0A%20%20%20%20%20%20%20%20%20%20%20%20%20%20%20%20%29.addTo%28map_9188f39b62da4390882e4a32ba9eaa7b%29%3B%0A%20%20%20%20%20%20%20%20%20%20%20%20%0A%20%20%20%20%0A%20%20%20%20%20%20%20%20%20%20%20%20var%20popup_7969404930b34d1180061c0092491eec%20%3D%20L.popup%28%7BmaxWidth%3A%20%27300%27%7D%29%3B%0A%0A%20%20%20%20%20%20%20%20%20%20%20%20%0A%20%20%20%20%20%20%20%20%20%20%20%20%20%20%20%20var%20html_a6cd7b80a6a04f12b80aabe91a57fa5c%20%3D%20%24%28%27%3Cdiv%20id%3D%22html_a6cd7b80a6a04f12b80aabe91a57fa5c%22%20style%3D%22width%3A%20100.0%25%3B%20height%3A%20100.0%25%3B%22%3ESushi%20Restaurant%3C/div%3E%27%29%5B0%5D%3B%0A%20%20%20%20%20%20%20%20%20%20%20%20%20%20%20%20popup_7969404930b34d1180061c0092491eec.setContent%28html_a6cd7b80a6a04f12b80aabe91a57fa5c%29%3B%0A%20%20%20%20%20%20%20%20%20%20%20%20%0A%0A%20%20%20%20%20%20%20%20%20%20%20%20circle_marker_2d5b23bbe30f40c185209dcbbd672587.bindPopup%28popup_7969404930b34d1180061c0092491eec%29%3B%0A%0A%20%20%20%20%20%20%20%20%20%20%20%20%0A%20%20%20%20%20%20%20%20%0A%20%20%20%20%0A%20%20%20%20%20%20%20%20%20%20%20%20var%20circle_marker_5ffb8b3cb21140cbb7da47fd5db994dd%20%3D%20L.circleMarker%28%0A%20%20%20%20%20%20%20%20%20%20%20%20%20%20%20%20%5B48.15471984892339%2C11.575472438953218%5D%2C%0A%20%20%20%20%20%20%20%20%20%20%20%20%20%20%20%20%7B%0A%20%20%22bubblingMouseEvents%22%3A%20true%2C%0A%20%20%22color%22%3A%20%22blue%22%2C%0A%20%20%22dashArray%22%3A%20null%2C%0A%20%20%22dashOffset%22%3A%20null%2C%0A%20%20%22fill%22%3A%20true%2C%0A%20%20%22fillColor%22%3A%20%22blue%22%2C%0A%20%20%22fillOpacity%22%3A%200.6%2C%0A%20%20%22fillRule%22%3A%20%22evenodd%22%2C%0A%20%20%22lineCap%22%3A%20%22round%22%2C%0A%20%20%22lineJoin%22%3A%20%22round%22%2C%0A%20%20%22opacity%22%3A%201.0%2C%0A%20%20%22radius%22%3A%205%2C%0A%20%20%22stroke%22%3A%20true%2C%0A%20%20%22weight%22%3A%203%0A%7D%0A%20%20%20%20%20%20%20%20%20%20%20%20%20%20%20%20%29.addTo%28map_9188f39b62da4390882e4a32ba9eaa7b%29%3B%0A%20%20%20%20%20%20%20%20%20%20%20%20%0A%20%20%20%20%0A%20%20%20%20%20%20%20%20%20%20%20%20var%20popup_16e74ad65aa8429ab042a6d4c108be06%20%3D%20L.popup%28%7BmaxWidth%3A%20%27300%27%7D%29%3B%0A%0A%20%20%20%20%20%20%20%20%20%20%20%20%0A%20%20%20%20%20%20%20%20%20%20%20%20%20%20%20%20var%20html_bba54447d14e4f68b630bcb40a2756d4%20%3D%20%24%28%27%3Cdiv%20id%3D%22html_bba54447d14e4f68b630bcb40a2756d4%22%20style%3D%22width%3A%20100.0%25%3B%20height%3A%20100.0%25%3B%22%3ECaf%C3%A9%3C/div%3E%27%29%5B0%5D%3B%0A%20%20%20%20%20%20%20%20%20%20%20%20%20%20%20%20popup_16e74ad65aa8429ab042a6d4c108be06.setContent%28html_bba54447d14e4f68b630bcb40a2756d4%29%3B%0A%20%20%20%20%20%20%20%20%20%20%20%20%0A%0A%20%20%20%20%20%20%20%20%20%20%20%20circle_marker_5ffb8b3cb21140cbb7da47fd5db994dd.bindPopup%28popup_16e74ad65aa8429ab042a6d4c108be06%29%3B%0A%0A%20%20%20%20%20%20%20%20%20%20%20%20%0A%20%20%20%20%20%20%20%20%0A%20%20%20%20%0A%20%20%20%20%20%20%20%20%20%20%20%20var%20circle_marker_ebb74853a0d84e6ea9280fc4ae192768%20%3D%20L.circleMarker%28%0A%20%20%20%20%20%20%20%20%20%20%20%20%20%20%20%20%5B48.14831238954939%2C11.574575340740491%5D%2C%0A%20%20%20%20%20%20%20%20%20%20%20%20%20%20%20%20%7B%0A%20%20%22bubblingMouseEvents%22%3A%20true%2C%0A%20%20%22color%22%3A%20%22blue%22%2C%0A%20%20%22dashArray%22%3A%20null%2C%0A%20%20%22dashOffset%22%3A%20null%2C%0A%20%20%22fill%22%3A%20true%2C%0A%20%20%22fillColor%22%3A%20%22blue%22%2C%0A%20%20%22fillOpacity%22%3A%200.6%2C%0A%20%20%22fillRule%22%3A%20%22evenodd%22%2C%0A%20%20%22lineCap%22%3A%20%22round%22%2C%0A%20%20%22lineJoin%22%3A%20%22round%22%2C%0A%20%20%22opacity%22%3A%201.0%2C%0A%20%20%22radius%22%3A%205%2C%0A%20%20%22stroke%22%3A%20true%2C%0A%20%20%22weight%22%3A%203%0A%7D%0A%20%20%20%20%20%20%20%20%20%20%20%20%20%20%20%20%29.addTo%28map_9188f39b62da4390882e4a32ba9eaa7b%29%3B%0A%20%20%20%20%20%20%20%20%20%20%20%20%0A%20%20%20%20%0A%20%20%20%20%20%20%20%20%20%20%20%20var%20popup_4acda053917b4f4caabdd0c5ad5264bc%20%3D%20L.popup%28%7BmaxWidth%3A%20%27300%27%7D%29%3B%0A%0A%20%20%20%20%20%20%20%20%20%20%20%20%0A%20%20%20%20%20%20%20%20%20%20%20%20%20%20%20%20var%20html_107dd8a4def5454ba25e893df6108e24%20%3D%20%24%28%27%3Cdiv%20id%3D%22html_107dd8a4def5454ba25e893df6108e24%22%20style%3D%22width%3A%20100.0%25%3B%20height%3A%20100.0%25%3B%22%3EIce%20Cream%20Shop%3C/div%3E%27%29%5B0%5D%3B%0A%20%20%20%20%20%20%20%20%20%20%20%20%20%20%20%20popup_4acda053917b4f4caabdd0c5ad5264bc.setContent%28html_107dd8a4def5454ba25e893df6108e24%29%3B%0A%20%20%20%20%20%20%20%20%20%20%20%20%0A%0A%20%20%20%20%20%20%20%20%20%20%20%20circle_marker_ebb74853a0d84e6ea9280fc4ae192768.bindPopup%28popup_4acda053917b4f4caabdd0c5ad5264bc%29%3B%0A%0A%20%20%20%20%20%20%20%20%20%20%20%20%0A%20%20%20%20%20%20%20%20%0A%20%20%20%20%0A%20%20%20%20%20%20%20%20%20%20%20%20var%20circle_marker_f6778b6e88014bd59306e61d72e02cf1%20%3D%20L.circleMarker%28%0A%20%20%20%20%20%20%20%20%20%20%20%20%20%20%20%20%5B48.156844%2C11.574296%5D%2C%0A%20%20%20%20%20%20%20%20%20%20%20%20%20%20%20%20%7B%0A%20%20%22bubblingMouseEvents%22%3A%20true%2C%0A%20%20%22color%22%3A%20%22blue%22%2C%0A%20%20%22dashArray%22%3A%20null%2C%0A%20%20%22dashOffset%22%3A%20null%2C%0A%20%20%22fill%22%3A%20true%2C%0A%20%20%22fillColor%22%3A%20%22blue%22%2C%0A%20%20%22fillOpacity%22%3A%200.6%2C%0A%20%20%22fillRule%22%3A%20%22evenodd%22%2C%0A%20%20%22lineCap%22%3A%20%22round%22%2C%0A%20%20%22lineJoin%22%3A%20%22round%22%2C%0A%20%20%22opacity%22%3A%201.0%2C%0A%20%20%22radius%22%3A%205%2C%0A%20%20%22stroke%22%3A%20true%2C%0A%20%20%22weight%22%3A%203%0A%7D%0A%20%20%20%20%20%20%20%20%20%20%20%20%20%20%20%20%29.addTo%28map_9188f39b62da4390882e4a32ba9eaa7b%29%3B%0A%20%20%20%20%20%20%20%20%20%20%20%20%0A%20%20%20%20%0A%20%20%20%20%20%20%20%20%20%20%20%20var%20popup_f272a308bcee46bca00fb6b4728ec452%20%3D%20L.popup%28%7BmaxWidth%3A%20%27300%27%7D%29%3B%0A%0A%20%20%20%20%20%20%20%20%20%20%20%20%0A%20%20%20%20%20%20%20%20%20%20%20%20%20%20%20%20var%20html_831dbc1a0aee4e3eb59b9fa9725c683f%20%3D%20%24%28%27%3Cdiv%20id%3D%22html_831dbc1a0aee4e3eb59b9fa9725c683f%22%20style%3D%22width%3A%20100.0%25%3B%20height%3A%20100.0%25%3B%22%3ECoffee%20Shop%3C/div%3E%27%29%5B0%5D%3B%0A%20%20%20%20%20%20%20%20%20%20%20%20%20%20%20%20popup_f272a308bcee46bca00fb6b4728ec452.setContent%28html_831dbc1a0aee4e3eb59b9fa9725c683f%29%3B%0A%20%20%20%20%20%20%20%20%20%20%20%20%0A%0A%20%20%20%20%20%20%20%20%20%20%20%20circle_marker_f6778b6e88014bd59306e61d72e02cf1.bindPopup%28popup_f272a308bcee46bca00fb6b4728ec452%29%3B%0A%0A%20%20%20%20%20%20%20%20%20%20%20%20%0A%20%20%20%20%20%20%20%20%0A%20%20%20%20%0A%20%20%20%20%20%20%20%20%20%20%20%20var%20circle_marker_22c15afedaef4b00bb652208e698a104%20%3D%20L.circleMarker%28%0A%20%20%20%20%20%20%20%20%20%20%20%20%20%20%20%20%5B48.15851955381291%2C11.583149010081337%5D%2C%0A%20%20%20%20%20%20%20%20%20%20%20%20%20%20%20%20%7B%0A%20%20%22bubblingMouseEvents%22%3A%20true%2C%0A%20%20%22color%22%3A%20%22blue%22%2C%0A%20%20%22dashArray%22%3A%20null%2C%0A%20%20%22dashOffset%22%3A%20null%2C%0A%20%20%22fill%22%3A%20true%2C%0A%20%20%22fillColor%22%3A%20%22blue%22%2C%0A%20%20%22fillOpacity%22%3A%200.6%2C%0A%20%20%22fillRule%22%3A%20%22evenodd%22%2C%0A%20%20%22lineCap%22%3A%20%22round%22%2C%0A%20%20%22lineJoin%22%3A%20%22round%22%2C%0A%20%20%22opacity%22%3A%201.0%2C%0A%20%20%22radius%22%3A%205%2C%0A%20%20%22stroke%22%3A%20true%2C%0A%20%20%22weight%22%3A%203%0A%7D%0A%20%20%20%20%20%20%20%20%20%20%20%20%20%20%20%20%29.addTo%28map_9188f39b62da4390882e4a32ba9eaa7b%29%3B%0A%20%20%20%20%20%20%20%20%20%20%20%20%0A%20%20%20%20%0A%20%20%20%20%20%20%20%20%20%20%20%20var%20popup_52a4fdc4e49a4cd48d2282b1151f67d8%20%3D%20L.popup%28%7BmaxWidth%3A%20%27300%27%7D%29%3B%0A%0A%20%20%20%20%20%20%20%20%20%20%20%20%0A%20%20%20%20%20%20%20%20%20%20%20%20%20%20%20%20var%20html_4c60bb3c3f2342289a8aab5d4c533e27%20%3D%20%24%28%27%3Cdiv%20id%3D%22html_4c60bb3c3f2342289a8aab5d4c533e27%22%20style%3D%22width%3A%20100.0%25%3B%20height%3A%20100.0%25%3B%22%3ECaf%C3%A9%3C/div%3E%27%29%5B0%5D%3B%0A%20%20%20%20%20%20%20%20%20%20%20%20%20%20%20%20popup_52a4fdc4e49a4cd48d2282b1151f67d8.setContent%28html_4c60bb3c3f2342289a8aab5d4c533e27%29%3B%0A%20%20%20%20%20%20%20%20%20%20%20%20%0A%0A%20%20%20%20%20%20%20%20%20%20%20%20circle_marker_22c15afedaef4b00bb652208e698a104.bindPopup%28popup_52a4fdc4e49a4cd48d2282b1151f67d8%29%3B%0A%0A%20%20%20%20%20%20%20%20%20%20%20%20%0A%20%20%20%20%20%20%20%20%0A%20%20%20%20%0A%20%20%20%20%20%20%20%20%20%20%20%20var%20circle_marker_2558a22000064db889593b6bc70bb877%20%3D%20L.circleMarker%28%0A%20%20%20%20%20%20%20%20%20%20%20%20%20%20%20%20%5B48.14910964837787%2C11.572181260271464%5D%2C%0A%20%20%20%20%20%20%20%20%20%20%20%20%20%20%20%20%7B%0A%20%20%22bubblingMouseEvents%22%3A%20true%2C%0A%20%20%22color%22%3A%20%22blue%22%2C%0A%20%20%22dashArray%22%3A%20null%2C%0A%20%20%22dashOffset%22%3A%20null%2C%0A%20%20%22fill%22%3A%20true%2C%0A%20%20%22fillColor%22%3A%20%22blue%22%2C%0A%20%20%22fillOpacity%22%3A%200.6%2C%0A%20%20%22fillRule%22%3A%20%22evenodd%22%2C%0A%20%20%22lineCap%22%3A%20%22round%22%2C%0A%20%20%22lineJoin%22%3A%20%22round%22%2C%0A%20%20%22opacity%22%3A%201.0%2C%0A%20%20%22radius%22%3A%205%2C%0A%20%20%22stroke%22%3A%20true%2C%0A%20%20%22weight%22%3A%203%0A%7D%0A%20%20%20%20%20%20%20%20%20%20%20%20%20%20%20%20%29.addTo%28map_9188f39b62da4390882e4a32ba9eaa7b%29%3B%0A%20%20%20%20%20%20%20%20%20%20%20%20%0A%20%20%20%20%0A%20%20%20%20%20%20%20%20%20%20%20%20var%20popup_24f8edf901b14edb88d732aad7364cdd%20%3D%20L.popup%28%7BmaxWidth%3A%20%27300%27%7D%29%3B%0A%0A%20%20%20%20%20%20%20%20%20%20%20%20%0A%20%20%20%20%20%20%20%20%20%20%20%20%20%20%20%20var%20html_0a8d8c7f84394418a70c4018c779ee4a%20%3D%20%24%28%27%3Cdiv%20id%3D%22html_0a8d8c7f84394418a70c4018c779ee4a%22%20style%3D%22width%3A%20100.0%25%3B%20height%3A%20100.0%25%3B%22%3ECaf%C3%A9%3C/div%3E%27%29%5B0%5D%3B%0A%20%20%20%20%20%20%20%20%20%20%20%20%20%20%20%20popup_24f8edf901b14edb88d732aad7364cdd.setContent%28html_0a8d8c7f84394418a70c4018c779ee4a%29%3B%0A%20%20%20%20%20%20%20%20%20%20%20%20%0A%0A%20%20%20%20%20%20%20%20%20%20%20%20circle_marker_2558a22000064db889593b6bc70bb877.bindPopup%28popup_24f8edf901b14edb88d732aad7364cdd%29%3B%0A%0A%20%20%20%20%20%20%20%20%20%20%20%20%0A%20%20%20%20%20%20%20%20%0A%20%20%20%20%0A%20%20%20%20%20%20%20%20%20%20%20%20var%20circle_marker_21d0f3adcfa44d58b97d156bd51c97e9%20%3D%20L.circleMarker%28%0A%20%20%20%20%20%20%20%20%20%20%20%20%20%20%20%20%5B48.15997203156093%2C11.579918688225247%5D%2C%0A%20%20%20%20%20%20%20%20%20%20%20%20%20%20%20%20%7B%0A%20%20%22bubblingMouseEvents%22%3A%20true%2C%0A%20%20%22color%22%3A%20%22blue%22%2C%0A%20%20%22dashArray%22%3A%20null%2C%0A%20%20%22dashOffset%22%3A%20null%2C%0A%20%20%22fill%22%3A%20true%2C%0A%20%20%22fillColor%22%3A%20%22blue%22%2C%0A%20%20%22fillOpacity%22%3A%200.6%2C%0A%20%20%22fillRule%22%3A%20%22evenodd%22%2C%0A%20%20%22lineCap%22%3A%20%22round%22%2C%0A%20%20%22lineJoin%22%3A%20%22round%22%2C%0A%20%20%22opacity%22%3A%201.0%2C%0A%20%20%22radius%22%3A%205%2C%0A%20%20%22stroke%22%3A%20true%2C%0A%20%20%22weight%22%3A%203%0A%7D%0A%20%20%20%20%20%20%20%20%20%20%20%20%20%20%20%20%29.addTo%28map_9188f39b62da4390882e4a32ba9eaa7b%29%3B%0A%20%20%20%20%20%20%20%20%20%20%20%20%0A%20%20%20%20%0A%20%20%20%20%20%20%20%20%20%20%20%20var%20popup_fa413021914e47b9894219542bf76bad%20%3D%20L.popup%28%7BmaxWidth%3A%20%27300%27%7D%29%3B%0A%0A%20%20%20%20%20%20%20%20%20%20%20%20%0A%20%20%20%20%20%20%20%20%20%20%20%20%20%20%20%20var%20html_6147b0d2fffd458abe3fcccb64136082%20%3D%20%24%28%27%3Cdiv%20id%3D%22html_6147b0d2fffd458abe3fcccb64136082%22%20style%3D%22width%3A%20100.0%25%3B%20height%3A%20100.0%25%3B%22%3EIce%20Cream%20Shop%3C/div%3E%27%29%5B0%5D%3B%0A%20%20%20%20%20%20%20%20%20%20%20%20%20%20%20%20popup_fa413021914e47b9894219542bf76bad.setContent%28html_6147b0d2fffd458abe3fcccb64136082%29%3B%0A%20%20%20%20%20%20%20%20%20%20%20%20%0A%0A%20%20%20%20%20%20%20%20%20%20%20%20circle_marker_21d0f3adcfa44d58b97d156bd51c97e9.bindPopup%28popup_fa413021914e47b9894219542bf76bad%29%3B%0A%0A%20%20%20%20%20%20%20%20%20%20%20%20%0A%20%20%20%20%20%20%20%20%0A%20%20%20%20%0A%20%20%20%20%20%20%20%20%20%20%20%20var%20circle_marker_3f600d0f761347bcb700094c9191bb7a%20%3D%20L.circleMarker%28%0A%20%20%20%20%20%20%20%20%20%20%20%20%20%20%20%20%5B48.1517431788183%2C11.570595612621698%5D%2C%0A%20%20%20%20%20%20%20%20%20%20%20%20%20%20%20%20%7B%0A%20%20%22bubblingMouseEvents%22%3A%20true%2C%0A%20%20%22color%22%3A%20%22blue%22%2C%0A%20%20%22dashArray%22%3A%20null%2C%0A%20%20%22dashOffset%22%3A%20null%2C%0A%20%20%22fill%22%3A%20true%2C%0A%20%20%22fillColor%22%3A%20%22blue%22%2C%0A%20%20%22fillOpacity%22%3A%200.6%2C%0A%20%20%22fillRule%22%3A%20%22evenodd%22%2C%0A%20%20%22lineCap%22%3A%20%22round%22%2C%0A%20%20%22lineJoin%22%3A%20%22round%22%2C%0A%20%20%22opacity%22%3A%201.0%2C%0A%20%20%22radius%22%3A%205%2C%0A%20%20%22stroke%22%3A%20true%2C%0A%20%20%22weight%22%3A%203%0A%7D%0A%20%20%20%20%20%20%20%20%20%20%20%20%20%20%20%20%29.addTo%28map_9188f39b62da4390882e4a32ba9eaa7b%29%3B%0A%20%20%20%20%20%20%20%20%20%20%20%20%0A%20%20%20%20%0A%20%20%20%20%20%20%20%20%20%20%20%20var%20popup_6adad03df92c4cb9b386d320a8558dcd%20%3D%20L.popup%28%7BmaxWidth%3A%20%27300%27%7D%29%3B%0A%0A%20%20%20%20%20%20%20%20%20%20%20%20%0A%20%20%20%20%20%20%20%20%20%20%20%20%20%20%20%20var%20html_4e7862cebec345399ae040a9b794a7a4%20%3D%20%24%28%27%3Cdiv%20id%3D%22html_4e7862cebec345399ae040a9b794a7a4%22%20style%3D%22width%3A%20100.0%25%3B%20height%3A%20100.0%25%3B%22%3EJapanese%20Restaurant%3C/div%3E%27%29%5B0%5D%3B%0A%20%20%20%20%20%20%20%20%20%20%20%20%20%20%20%20popup_6adad03df92c4cb9b386d320a8558dcd.setContent%28html_4e7862cebec345399ae040a9b794a7a4%29%3B%0A%20%20%20%20%20%20%20%20%20%20%20%20%0A%0A%20%20%20%20%20%20%20%20%20%20%20%20circle_marker_3f600d0f761347bcb700094c9191bb7a.bindPopup%28popup_6adad03df92c4cb9b386d320a8558dcd%29%3B%0A%0A%20%20%20%20%20%20%20%20%20%20%20%20%0A%20%20%20%20%20%20%20%20%0A%20%20%20%20%0A%20%20%20%20%20%20%20%20%20%20%20%20var%20circle_marker_2929c030025b444da48987bf735ccb3e%20%3D%20L.circleMarker%28%0A%20%20%20%20%20%20%20%20%20%20%20%20%20%20%20%20%5B48.15710543224556%2C11.574275214822634%5D%2C%0A%20%20%20%20%20%20%20%20%20%20%20%20%20%20%20%20%7B%0A%20%20%22bubblingMouseEvents%22%3A%20true%2C%0A%20%20%22color%22%3A%20%22blue%22%2C%0A%20%20%22dashArray%22%3A%20null%2C%0A%20%20%22dashOffset%22%3A%20null%2C%0A%20%20%22fill%22%3A%20true%2C%0A%20%20%22fillColor%22%3A%20%22blue%22%2C%0A%20%20%22fillOpacity%22%3A%200.6%2C%0A%20%20%22fillRule%22%3A%20%22evenodd%22%2C%0A%20%20%22lineCap%22%3A%20%22round%22%2C%0A%20%20%22lineJoin%22%3A%20%22round%22%2C%0A%20%20%22opacity%22%3A%201.0%2C%0A%20%20%22radius%22%3A%205%2C%0A%20%20%22stroke%22%3A%20true%2C%0A%20%20%22weight%22%3A%203%0A%7D%0A%20%20%20%20%20%20%20%20%20%20%20%20%20%20%20%20%29.addTo%28map_9188f39b62da4390882e4a32ba9eaa7b%29%3B%0A%20%20%20%20%20%20%20%20%20%20%20%20%0A%20%20%20%20%0A%20%20%20%20%20%20%20%20%20%20%20%20var%20popup_0093a58c71ad4e65ae92279188e36976%20%3D%20L.popup%28%7BmaxWidth%3A%20%27300%27%7D%29%3B%0A%0A%20%20%20%20%20%20%20%20%20%20%20%20%0A%20%20%20%20%20%20%20%20%20%20%20%20%20%20%20%20var%20html_16e8187c9e0d4a8088503691fdad4145%20%3D%20%24%28%27%3Cdiv%20id%3D%22html_16e8187c9e0d4a8088503691fdad4145%22%20style%3D%22width%3A%20100.0%25%3B%20height%3A%20100.0%25%3B%22%3EFarmers%20Market%3C/div%3E%27%29%5B0%5D%3B%0A%20%20%20%20%20%20%20%20%20%20%20%20%20%20%20%20popup_0093a58c71ad4e65ae92279188e36976.setContent%28html_16e8187c9e0d4a8088503691fdad4145%29%3B%0A%20%20%20%20%20%20%20%20%20%20%20%20%0A%0A%20%20%20%20%20%20%20%20%20%20%20%20circle_marker_2929c030025b444da48987bf735ccb3e.bindPopup%28popup_0093a58c71ad4e65ae92279188e36976%29%3B%0A%0A%20%20%20%20%20%20%20%20%20%20%20%20%0A%20%20%20%20%20%20%20%20%0A%20%20%20%20%0A%20%20%20%20%20%20%20%20%20%20%20%20var%20circle_marker_8afc20fc8e884e7fafa3016b61ff7830%20%3D%20L.circleMarker%28%0A%20%20%20%20%20%20%20%20%20%20%20%20%20%20%20%20%5B48.15250081420721%2C11.592346751349396%5D%2C%0A%20%20%20%20%20%20%20%20%20%20%20%20%20%20%20%20%7B%0A%20%20%22bubblingMouseEvents%22%3A%20true%2C%0A%20%20%22color%22%3A%20%22blue%22%2C%0A%20%20%22dashArray%22%3A%20null%2C%0A%20%20%22dashOffset%22%3A%20null%2C%0A%20%20%22fill%22%3A%20true%2C%0A%20%20%22fillColor%22%3A%20%22blue%22%2C%0A%20%20%22fillOpacity%22%3A%200.6%2C%0A%20%20%22fillRule%22%3A%20%22evenodd%22%2C%0A%20%20%22lineCap%22%3A%20%22round%22%2C%0A%20%20%22lineJoin%22%3A%20%22round%22%2C%0A%20%20%22opacity%22%3A%201.0%2C%0A%20%20%22radius%22%3A%205%2C%0A%20%20%22stroke%22%3A%20true%2C%0A%20%20%22weight%22%3A%203%0A%7D%0A%20%20%20%20%20%20%20%20%20%20%20%20%20%20%20%20%29.addTo%28map_9188f39b62da4390882e4a32ba9eaa7b%29%3B%0A%20%20%20%20%20%20%20%20%20%20%20%20%0A%20%20%20%20%0A%20%20%20%20%20%20%20%20%20%20%20%20var%20popup_e1668015411f441c88b447bbee3381ad%20%3D%20L.popup%28%7BmaxWidth%3A%20%27300%27%7D%29%3B%0A%0A%20%20%20%20%20%20%20%20%20%20%20%20%0A%20%20%20%20%20%20%20%20%20%20%20%20%20%20%20%20var%20html_a809a56391ea41dcb91a6db253a660fe%20%3D%20%24%28%27%3Cdiv%20id%3D%22html_a809a56391ea41dcb91a6db253a660fe%22%20style%3D%22width%3A%20100.0%25%3B%20height%3A%20100.0%25%3B%22%3EBeer%20Garden%3C/div%3E%27%29%5B0%5D%3B%0A%20%20%20%20%20%20%20%20%20%20%20%20%20%20%20%20popup_e1668015411f441c88b447bbee3381ad.setContent%28html_a809a56391ea41dcb91a6db253a660fe%29%3B%0A%20%20%20%20%20%20%20%20%20%20%20%20%0A%0A%20%20%20%20%20%20%20%20%20%20%20%20circle_marker_8afc20fc8e884e7fafa3016b61ff7830.bindPopup%28popup_e1668015411f441c88b447bbee3381ad%29%3B%0A%0A%20%20%20%20%20%20%20%20%20%20%20%20%0A%20%20%20%20%20%20%20%20%0A%20%20%20%20%0A%20%20%20%20%20%20%20%20%20%20%20%20var%20circle_marker_c6e1382206bb4c6aae2b79541be0bf54%20%3D%20L.circleMarker%28%0A%20%20%20%20%20%20%20%20%20%20%20%20%20%20%20%20%5B48.143052722308155%2C11.579954624176025%5D%2C%0A%20%20%20%20%20%20%20%20%20%20%20%20%20%20%20%20%7B%0A%20%20%22bubblingMouseEvents%22%3A%20true%2C%0A%20%20%22color%22%3A%20%22blue%22%2C%0A%20%20%22dashArray%22%3A%20null%2C%0A%20%20%22dashOffset%22%3A%20null%2C%0A%20%20%22fill%22%3A%20true%2C%0A%20%20%22fillColor%22%3A%20%22blue%22%2C%0A%20%20%22fillOpacity%22%3A%200.6%2C%0A%20%20%22fillRule%22%3A%20%22evenodd%22%2C%0A%20%20%22lineCap%22%3A%20%22round%22%2C%0A%20%20%22lineJoin%22%3A%20%22round%22%2C%0A%20%20%22opacity%22%3A%201.0%2C%0A%20%20%22radius%22%3A%205%2C%0A%20%20%22stroke%22%3A%20true%2C%0A%20%20%22weight%22%3A%203%0A%7D%0A%20%20%20%20%20%20%20%20%20%20%20%20%20%20%20%20%29.addTo%28map_9188f39b62da4390882e4a32ba9eaa7b%29%3B%0A%20%20%20%20%20%20%20%20%20%20%20%20%0A%20%20%20%20%0A%20%20%20%20%20%20%20%20%20%20%20%20var%20popup_7224261e5c75491bb7f6d0be390a77a5%20%3D%20L.popup%28%7BmaxWidth%3A%20%27300%27%7D%29%3B%0A%0A%20%20%20%20%20%20%20%20%20%20%20%20%0A%20%20%20%20%20%20%20%20%20%20%20%20%20%20%20%20var%20html_35f78d3fbc324e398ab178f246a6635c%20%3D%20%24%28%27%3Cdiv%20id%3D%22html_35f78d3fbc324e398ab178f246a6635c%22%20style%3D%22width%3A%20100.0%25%3B%20height%3A%20100.0%25%3B%22%3EGarden%3C/div%3E%27%29%5B0%5D%3B%0A%20%20%20%20%20%20%20%20%20%20%20%20%20%20%20%20popup_7224261e5c75491bb7f6d0be390a77a5.setContent%28html_35f78d3fbc324e398ab178f246a6635c%29%3B%0A%20%20%20%20%20%20%20%20%20%20%20%20%0A%0A%20%20%20%20%20%20%20%20%20%20%20%20circle_marker_c6e1382206bb4c6aae2b79541be0bf54.bindPopup%28popup_7224261e5c75491bb7f6d0be390a77a5%29%3B%0A%0A%20%20%20%20%20%20%20%20%20%20%20%20%0A%20%20%20%20%20%20%20%20%0A%20%20%20%20%0A%20%20%20%20%20%20%20%20%20%20%20%20var%20circle_marker_d13ab12af8644f27b4a29eb8005c4a9f%20%3D%20L.circleMarker%28%0A%20%20%20%20%20%20%20%20%20%20%20%20%20%20%20%20%5B48.15236223620112%2C11.592435899034157%5D%2C%0A%20%20%20%20%20%20%20%20%20%20%20%20%20%20%20%20%7B%0A%20%20%22bubblingMouseEvents%22%3A%20true%2C%0A%20%20%22color%22%3A%20%22blue%22%2C%0A%20%20%22dashArray%22%3A%20null%2C%0A%20%20%22dashOffset%22%3A%20null%2C%0A%20%20%22fill%22%3A%20true%2C%0A%20%20%22fillColor%22%3A%20%22blue%22%2C%0A%20%20%22fillOpacity%22%3A%200.6%2C%0A%20%20%22fillRule%22%3A%20%22evenodd%22%2C%0A%20%20%22lineCap%22%3A%20%22round%22%2C%0A%20%20%22lineJoin%22%3A%20%22round%22%2C%0A%20%20%22opacity%22%3A%201.0%2C%0A%20%20%22radius%22%3A%205%2C%0A%20%20%22stroke%22%3A%20true%2C%0A%20%20%22weight%22%3A%203%0A%7D%0A%20%20%20%20%20%20%20%20%20%20%20%20%20%20%20%20%29.addTo%28map_9188f39b62da4390882e4a32ba9eaa7b%29%3B%0A%20%20%20%20%20%20%20%20%20%20%20%20%0A%20%20%20%20%0A%20%20%20%20%20%20%20%20%20%20%20%20var%20popup_03c5a03836d241a1bbd9da8409558c2d%20%3D%20L.popup%28%7BmaxWidth%3A%20%27300%27%7D%29%3B%0A%0A%20%20%20%20%20%20%20%20%20%20%20%20%0A%20%20%20%20%20%20%20%20%20%20%20%20%20%20%20%20var%20html_8fe8826a359747ee9d8f5aa10ab5c355%20%3D%20%24%28%27%3Cdiv%20id%3D%22html_8fe8826a359747ee9d8f5aa10ab5c355%22%20style%3D%22width%3A%20100.0%25%3B%20height%3A%20100.0%25%3B%22%3EMonument%20/%20Landmark%3C/div%3E%27%29%5B0%5D%3B%0A%20%20%20%20%20%20%20%20%20%20%20%20%20%20%20%20popup_03c5a03836d241a1bbd9da8409558c2d.setContent%28html_8fe8826a359747ee9d8f5aa10ab5c355%29%3B%0A%20%20%20%20%20%20%20%20%20%20%20%20%0A%0A%20%20%20%20%20%20%20%20%20%20%20%20circle_marker_d13ab12af8644f27b4a29eb8005c4a9f.bindPopup%28popup_03c5a03836d241a1bbd9da8409558c2d%29%3B%0A%0A%20%20%20%20%20%20%20%20%20%20%20%20%0A%20%20%20%20%20%20%20%20%0A%20%20%20%20%0A%20%20%20%20%20%20%20%20%20%20%20%20var%20circle_marker_0201caf0a60b4997909aac02f32df41a%20%3D%20L.circleMarker%28%0A%20%20%20%20%20%20%20%20%20%20%20%20%20%20%20%20%5B48.148311%2C11.568174%5D%2C%0A%20%20%20%20%20%20%20%20%20%20%20%20%20%20%20%20%7B%0A%20%20%22bubblingMouseEvents%22%3A%20true%2C%0A%20%20%22color%22%3A%20%22blue%22%2C%0A%20%20%22dashArray%22%3A%20null%2C%0A%20%20%22dashOffset%22%3A%20null%2C%0A%20%20%22fill%22%3A%20true%2C%0A%20%20%22fillColor%22%3A%20%22blue%22%2C%0A%20%20%22fillOpacity%22%3A%200.6%2C%0A%20%20%22fillRule%22%3A%20%22evenodd%22%2C%0A%20%20%22lineCap%22%3A%20%22round%22%2C%0A%20%20%22lineJoin%22%3A%20%22round%22%2C%0A%20%20%22opacity%22%3A%201.0%2C%0A%20%20%22radius%22%3A%205%2C%0A%20%20%22stroke%22%3A%20true%2C%0A%20%20%22weight%22%3A%203%0A%7D%0A%20%20%20%20%20%20%20%20%20%20%20%20%20%20%20%20%29.addTo%28map_9188f39b62da4390882e4a32ba9eaa7b%29%3B%0A%20%20%20%20%20%20%20%20%20%20%20%20%0A%20%20%20%20%0A%20%20%20%20%20%20%20%20%20%20%20%20var%20popup_8e0cbeecf2b6479d974f44032cea0808%20%3D%20L.popup%28%7BmaxWidth%3A%20%27300%27%7D%29%3B%0A%0A%20%20%20%20%20%20%20%20%20%20%20%20%0A%20%20%20%20%20%20%20%20%20%20%20%20%20%20%20%20var%20html_1c54585e529f4454ada62f6dbd2147a3%20%3D%20%24%28%27%3Cdiv%20id%3D%22html_1c54585e529f4454ada62f6dbd2147a3%22%20style%3D%22width%3A%20100.0%25%3B%20height%3A%20100.0%25%3B%22%3ERoof%20Deck%3C/div%3E%27%29%5B0%5D%3B%0A%20%20%20%20%20%20%20%20%20%20%20%20%20%20%20%20popup_8e0cbeecf2b6479d974f44032cea0808.setContent%28html_1c54585e529f4454ada62f6dbd2147a3%29%3B%0A%20%20%20%20%20%20%20%20%20%20%20%20%0A%0A%20%20%20%20%20%20%20%20%20%20%20%20circle_marker_0201caf0a60b4997909aac02f32df41a.bindPopup%28popup_8e0cbeecf2b6479d974f44032cea0808%29%3B%0A%0A%20%20%20%20%20%20%20%20%20%20%20%20%0A%20%20%20%20%20%20%20%20%0A%20%20%20%20%0A%20%20%20%20%20%20%20%20%20%20%20%20var%20circle_marker_5d6ca9d194aa42f08bd4b15bf06f3c6e%20%3D%20L.circleMarker%28%0A%20%20%20%20%20%20%20%20%20%20%20%20%20%20%20%20%5B48.14833025949782%2C11.567714192451895%5D%2C%0A%20%20%20%20%20%20%20%20%20%20%20%20%20%20%20%20%7B%0A%20%20%22bubblingMouseEvents%22%3A%20true%2C%0A%20%20%22color%22%3A%20%22blue%22%2C%0A%20%20%22dashArray%22%3A%20null%2C%0A%20%20%22dashOffset%22%3A%20null%2C%0A%20%20%22fill%22%3A%20true%2C%0A%20%20%22fillColor%22%3A%20%22blue%22%2C%0A%20%20%22fillOpacity%22%3A%200.6%2C%0A%20%20%22fillRule%22%3A%20%22evenodd%22%2C%0A%20%20%22lineCap%22%3A%20%22round%22%2C%0A%20%20%22lineJoin%22%3A%20%22round%22%2C%0A%20%20%22opacity%22%3A%201.0%2C%0A%20%20%22radius%22%3A%205%2C%0A%20%20%22stroke%22%3A%20true%2C%0A%20%20%22weight%22%3A%203%0A%7D%0A%20%20%20%20%20%20%20%20%20%20%20%20%20%20%20%20%29.addTo%28map_9188f39b62da4390882e4a32ba9eaa7b%29%3B%0A%20%20%20%20%20%20%20%20%20%20%20%20%0A%20%20%20%20%0A%20%20%20%20%20%20%20%20%20%20%20%20var%20popup_63f32c8b8288453ea4bde977e6d14170%20%3D%20L.popup%28%7BmaxWidth%3A%20%27300%27%7D%29%3B%0A%0A%20%20%20%20%20%20%20%20%20%20%20%20%0A%20%20%20%20%20%20%20%20%20%20%20%20%20%20%20%20var%20html_ffe6f277dc2b4db580908aeb16210a84%20%3D%20%24%28%27%3Cdiv%20id%3D%22html_ffe6f277dc2b4db580908aeb16210a84%22%20style%3D%22width%3A%20100.0%25%3B%20height%3A%20100.0%25%3B%22%3EEvent%20Space%3C/div%3E%27%29%5B0%5D%3B%0A%20%20%20%20%20%20%20%20%20%20%20%20%20%20%20%20popup_63f32c8b8288453ea4bde977e6d14170.setContent%28html_ffe6f277dc2b4db580908aeb16210a84%29%3B%0A%20%20%20%20%20%20%20%20%20%20%20%20%0A%0A%20%20%20%20%20%20%20%20%20%20%20%20circle_marker_5d6ca9d194aa42f08bd4b15bf06f3c6e.bindPopup%28popup_63f32c8b8288453ea4bde977e6d14170%29%3B%0A%0A%20%20%20%20%20%20%20%20%20%20%20%20%0A%20%20%20%20%20%20%20%20%0A%20%20%20%20%0A%20%20%20%20%20%20%20%20%20%20%20%20var%20circle_marker_ddaf8b5af6294a6ba48d407de9365618%20%3D%20L.circleMarker%28%0A%20%20%20%20%20%20%20%20%20%20%20%20%20%20%20%20%5B48.14823942183238%2C11.56992075827183%5D%2C%0A%20%20%20%20%20%20%20%20%20%20%20%20%20%20%20%20%7B%0A%20%20%22bubblingMouseEvents%22%3A%20true%2C%0A%20%20%22color%22%3A%20%22blue%22%2C%0A%20%20%22dashArray%22%3A%20null%2C%0A%20%20%22dashOffset%22%3A%20null%2C%0A%20%20%22fill%22%3A%20true%2C%0A%20%20%22fillColor%22%3A%20%22blue%22%2C%0A%20%20%22fillOpacity%22%3A%200.6%2C%0A%20%20%22fillRule%22%3A%20%22evenodd%22%2C%0A%20%20%22lineCap%22%3A%20%22round%22%2C%0A%20%20%22lineJoin%22%3A%20%22round%22%2C%0A%20%20%22opacity%22%3A%201.0%2C%0A%20%20%22radius%22%3A%205%2C%0A%20%20%22stroke%22%3A%20true%2C%0A%20%20%22weight%22%3A%203%0A%7D%0A%20%20%20%20%20%20%20%20%20%20%20%20%20%20%20%20%29.addTo%28map_9188f39b62da4390882e4a32ba9eaa7b%29%3B%0A%20%20%20%20%20%20%20%20%20%20%20%20%0A%20%20%20%20%0A%20%20%20%20%20%20%20%20%20%20%20%20var%20popup_1fa214d5746f45769a76a3dc3fccec90%20%3D%20L.popup%28%7BmaxWidth%3A%20%27300%27%7D%29%3B%0A%0A%20%20%20%20%20%20%20%20%20%20%20%20%0A%20%20%20%20%20%20%20%20%20%20%20%20%20%20%20%20var%20html_b15dc3281c6c4e84a61d34124c40a020%20%3D%20%24%28%27%3Cdiv%20id%3D%22html_b15dc3281c6c4e84a61d34124c40a020%22%20style%3D%22width%3A%20100.0%25%3B%20height%3A%20100.0%25%3B%22%3EArt%20Museum%3C/div%3E%27%29%5B0%5D%3B%0A%20%20%20%20%20%20%20%20%20%20%20%20%20%20%20%20popup_1fa214d5746f45769a76a3dc3fccec90.setContent%28html_b15dc3281c6c4e84a61d34124c40a020%29%3B%0A%20%20%20%20%20%20%20%20%20%20%20%20%0A%0A%20%20%20%20%20%20%20%20%20%20%20%20circle_marker_ddaf8b5af6294a6ba48d407de9365618.bindPopup%28popup_1fa214d5746f45769a76a3dc3fccec90%29%3B%0A%0A%20%20%20%20%20%20%20%20%20%20%20%20%0A%20%20%20%20%20%20%20%20%0A%20%20%20%20%0A%20%20%20%20%20%20%20%20%20%20%20%20var%20circle_marker_3e013a79405e410482a573790a9daed4%20%3D%20L.circleMarker%28%0A%20%20%20%20%20%20%20%20%20%20%20%20%20%20%20%20%5B48.14697573919038%2C11.591128706932068%5D%2C%0A%20%20%20%20%20%20%20%20%20%20%20%20%20%20%20%20%7B%0A%20%20%22bubblingMouseEvents%22%3A%20true%2C%0A%20%20%22color%22%3A%20%22blue%22%2C%0A%20%20%22dashArray%22%3A%20null%2C%0A%20%20%22dashOffset%22%3A%20null%2C%0A%20%20%22fill%22%3A%20true%2C%0A%20%20%22fillColor%22%3A%20%22blue%22%2C%0A%20%20%22fillOpacity%22%3A%200.6%2C%0A%20%20%22fillRule%22%3A%20%22evenodd%22%2C%0A%20%20%22lineCap%22%3A%20%22round%22%2C%0A%20%20%22lineJoin%22%3A%20%22round%22%2C%0A%20%20%22opacity%22%3A%201.0%2C%0A%20%20%22radius%22%3A%205%2C%0A%20%20%22stroke%22%3A%20true%2C%0A%20%20%22weight%22%3A%203%0A%7D%0A%20%20%20%20%20%20%20%20%20%20%20%20%20%20%20%20%29.addTo%28map_9188f39b62da4390882e4a32ba9eaa7b%29%3B%0A%20%20%20%20%20%20%20%20%20%20%20%20%0A%20%20%20%20%0A%20%20%20%20%20%20%20%20%20%20%20%20var%20popup_c6293bb7b5f140d7ad2dc7400cfb5f57%20%3D%20L.popup%28%7BmaxWidth%3A%20%27300%27%7D%29%3B%0A%0A%20%20%20%20%20%20%20%20%20%20%20%20%0A%20%20%20%20%20%20%20%20%20%20%20%20%20%20%20%20var%20html_23719ae6483f4a1fb5e88947deb85431%20%3D%20%24%28%27%3Cdiv%20id%3D%22html_23719ae6483f4a1fb5e88947deb85431%22%20style%3D%22width%3A%20100.0%25%3B%20height%3A%20100.0%25%3B%22%3ERiver%3C/div%3E%27%29%5B0%5D%3B%0A%20%20%20%20%20%20%20%20%20%20%20%20%20%20%20%20popup_c6293bb7b5f140d7ad2dc7400cfb5f57.setContent%28html_23719ae6483f4a1fb5e88947deb85431%29%3B%0A%20%20%20%20%20%20%20%20%20%20%20%20%0A%0A%20%20%20%20%20%20%20%20%20%20%20%20circle_marker_3e013a79405e410482a573790a9daed4.bindPopup%28popup_c6293bb7b5f140d7ad2dc7400cfb5f57%29%3B%0A%0A%20%20%20%20%20%20%20%20%20%20%20%20%0A%20%20%20%20%20%20%20%20%0A%20%20%20%20%0A%20%20%20%20%20%20%20%20%20%20%20%20var%20circle_marker_2495d9210606483499bcf4a366e1e0b9%20%3D%20L.circleMarker%28%0A%20%20%20%20%20%20%20%20%20%20%20%20%20%20%20%20%5B48.144107%2C11.586004%5D%2C%0A%20%20%20%20%20%20%20%20%20%20%20%20%20%20%20%20%7B%0A%20%20%22bubblingMouseEvents%22%3A%20true%2C%0A%20%20%22color%22%3A%20%22blue%22%2C%0A%20%20%22dashArray%22%3A%20null%2C%0A%20%20%22dashOffset%22%3A%20null%2C%0A%20%20%22fill%22%3A%20true%2C%0A%20%20%22fillColor%22%3A%20%22blue%22%2C%0A%20%20%22fillOpacity%22%3A%200.6%2C%0A%20%20%22fillRule%22%3A%20%22evenodd%22%2C%0A%20%20%22lineCap%22%3A%20%22round%22%2C%0A%20%20%22lineJoin%22%3A%20%22round%22%2C%0A%20%20%22opacity%22%3A%201.0%2C%0A%20%20%22radius%22%3A%205%2C%0A%20%20%22stroke%22%3A%20true%2C%0A%20%20%22weight%22%3A%203%0A%7D%0A%20%20%20%20%20%20%20%20%20%20%20%20%20%20%20%20%29.addTo%28map_9188f39b62da4390882e4a32ba9eaa7b%29%3B%0A%20%20%20%20%20%20%20%20%20%20%20%20%0A%20%20%20%20%0A%20%20%20%20%20%20%20%20%20%20%20%20var%20popup_fa15d7015be042f79d1a2def99ee6679%20%3D%20L.popup%28%7BmaxWidth%3A%20%27300%27%7D%29%3B%0A%0A%20%20%20%20%20%20%20%20%20%20%20%20%0A%20%20%20%20%20%20%20%20%20%20%20%20%20%20%20%20var%20html_331f0ec04835493485ddf51dd390c91e%20%3D%20%24%28%27%3Cdiv%20id%3D%22html_331f0ec04835493485ddf51dd390c91e%22%20style%3D%22width%3A%20100.0%25%3B%20height%3A%20100.0%25%3B%22%3ECocktail%20Bar%3C/div%3E%27%29%5B0%5D%3B%0A%20%20%20%20%20%20%20%20%20%20%20%20%20%20%20%20popup_fa15d7015be042f79d1a2def99ee6679.setContent%28html_331f0ec04835493485ddf51dd390c91e%29%3B%0A%20%20%20%20%20%20%20%20%20%20%20%20%0A%0A%20%20%20%20%20%20%20%20%20%20%20%20circle_marker_2495d9210606483499bcf4a366e1e0b9.bindPopup%28popup_fa15d7015be042f79d1a2def99ee6679%29%3B%0A%0A%20%20%20%20%20%20%20%20%20%20%20%20%0A%20%20%20%20%20%20%20%20%0A%20%20%20%20%0A%20%20%20%20%20%20%20%20%20%20%20%20var%20circle_marker_4c0fa30b2dd14673a3c58fb194652b19%20%3D%20L.circleMarker%28%0A%20%20%20%20%20%20%20%20%20%20%20%20%20%20%20%20%5B48.16088601190847%2C11.58309636715156%5D%2C%0A%20%20%20%20%20%20%20%20%20%20%20%20%20%20%20%20%7B%0A%20%20%22bubblingMouseEvents%22%3A%20true%2C%0A%20%20%22color%22%3A%20%22blue%22%2C%0A%20%20%22dashArray%22%3A%20null%2C%0A%20%20%22dashOffset%22%3A%20null%2C%0A%20%20%22fill%22%3A%20true%2C%0A%20%20%22fillColor%22%3A%20%22blue%22%2C%0A%20%20%22fillOpacity%22%3A%200.6%2C%0A%20%20%22fillRule%22%3A%20%22evenodd%22%2C%0A%20%20%22lineCap%22%3A%20%22round%22%2C%0A%20%20%22lineJoin%22%3A%20%22round%22%2C%0A%20%20%22opacity%22%3A%201.0%2C%0A%20%20%22radius%22%3A%205%2C%0A%20%20%22stroke%22%3A%20true%2C%0A%20%20%22weight%22%3A%203%0A%7D%0A%20%20%20%20%20%20%20%20%20%20%20%20%20%20%20%20%29.addTo%28map_9188f39b62da4390882e4a32ba9eaa7b%29%3B%0A%20%20%20%20%20%20%20%20%20%20%20%20%0A%20%20%20%20%0A%20%20%20%20%20%20%20%20%20%20%20%20var%20popup_97849deda60e40d69ed45bb089fc0a02%20%3D%20L.popup%28%7BmaxWidth%3A%20%27300%27%7D%29%3B%0A%0A%20%20%20%20%20%20%20%20%20%20%20%20%0A%20%20%20%20%20%20%20%20%20%20%20%20%20%20%20%20var%20html_4bf2b1f8d77f425891ab07e54e0550e6%20%3D%20%24%28%27%3Cdiv%20id%3D%22html_4bf2b1f8d77f425891ab07e54e0550e6%22%20style%3D%22width%3A%20100.0%25%3B%20height%3A%20100.0%25%3B%22%3EIce%20Cream%20Shop%3C/div%3E%27%29%5B0%5D%3B%0A%20%20%20%20%20%20%20%20%20%20%20%20%20%20%20%20popup_97849deda60e40d69ed45bb089fc0a02.setContent%28html_4bf2b1f8d77f425891ab07e54e0550e6%29%3B%0A%20%20%20%20%20%20%20%20%20%20%20%20%0A%0A%20%20%20%20%20%20%20%20%20%20%20%20circle_marker_4c0fa30b2dd14673a3c58fb194652b19.bindPopup%28popup_97849deda60e40d69ed45bb089fc0a02%29%3B%0A%0A%20%20%20%20%20%20%20%20%20%20%20%20%0A%20%20%20%20%20%20%20%20%0A%20%20%20%20%0A%20%20%20%20%20%20%20%20%20%20%20%20var%20circle_marker_bd74ac7f820b4a739c115fdd85626a54%20%3D%20L.circleMarker%28%0A%20%20%20%20%20%20%20%20%20%20%20%20%20%20%20%20%5B48.145642%2C11.58269%5D%2C%0A%20%20%20%20%20%20%20%20%20%20%20%20%20%20%20%20%7B%0A%20%20%22bubblingMouseEvents%22%3A%20true%2C%0A%20%20%22color%22%3A%20%22blue%22%2C%0A%20%20%22dashArray%22%3A%20null%2C%0A%20%20%22dashOffset%22%3A%20null%2C%0A%20%20%22fill%22%3A%20true%2C%0A%20%20%22fillColor%22%3A%20%22blue%22%2C%0A%20%20%22fillOpacity%22%3A%200.6%2C%0A%20%20%22fillRule%22%3A%20%22evenodd%22%2C%0A%20%20%22lineCap%22%3A%20%22round%22%2C%0A%20%20%22lineJoin%22%3A%20%22round%22%2C%0A%20%20%22opacity%22%3A%201.0%2C%0A%20%20%22radius%22%3A%205%2C%0A%20%20%22stroke%22%3A%20true%2C%0A%20%20%22weight%22%3A%203%0A%7D%0A%20%20%20%20%20%20%20%20%20%20%20%20%20%20%20%20%29.addTo%28map_9188f39b62da4390882e4a32ba9eaa7b%29%3B%0A%20%20%20%20%20%20%20%20%20%20%20%20%0A%20%20%20%20%0A%20%20%20%20%20%20%20%20%20%20%20%20var%20popup_2f027508bf2044a58bfb9236de224e56%20%3D%20L.popup%28%7BmaxWidth%3A%20%27300%27%7D%29%3B%0A%0A%20%20%20%20%20%20%20%20%20%20%20%20%0A%20%20%20%20%20%20%20%20%20%20%20%20%20%20%20%20var%20html_d09553e34e454257b2243309354245a1%20%3D%20%24%28%27%3Cdiv%20id%3D%22html_d09553e34e454257b2243309354245a1%22%20style%3D%22width%3A%20100.0%25%3B%20height%3A%20100.0%25%3B%22%3EItalian%20Restaurant%3C/div%3E%27%29%5B0%5D%3B%0A%20%20%20%20%20%20%20%20%20%20%20%20%20%20%20%20popup_2f027508bf2044a58bfb9236de224e56.setContent%28html_d09553e34e454257b2243309354245a1%29%3B%0A%20%20%20%20%20%20%20%20%20%20%20%20%0A%0A%20%20%20%20%20%20%20%20%20%20%20%20circle_marker_bd74ac7f820b4a739c115fdd85626a54.bindPopup%28popup_2f027508bf2044a58bfb9236de224e56%29%3B%0A%0A%20%20%20%20%20%20%20%20%20%20%20%20%0A%20%20%20%20%20%20%20%20%0A%20%20%20%20%0A%20%20%20%20%20%20%20%20%20%20%20%20var%20circle_marker_a0be0c54c4b44d6d9d38fd446e06018e%20%3D%20L.circleMarker%28%0A%20%20%20%20%20%20%20%20%20%20%20%20%20%20%20%20%5B48.14243330316378%2C11.577561989688498%5D%2C%0A%20%20%20%20%20%20%20%20%20%20%20%20%20%20%20%20%7B%0A%20%20%22bubblingMouseEvents%22%3A%20true%2C%0A%20%20%22color%22%3A%20%22blue%22%2C%0A%20%20%22dashArray%22%3A%20null%2C%0A%20%20%22dashOffset%22%3A%20null%2C%0A%20%20%22fill%22%3A%20true%2C%0A%20%20%22fillColor%22%3A%20%22blue%22%2C%0A%20%20%22fillOpacity%22%3A%200.6%2C%0A%20%20%22fillRule%22%3A%20%22evenodd%22%2C%0A%20%20%22lineCap%22%3A%20%22round%22%2C%0A%20%20%22lineJoin%22%3A%20%22round%22%2C%0A%20%20%22opacity%22%3A%201.0%2C%0A%20%20%22radius%22%3A%205%2C%0A%20%20%22stroke%22%3A%20true%2C%0A%20%20%22weight%22%3A%203%0A%7D%0A%20%20%20%20%20%20%20%20%20%20%20%20%20%20%20%20%29.addTo%28map_9188f39b62da4390882e4a32ba9eaa7b%29%3B%0A%20%20%20%20%20%20%20%20%20%20%20%20%0A%20%20%20%20%0A%20%20%20%20%20%20%20%20%20%20%20%20var%20popup_acbccc6d65094d87876b81417ed73d86%20%3D%20L.popup%28%7BmaxWidth%3A%20%27300%27%7D%29%3B%0A%0A%20%20%20%20%20%20%20%20%20%20%20%20%0A%20%20%20%20%20%20%20%20%20%20%20%20%20%20%20%20var%20html_90329883a7654dc8bf48dc18adf3e542%20%3D%20%24%28%27%3Cdiv%20id%3D%22html_90329883a7654dc8bf48dc18adf3e542%22%20style%3D%22width%3A%20100.0%25%3B%20height%3A%20100.0%25%3B%22%3EPlaza%3C/div%3E%27%29%5B0%5D%3B%0A%20%20%20%20%20%20%20%20%20%20%20%20%20%20%20%20popup_acbccc6d65094d87876b81417ed73d86.setContent%28html_90329883a7654dc8bf48dc18adf3e542%29%3B%0A%20%20%20%20%20%20%20%20%20%20%20%20%0A%0A%20%20%20%20%20%20%20%20%20%20%20%20circle_marker_a0be0c54c4b44d6d9d38fd446e06018e.bindPopup%28popup_acbccc6d65094d87876b81417ed73d86%29%3B%0A%0A%20%20%20%20%20%20%20%20%20%20%20%20%0A%20%20%20%20%20%20%20%20%0A%20%20%20%20%0A%20%20%20%20%20%20%20%20%20%20%20%20var%20circle_marker_068a132966834fa9bfbb1dd42f5adb83%20%3D%20L.circleMarker%28%0A%20%20%20%20%20%20%20%20%20%20%20%20%20%20%20%20%5B48.14353237732221%2C11.587754487991333%5D%2C%0A%20%20%20%20%20%20%20%20%20%20%20%20%20%20%20%20%7B%0A%20%20%22bubblingMouseEvents%22%3A%20true%2C%0A%20%20%22color%22%3A%20%22blue%22%2C%0A%20%20%22dashArray%22%3A%20null%2C%0A%20%20%22dashOffset%22%3A%20null%2C%0A%20%20%22fill%22%3A%20true%2C%0A%20%20%22fillColor%22%3A%20%22blue%22%2C%0A%20%20%22fillOpacity%22%3A%200.6%2C%0A%20%20%22fillRule%22%3A%20%22evenodd%22%2C%0A%20%20%22lineCap%22%3A%20%22round%22%2C%0A%20%20%22lineJoin%22%3A%20%22round%22%2C%0A%20%20%22opacity%22%3A%201.0%2C%0A%20%20%22radius%22%3A%205%2C%0A%20%20%22stroke%22%3A%20true%2C%0A%20%20%22weight%22%3A%203%0A%7D%0A%20%20%20%20%20%20%20%20%20%20%20%20%20%20%20%20%29.addTo%28map_9188f39b62da4390882e4a32ba9eaa7b%29%3B%0A%20%20%20%20%20%20%20%20%20%20%20%20%0A%20%20%20%20%0A%20%20%20%20%20%20%20%20%20%20%20%20var%20popup_cf2f72ae07da4b628cb64be290f97f7e%20%3D%20L.popup%28%7BmaxWidth%3A%20%27300%27%7D%29%3B%0A%0A%20%20%20%20%20%20%20%20%20%20%20%20%0A%20%20%20%20%20%20%20%20%20%20%20%20%20%20%20%20var%20html_3012715a53764f3c88efc17073a3bf69%20%3D%20%24%28%27%3Cdiv%20id%3D%22html_3012715a53764f3c88efc17073a3bf69%22%20style%3D%22width%3A%20100.0%25%3B%20height%3A%20100.0%25%3B%22%3ESurf%20Spot%3C/div%3E%27%29%5B0%5D%3B%0A%20%20%20%20%20%20%20%20%20%20%20%20%20%20%20%20popup_cf2f72ae07da4b628cb64be290f97f7e.setContent%28html_3012715a53764f3c88efc17073a3bf69%29%3B%0A%20%20%20%20%20%20%20%20%20%20%20%20%0A%0A%20%20%20%20%20%20%20%20%20%20%20%20circle_marker_068a132966834fa9bfbb1dd42f5adb83.bindPopup%28popup_cf2f72ae07da4b628cb64be290f97f7e%29%3B%0A%0A%20%20%20%20%20%20%20%20%20%20%20%20%0A%20%20%20%20%20%20%20%20%0A%20%20%20%20%0A%20%20%20%20%20%20%20%20%20%20%20%20var%20circle_marker_f5c7b82962f54732a531937baa6ec823%20%3D%20L.circleMarker%28%0A%20%20%20%20%20%20%20%20%20%20%20%20%20%20%20%20%5B48.14792291715115%2C11.592358967249984%5D%2C%0A%20%20%20%20%20%20%20%20%20%20%20%20%20%20%20%20%7B%0A%20%20%22bubblingMouseEvents%22%3A%20true%2C%0A%20%20%22color%22%3A%20%22blue%22%2C%0A%20%20%22dashArray%22%3A%20null%2C%0A%20%20%22dashOffset%22%3A%20null%2C%0A%20%20%22fill%22%3A%20true%2C%0A%20%20%22fillColor%22%3A%20%22blue%22%2C%0A%20%20%22fillOpacity%22%3A%200.6%2C%0A%20%20%22fillRule%22%3A%20%22evenodd%22%2C%0A%20%20%22lineCap%22%3A%20%22round%22%2C%0A%20%20%22lineJoin%22%3A%20%22round%22%2C%0A%20%20%22opacity%22%3A%201.0%2C%0A%20%20%22radius%22%3A%205%2C%0A%20%20%22stroke%22%3A%20true%2C%0A%20%20%22weight%22%3A%203%0A%7D%0A%20%20%20%20%20%20%20%20%20%20%20%20%20%20%20%20%29.addTo%28map_9188f39b62da4390882e4a32ba9eaa7b%29%3B%0A%20%20%20%20%20%20%20%20%20%20%20%20%0A%20%20%20%20%0A%20%20%20%20%20%20%20%20%20%20%20%20var%20popup_f592cf3f6282499981b20ff4ab9e5113%20%3D%20L.popup%28%7BmaxWidth%3A%20%27300%27%7D%29%3B%0A%0A%20%20%20%20%20%20%20%20%20%20%20%20%0A%20%20%20%20%20%20%20%20%20%20%20%20%20%20%20%20var%20html_4bf95905a5dd47838edfbc681ad1f4ee%20%3D%20%24%28%27%3Cdiv%20id%3D%22html_4bf95905a5dd47838edfbc681ad1f4ee%22%20style%3D%22width%3A%20100.0%25%3B%20height%3A%20100.0%25%3B%22%3ESurf%20Spot%3C/div%3E%27%29%5B0%5D%3B%0A%20%20%20%20%20%20%20%20%20%20%20%20%20%20%20%20popup_f592cf3f6282499981b20ff4ab9e5113.setContent%28html_4bf95905a5dd47838edfbc681ad1f4ee%29%3B%0A%20%20%20%20%20%20%20%20%20%20%20%20%0A%0A%20%20%20%20%20%20%20%20%20%20%20%20circle_marker_f5c7b82962f54732a531937baa6ec823.bindPopup%28popup_f592cf3f6282499981b20ff4ab9e5113%29%3B%0A%0A%20%20%20%20%20%20%20%20%20%20%20%20%0A%20%20%20%20%20%20%20%20%0A%20%20%20%20%0A%20%20%20%20%20%20%20%20%20%20%20%20var%20circle_marker_95e9bdfd87c44bd6bdbc499eaaa5024a%20%3D%20L.circleMarker%28%0A%20%20%20%20%20%20%20%20%20%20%20%20%20%20%20%20%5B48.15427001738938%2C11.567889375645777%5D%2C%0A%20%20%20%20%20%20%20%20%20%20%20%20%20%20%20%20%7B%0A%20%20%22bubblingMouseEvents%22%3A%20true%2C%0A%20%20%22color%22%3A%20%22blue%22%2C%0A%20%20%22dashArray%22%3A%20null%2C%0A%20%20%22dashOffset%22%3A%20null%2C%0A%20%20%22fill%22%3A%20true%2C%0A%20%20%22fillColor%22%3A%20%22blue%22%2C%0A%20%20%22fillOpacity%22%3A%200.6%2C%0A%20%20%22fillRule%22%3A%20%22evenodd%22%2C%0A%20%20%22lineCap%22%3A%20%22round%22%2C%0A%20%20%22lineJoin%22%3A%20%22round%22%2C%0A%20%20%22opacity%22%3A%201.0%2C%0A%20%20%22radius%22%3A%205%2C%0A%20%20%22stroke%22%3A%20true%2C%0A%20%20%22weight%22%3A%203%0A%7D%0A%20%20%20%20%20%20%20%20%20%20%20%20%20%20%20%20%29.addTo%28map_9188f39b62da4390882e4a32ba9eaa7b%29%3B%0A%20%20%20%20%20%20%20%20%20%20%20%20%0A%20%20%20%20%0A%20%20%20%20%20%20%20%20%20%20%20%20var%20popup_3335f6c4b3ab4c70b1b23baf4f12f264%20%3D%20L.popup%28%7BmaxWidth%3A%20%27300%27%7D%29%3B%0A%0A%20%20%20%20%20%20%20%20%20%20%20%20%0A%20%20%20%20%20%20%20%20%20%20%20%20%20%20%20%20var%20html_89983c16714b4a8db7ba923a84dacb75%20%3D%20%24%28%27%3Cdiv%20id%3D%22html_89983c16714b4a8db7ba923a84dacb75%22%20style%3D%22width%3A%20100.0%25%3B%20height%3A%20100.0%25%3B%22%3EItalian%20Restaurant%3C/div%3E%27%29%5B0%5D%3B%0A%20%20%20%20%20%20%20%20%20%20%20%20%20%20%20%20popup_3335f6c4b3ab4c70b1b23baf4f12f264.setContent%28html_89983c16714b4a8db7ba923a84dacb75%29%3B%0A%20%20%20%20%20%20%20%20%20%20%20%20%0A%0A%20%20%20%20%20%20%20%20%20%20%20%20circle_marker_95e9bdfd87c44bd6bdbc499eaaa5024a.bindPopup%28popup_3335f6c4b3ab4c70b1b23baf4f12f264%29%3B%0A%0A%20%20%20%20%20%20%20%20%20%20%20%20%0A%20%20%20%20%20%20%20%20%0A%3C/script%3E onload=\"this.contentDocument.open();this.contentDocument.write(    decodeURIComponent(this.getAttribute('data-html')));this.contentDocument.close();\" allowfullscreen webkitallowfullscreen mozallowfullscreen></iframe></div></div>"
      ],
      "text/plain": [
       "<folium.folium.Map at 0x7fb74e471040>"
      ]
     },
     "execution_count": 61,
     "metadata": {},
     "output_type": "execute_result"
    }
   ],
   "source": [
    "venues_map = folium.Map(location=[latitude, longitude], zoom_start=15) # generate map centred around Ecco\n",
    "\n",
    "\n",
    "# add Bar Tapas as a red circle mark\n",
    "folium.CircleMarker(\n",
    "    [latitude, longitude],\n",
    "    radius=10,\n",
    "    popup='Ecco',\n",
    "    fill=True,\n",
    "    color='red',\n",
    "    fill_color='red',\n",
    "    fill_opacity=0.6\n",
    "    ).add_to(venues_map)\n",
    "\n",
    "\n",
    "# add popular spots to the map as blue circle markers\n",
    "for lat, lng, label in zip(dataframe_filtered.lat, dataframe_filtered.lng, dataframe_filtered.categories):\n",
    "    folium.CircleMarker(\n",
    "        [lat, lng],\n",
    "        radius=5,\n",
    "        popup=label,\n",
    "        fill=True,\n",
    "        color='blue',\n",
    "        fill_color='blue',\n",
    "        fill_opacity=0.6\n",
    "        ).add_to(venues_map)\n",
    "\n",
    "# display map\n",
    "venues_map"
   ]
  },
  {
   "cell_type": "markdown",
   "metadata": {
    "button": false,
    "new_sheet": false,
    "run_control": {
     "read_only": false
    }
   },
   "source": [
    "\n"
   ]
  },
  {
   "cell_type": "markdown",
   "metadata": {
    "button": false,
    "new_sheet": false,
    "run_control": {
     "read_only": false
    }
   },
   "source": [
    "<a id=\"item5\"></a>\n"
   ]
  },
  {
   "cell_type": "markdown",
   "metadata": {
    "button": false,
    "new_sheet": false,
    "run_control": {
     "read_only": false
    }
   },
   "source": [
    "## 5. Explore Trending Venues\n",
    "\n",
    "> `https://api.foursquare.com/v2/venues/`**trending**`?client_id=`**CLIENT_ID**`&client_secret=`**CLIENT_SECRET**`&ll=`**LATITUDE**`,`**LONGITUDE**`&v=`**VERSION**\n"
   ]
  },
  {
   "cell_type": "code",
   "execution_count": 62,
   "metadata": {
    "button": false,
    "jupyter": {
     "outputs_hidden": false
    },
    "new_sheet": false,
    "run_control": {
     "read_only": false
    }
   },
   "outputs": [
    {
     "data": {
      "text/plain": [
       "{'meta': {'code': 200, 'requestId': '6037ebc46f8cdb75ef8c42e6'},\n",
       " 'response': {'venues': []}}"
      ]
     },
     "execution_count": 62,
     "metadata": {},
     "output_type": "execute_result"
    }
   ],
   "source": [
    "# define URL\n",
    "url = 'https://api.foursquare.com/v2/venues/trending?client_id={}&client_secret={}&ll={},{}&v={}'.format(CLIENT_ID, CLIENT_SECRET, latitude, longitude, VERSION)\n",
    "\n",
    "# send GET request and get trending venues\n",
    "results = requests.get(url).json()\n",
    "results"
   ]
  },
  {
   "cell_type": "markdown",
   "metadata": {
    "button": false,
    "new_sheet": false,
    "run_control": {
     "read_only": false
    }
   },
   "source": [
    "### Check if any venues are trending at this time\n"
   ]
  },
  {
   "cell_type": "code",
   "execution_count": 63,
   "metadata": {
    "button": false,
    "jupyter": {
     "outputs_hidden": true
    },
    "new_sheet": false,
    "run_control": {
     "read_only": false
    }
   },
   "outputs": [],
   "source": [
    "if len(results['response']['venues']) == 0:\n",
    "    trending_venues_df = 'No trending venues are available at the moment!'\n",
    "    \n",
    "else:\n",
    "    trending_venues = results['response']['venues']\n",
    "    trending_venues_df = json_normalize(trending_venues)\n",
    "\n",
    "    # filter columns\n",
    "    columns_filtered = ['name', 'categories'] + ['location.distance', 'location.city', 'location.postalCode', 'location.state', 'location.country', 'location.lat', 'location.lng']\n",
    "    trending_venues_df = trending_venues_df.loc[:, columns_filtered]\n",
    "\n",
    "    # filter the category for each row\n",
    "    trending_venues_df['categories'] = trending_venues_df.apply(get_category_type, axis=1)"
   ]
  },
  {
   "cell_type": "code",
   "execution_count": 64,
   "metadata": {
    "button": false,
    "jupyter": {
     "outputs_hidden": false
    },
    "new_sheet": false,
    "run_control": {
     "read_only": false
    }
   },
   "outputs": [
    {
     "data": {
      "text/plain": [
       "'No trending venues are available at the moment!'"
      ]
     },
     "execution_count": 64,
     "metadata": {},
     "output_type": "execute_result"
    }
   ],
   "source": [
    "# display trending venues\n",
    "trending_venues_df"
   ]
  },
  {
   "cell_type": "markdown",
   "metadata": {
    "button": false,
    "new_sheet": false,
    "run_control": {
     "read_only": false
    }
   },
   "source": [
    "Now, depending on when you run the above code, you might get different venues since the venues with the highest foot traffic are fetched live. \n"
   ]
  },
  {
   "cell_type": "markdown",
   "metadata": {
    "button": false,
    "new_sheet": false,
    "run_control": {
     "read_only": false
    }
   },
   "source": [
    "### Visualize trending venues\n"
   ]
  },
  {
   "cell_type": "code",
   "execution_count": 65,
   "metadata": {
    "button": false,
    "jupyter": {
     "outputs_hidden": false
    },
    "new_sheet": false,
    "run_control": {
     "read_only": false
    }
   },
   "outputs": [],
   "source": [
    "if len(results['response']['venues']) == 0:\n",
    "    venues_map = 'Cannot generate visual as no trending venues are available at the moment!'\n",
    "\n",
    "else:\n",
    "    venues_map = folium.Map(location=[latitude, longitude], zoom_start=15) # generate map centred around Ecco\n",
    "\n",
    "\n",
    "    # add Ecco as a red circle mark\n",
    "    folium.CircleMarker(\n",
    "        [latitude, longitude],\n",
    "        radius=10,\n",
    "        popup='Ecco',\n",
    "        fill=True,\n",
    "        color='red',\n",
    "        fill_color='red',\n",
    "        fill_opacity=0.6\n",
    "    ).add_to(venues_map)\n",
    "\n",
    "\n",
    "    # add the trending venues as blue circle markers\n",
    "    for lat, lng, label in zip(trending_venues_df['location.lat'], trending_venues_df['location.lng'], trending_venues_df['name']):\n",
    "        folium.CircleMarker(\n",
    "            [lat, lng],\n",
    "            radius=5,\n",
    "            poup=label,\n",
    "            fill=True,\n",
    "            color='blue',\n",
    "            fill_color='blue',\n",
    "            fill_opacity=0.6\n",
    "        ).add_to(venues_map)"
   ]
  },
  {
   "cell_type": "code",
   "execution_count": 66,
   "metadata": {
    "button": false,
    "jupyter": {
     "outputs_hidden": false
    },
    "new_sheet": false,
    "run_control": {
     "read_only": false
    },
    "scrolled": true
   },
   "outputs": [
    {
     "data": {
      "text/plain": [
       "'Cannot generate visual as no trending venues are available at the moment!'"
      ]
     },
     "execution_count": 66,
     "metadata": {},
     "output_type": "execute_result"
    }
   ],
   "source": [
    "# display map\n",
    "venues_map"
   ]
  },
  {
   "cell_type": "markdown",
   "metadata": {
    "button": false,
    "new_sheet": false,
    "run_control": {
     "read_only": false
    }
   },
   "source": [
    "<a id=\"item6\"></a>\n"
   ]
  },
  {
   "cell_type": "markdown",
   "metadata": {
    "button": false,
    "new_sheet": false,
    "run_control": {
     "read_only": false
    }
   },
   "source": [
    "\n"
   ]
  }
 ],
 "metadata": {
  "kernelspec": {
   "display_name": "Python 3",
   "language": "python",
   "name": "python3"
  },
  "language_info": {
   "codemirror_mode": {
    "name": "ipython",
    "version": 3
   },
   "file_extension": ".py",
   "mimetype": "text/x-python",
   "name": "python",
   "nbconvert_exporter": "python",
   "pygments_lexer": "ipython3",
   "version": "3.8.5"
  },
  "widgets": {
   "state": {},
   "version": "1.1.2"
  }
 },
 "nbformat": 4,
 "nbformat_minor": 4
}
